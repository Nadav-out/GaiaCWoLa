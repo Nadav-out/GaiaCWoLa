{
 "cells": [
  {
   "cell_type": "code",
   "execution_count": 1,
   "metadata": {},
   "outputs": [],
   "source": [
    "import numpy as np\n",
    "import matplotlib\n",
    "import matplotlib.pyplot as plt"
   ]
  },
  {
   "cell_type": "code",
   "execution_count": 2,
   "metadata": {},
   "outputs": [
    {
     "name": "stderr",
     "output_type": "stream",
     "text": [
      "Using TensorFlow backend.\n",
      "/opt/anaconda3/envs/shared_env/lib/python3.6/site-packages/tensorflow/python/framework/dtypes.py:523: FutureWarning: Passing (type, 1) or '1type' as a synonym of type is deprecated; in a future version of numpy, it will be understood as (type, (1,)) / '(1,)type'.\n",
      "  _np_qint8 = np.dtype([(\"qint8\", np.int8, 1)])\n",
      "/opt/anaconda3/envs/shared_env/lib/python3.6/site-packages/tensorflow/python/framework/dtypes.py:524: FutureWarning: Passing (type, 1) or '1type' as a synonym of type is deprecated; in a future version of numpy, it will be understood as (type, (1,)) / '(1,)type'.\n",
      "  _np_quint8 = np.dtype([(\"quint8\", np.uint8, 1)])\n",
      "/opt/anaconda3/envs/shared_env/lib/python3.6/site-packages/tensorflow/python/framework/dtypes.py:525: FutureWarning: Passing (type, 1) or '1type' as a synonym of type is deprecated; in a future version of numpy, it will be understood as (type, (1,)) / '(1,)type'.\n",
      "  _np_qint16 = np.dtype([(\"qint16\", np.int16, 1)])\n",
      "/opt/anaconda3/envs/shared_env/lib/python3.6/site-packages/tensorflow/python/framework/dtypes.py:526: FutureWarning: Passing (type, 1) or '1type' as a synonym of type is deprecated; in a future version of numpy, it will be understood as (type, (1,)) / '(1,)type'.\n",
      "  _np_quint16 = np.dtype([(\"quint16\", np.uint16, 1)])\n",
      "/opt/anaconda3/envs/shared_env/lib/python3.6/site-packages/tensorflow/python/framework/dtypes.py:527: FutureWarning: Passing (type, 1) or '1type' as a synonym of type is deprecated; in a future version of numpy, it will be understood as (type, (1,)) / '(1,)type'.\n",
      "  _np_qint32 = np.dtype([(\"qint32\", np.int32, 1)])\n",
      "/opt/anaconda3/envs/shared_env/lib/python3.6/site-packages/tensorflow/python/framework/dtypes.py:532: FutureWarning: Passing (type, 1) or '1type' as a synonym of type is deprecated; in a future version of numpy, it will be understood as (type, (1,)) / '(1,)type'.\n",
      "  np_resource = np.dtype([(\"resource\", np.ubyte, 1)])\n"
     ]
    }
   ],
   "source": [
    "from keras.layers import Input, Dense, Dropout\n",
    "from keras.models import Model, Sequential\n",
    "from sklearn.metrics import roc_curve, auc,roc_auc_score\n",
    "from sklearn.model_selection import train_test_split\n",
    "import pandas as pd\n",
    "from matplotlib import gridspec\n",
    "from scipy import stats\n",
    "from sklearn import preprocessing\n",
    "import os\n",
    "import keras\n",
    "os.environ[\"CUDA_VISIBLE_DEVICES\"]=\"2\"\n",
    "import random\n",
    "from sklearn.model_selection import KFold\n",
    "\n",
    "import tensorflow as tf\n",
    "gpu_options = tf.GPUOptions(allow_growth=True, per_process_gpu_memory_fraction=0.5)\n",
    "sess = tf.Session(config=tf.ConfigProto(gpu_options=gpu_options))"
   ]
  },
  {
   "cell_type": "markdown",
   "metadata": {},
   "source": [
    "### Functions"
   ]
  },
  {
   "cell_type": "code",
   "execution_count": 3,
   "metadata": {},
   "outputs": [],
   "source": [
    "def build_data_arrays(SR, SB, gaiadata2):\n",
    "    X = SR[:,3]-center_ra\n",
    "    Y = SR[:,2]-center_dec\n",
    "\n",
    "    Xb = SB[:,3]-center_ra\n",
    "    Yb = SB[:,2]-center_dec\n",
    "    \n",
    "    Xad = gaiadata2[:, 3]-center_ra\n",
    "    Yad = gaiadata2[:, 2]-center_dec\n",
    "\n",
    "    SR = np.c_[SR[:,0],SR[:,1],X, Y, SR[:,4],SR[:,5]]\n",
    "    SB = np.c_[SB[:,0],SB[:,1],Xb, Yb, SB[:,4],SB[:,5]]\n",
    "    gaiadata2 = np.c_[gaiadata2[:,0],gaiadata2[:,1], Xad, Yad, gaiadata2[:,4],gaiadata2[:,5]]\n",
    "    \n",
    "    return SR, SB, gaiadata2"
   ]
  },
  {
   "cell_type": "code",
   "execution_count": 4,
   "metadata": {},
   "outputs": [],
   "source": [
    "threshold_arr_size = 10000"
   ]
  },
  {
   "cell_type": "code",
   "execution_count": 5,
   "metadata": {},
   "outputs": [],
   "source": [
    "def calc_diff(SR, SB):\n",
    "    return abs(len(SR) - len(SB))"
   ]
  },
  {
   "cell_type": "code",
   "execution_count": 6,
   "metadata": {},
   "outputs": [],
   "source": [
    "def find_SR_SB_pointers(pointers, increment, data_arr, start_point, end_point):\n",
    "    SR = data_arr[(data_arr[:,0] > pointers[1])*(data_arr[:,0] < pointers[2])]\n",
    "    SB = data_arr[(data_arr[:,0] > pointers[0])*(data_arr[:,0] < pointers[1]) + (data_arr[:,0] > pointers[2])*(data_arr[:,0] < pointers[3])]\n",
    "\n",
    "    previous_diff = calc_diff(SR, SB)\n",
    "    prev_SR, prev_SB = SR, SB\n",
    "    curr_diff = previous_diff\n",
    "    bottom_bool = False\n",
    "    top_bool = True\n",
    "\n",
    "    while curr_diff <= previous_diff and pointers[3] < end_point:\n",
    "        previous_diff, prev_SR, prev_SB = curr_diff, SR, SB\n",
    "        if bottom_bool:\n",
    "            pointers[0] = max(start_point, pointers[0] - increment)\n",
    "        else:\n",
    "            pointers[3] = min(end_point, pointers[3] + increment)\n",
    "        bottom_bool, top_bool = top_bool, bottom_bool\n",
    "        SR = data_arr[(data_arr[:,0] > pointers[1])*(data_arr[:,0] < pointers[2])]\n",
    "        SB = data_arr[(data_arr[:,0] > pointers[0])*(data_arr[:,0] < pointers[1]) + (data_arr[:,0] > pointers[2])*(data_arr[:,0] < pointers[3])]\n",
    "        curr_diff = calc_diff(SR, SB)\n",
    "\n",
    "    return prev_SR, prev_SB"
   ]
  },
  {
   "cell_type": "code",
   "execution_count": 7,
   "metadata": {},
   "outputs": [],
   "source": [
    "def angular_distance(angle1,angle2):\n",
    "    # inputs are np arrays of [ra,dec]\n",
    "    deltara=np.minimum(np.minimum(np.abs(angle1[:,0]-angle2[:,0]+360),np.abs(angle1[:,0]-angle2[:,0])),\\\n",
    "                          np.abs(angle1[:,0]-angle2[:,0]-360))\n",
    "    deltadec=np.abs(angle1[:,1]-angle2[:,1])\n",
    "    return np.sqrt(deltara**2+deltadec**2)"
   ]
  },
  {
   "cell_type": "code",
   "execution_count": 8,
   "metadata": {},
   "outputs": [],
   "source": [
    "#function from David's file via_machinae.py\n",
    "def FilterGD1(stars):\n",
    "    gd1stars=np.zeros(len(stars))\n",
    "    for x in allgd1stars:\n",
    "        ra=x[0]\n",
    "        dec=x[1]\n",
    "        pmra=x[2]\n",
    "        pmdec=x[3]\n",
    "    \n",
    "        foundlist=angular_distance(np.dstack((stars[:,3],stars[:,2]))[0],np.array([[ra,dec]]))\n",
    "        foundlist=np.sqrt(foundlist**2+(stars[:,0]-pmdec)**2+(stars[:,1]-pmra)**2)   \n",
    "        foundlist=foundlist<.0001\n",
    "        if len(np.argwhere(foundlist))>1:\n",
    "            print(foundlist)\n",
    "        if len(np.argwhere(foundlist))==1:\n",
    "            gd1stars+=foundlist\n",
    "    gd1stars=gd1stars.astype('bool')\n",
    "    return gd1stars,stars[gd1stars]"
   ]
  },
  {
   "cell_type": "code",
   "execution_count": 9,
   "metadata": {},
   "outputs": [],
   "source": [
    "def make_fractional_background(all_data, fraction):\n",
    "    num = fraction*100\n",
    "    frac_background = []\n",
    "    for i in range(len(all_data)):\n",
    "        if all_data[i][6]:\n",
    "            frac_background.append(all_data[i])\n",
    "        else:\n",
    "            if random.randint(0, 100) < num:\n",
    "                frac_background.append(all_data[i])\n",
    "    frac_background = np.array(frac_background)\n",
    "    frac_background = frac_background[:, :6]\n",
    "    return frac_background"
   ]
  },
  {
   "cell_type": "code",
   "execution_count": 10,
   "metadata": {},
   "outputs": [],
   "source": [
    "def split(data, num_splits):\n",
    "    res = []\n",
    "    curr = 0\n",
    "    diff = len(data)//num_splits\n",
    "    while curr < num_splits:\n",
    "        res.append(data[curr*diff:(curr+1)*diff])\n",
    "        curr += 1\n",
    "    return res"
   ]
  },
  {
   "cell_type": "markdown",
   "metadata": {},
   "source": [
    "### Loading data and preprocessing"
   ]
  },
  {
   "cell_type": "code",
   "execution_count": 11,
   "metadata": {},
   "outputs": [],
   "source": [
    "datafile = '/data0/users/bpnachman/Gaia/gaiascan_l101.2_b58.4_ra212.7_dec55.2.npy'\n",
    "gaiadata=np.load(datafile,allow_pickle=True)\n",
    "gaiadata2 = np.array(gaiadata[:,[9,8,6,7,4,5]]).astype('float32') \n",
    "#pm_lat, pm_lon_coslat, lon, lat, color, mag\n",
    "allgd1stars = np.load('gd1_stars.npy')\n",
    "is_stream_arr, gaiadata3 = FilterGD1(gaiadata)\n",
    "\n",
    "new_gaiadata = []\n",
    "for i in range(len(gaiadata)):\n",
    "    temp = np.append(gaiadata[i], is_stream_arr[i])\n",
    "    new_gaiadata.append(temp)"
   ]
  },
  {
   "cell_type": "code",
   "execution_count": 12,
   "metadata": {},
   "outputs": [],
   "source": [
    "gaiadata = new_gaiadata\n",
    "gaiadata = np.array(gaiadata)"
   ]
  },
  {
   "cell_type": "code",
   "execution_count": 13,
   "metadata": {},
   "outputs": [],
   "source": [
    "#switch 0 and 1\n",
    "gaiadata2 = np.array(gaiadata[:,[8,9,6,7,4,5,10]]).astype('float32') \n",
    "gaiadata3 = np.array(gaiadata3[:,[8,9,6,7,4,5]]).astype('float32') "
   ]
  },
  {
   "cell_type": "code",
   "execution_count": 14,
   "metadata": {},
   "outputs": [],
   "source": [
    "gaiadata2 = gaiadata2[(np.abs(gaiadata2[:,0]) > 2) + (np.abs(gaiadata2[:,1]) > 2)] \n",
    "gaiadata2 = gaiadata2[(gaiadata2[:,4]>0.5) * (gaiadata2[:,4]<1)]\n",
    "\n",
    "gaiadata3 = gaiadata3[(np.abs(gaiadata3[:,0]) > 2) + (np.abs(gaiadata3[:,1]) > 2)] \n",
    "gaiadata3 = gaiadata3[(gaiadata3[:,4]>0.5) * (gaiadata3[:,4]<1)]"
   ]
  },
  {
   "cell_type": "markdown",
   "metadata": {},
   "source": [
    "# k-folding"
   ]
  },
  {
   "cell_type": "code",
   "execution_count": 15,
   "metadata": {},
   "outputs": [],
   "source": [
    "#next steps: k folding, start with k = 2 (sk learn maybe has a function to split data into k pieces)\n",
    "#for k > 2:\n",
    "#1/k should be test, 1/k should be validation (k-1 choices), average amongst the k-1 choices, k-2/k for training, \n",
    "#loop within this structure \n",
    "\n",
    "#validation set -> use to pick the best model, lowest validation loss"
   ]
  },
  {
   "cell_type": "code",
   "execution_count": 16,
   "metadata": {},
   "outputs": [],
   "source": [
    "frac_background = make_fractional_background(gaiadata2, 0.1)\n",
    "\n",
    "\n",
    "SR = frac_background[(frac_background[:,0] > -10)*(frac_background[:,0] < -8)]\n",
    "SB = frac_background[(frac_background[:,0] > -11)*(frac_background[:,0] < -10)+(frac_background[:,0] > -8)*(frac_background[:,0] < -7)]\n",
    "pointer1 = -10\n",
    "pointer2 = -8\n",
    "stream = gaiadata3\n",
    "\n",
    "X = np.concatenate([SR,SB])\n",
    "Y = np.concatenate([np.ones(len(SR)),np.zeros(len(SB))])\n",
    "\n",
    "myscalar = preprocessing.StandardScaler()\n",
    "myscalar.fit(X)\n",
    "X_scaled = myscalar.transform(X)\n",
    "\n",
    "X_scaled = X_scaled[Y<2]\n",
    "Y = Y[Y<2]"
   ]
  },
  {
   "cell_type": "code",
   "execution_count": 17,
   "metadata": {},
   "outputs": [],
   "source": [
    "#split data into 5 sets\n",
    "num_splits = 5\n",
    "split_X = split(X_scaled, num_splits)\n",
    "split_Y = split(Y, num_splits)"
   ]
  },
  {
   "cell_type": "code",
   "execution_count": null,
   "metadata": {
    "scrolled": true
   },
   "outputs": [
    {
     "name": "stdout",
     "output_type": "stream",
     "text": [
      "outer loop\n",
      "middle loop\n",
      "middle loop\n",
      "inner loop\n",
      "2.931786565748664\n",
      "middle loop\n",
      "inner loop\n",
      "1.0013788932901615\n",
      "middle loop\n",
      "inner loop\n",
      "1.0251487550471674\n",
      "middle loop\n",
      "inner loop\n",
      "1.9311176071822493\n",
      "[array([1.5005507], dtype=float32), array([1.700863], dtype=float32), array([1.063922], dtype=float32), array([1.6569382], dtype=float32), array([1.6240923], dtype=float32), array([1.4306407], dtype=float32), array([1.5596935], dtype=float32), array([1.2759829], dtype=float32), array([1.0402995], dtype=float32), array([1.2756826], dtype=float32), array([0.98172504], dtype=float32), array([1.0837166], dtype=float32), array([1.1495062], dtype=float32), array([1.1100616], dtype=float32), array([1.2261751], dtype=float32), array([1.3354917], dtype=float32), array([0.89937854], dtype=float32), array([0.96977174], dtype=float32), array([0.9467295], dtype=float32), array([0.9443965], dtype=float32), array([0.9233903], dtype=float32), array([1.1844206], dtype=float32), array([1.0941522], dtype=float32), array([1.0965936], dtype=float32), array([1.0122821], dtype=float32), array([1.0122832], dtype=float32), array([0.9772002], dtype=float32), array([0.8856344], dtype=float32), array([0.9242035], dtype=float32), array([0.6544754], dtype=float32), array([0.66118497], dtype=float32), array([0.8787216], dtype=float32), array([1.292373], dtype=float32), array([1.2388549], dtype=float32), array([1.2503792], dtype=float32), array([3.0145774], dtype=float32), array([2.3398836], dtype=float32), array([2.4995415], dtype=float32), array([2.4128127], dtype=float32), array([2.60784], dtype=float32), array([2.5009873], dtype=float32), array([3.2941916], dtype=float32), array([2.724392], dtype=float32), array([2.6172824], dtype=float32), array([2.4497528], dtype=float32), array([2.7417984], dtype=float32), array([2.9231923], dtype=float32), array([2.8975718], dtype=float32), array([2.6103382], dtype=float32), array([2.084106], dtype=float32), array([2.0164113], dtype=float32), array([2.460005], dtype=float32), array([1.670125], dtype=float32), array([2.033262], dtype=float32), array([1.708147], dtype=float32), array([1.3546702], dtype=float32), array([2.0333583], dtype=float32), array([2.167169], dtype=float32), array([2.111671], dtype=float32), array([1.9899755], dtype=float32), array([2.0712733], dtype=float32), array([2.2045386], dtype=float32), array([2.296925], dtype=float32), array([2.624251], dtype=float32), array([2.3273904], dtype=float32), array([1.3178897], dtype=float32), array([1.3664281], dtype=float32), array([1.3875933], dtype=float32), array([1.4391764], dtype=float32), array([1.4803555], dtype=float32), array([1.3679868], dtype=float32), array([1.3193793], dtype=float32), array([2.1464355], dtype=float32), array([2.068922], dtype=float32), array([1.9017007], dtype=float32), array([2.644699], dtype=float32), array([2.2127707], dtype=float32), array([1.5863048], dtype=float32), array([1.5523232], dtype=float32), array([1.5025737], dtype=float32), array([1.8042295], dtype=float32), array([1.882658], dtype=float32), array([1.7206447], dtype=float32), array([1.8470657], dtype=float32), array([1.900272], dtype=float32), array([2.0624218], dtype=float32), array([1.867692], dtype=float32), array([1.9489958], dtype=float32), array([1.9780831], dtype=float32), array([1.6797396], dtype=float32), array([2.3498511], dtype=float32), array([2.1431358], dtype=float32), array([1.5697442], dtype=float32), array([1.8709018], dtype=float32), array([1.3994414], dtype=float32), array([1.3935685], dtype=float32), array([1.3152138], dtype=float32), array([1.3522893], dtype=float32), array([1.4446539], dtype=float32), array([1.4441205], dtype=float32), array([1.4332285], dtype=float32), array([1.2834054], dtype=float32), array([1.3894386], dtype=float32), array([1.3926558], dtype=float32), array([1.4494718], dtype=float32), array([1.4125246], dtype=float32), array([2.2498078], dtype=float32), array([2.285713], dtype=float32), array([2.212848], dtype=float32), array([2.0801094], dtype=float32), array([2.1408691], dtype=float32), array([2.2141056], dtype=float32), array([2.05036], dtype=float32), array([2.2302089], dtype=float32), array([2.116826], dtype=float32), array([2.0440764], dtype=float32), array([1.8666933], dtype=float32), array([1.8117987], dtype=float32), array([2.3377576], dtype=float32), array([2.1212213], dtype=float32), array([2.4137802], dtype=float32), array([1.6807449], dtype=float32), array([1.7816063], dtype=float32), array([2.4409776], dtype=float32), array([2.3299057], dtype=float32), array([1.739438], dtype=float32), array([1.6469874], dtype=float32), array([1.3874314], dtype=float32), array([1.5871983], dtype=float32), array([1.830822], dtype=float32), array([1.4628541], dtype=float32), array([1.3363844], dtype=float32), array([1.5702573], dtype=float32), array([2.233035], dtype=float32), array([1.531], dtype=float32), array([1.4164388], dtype=float32), array([1.9562367], dtype=float32), array([1.4371043], dtype=float32), array([1.6007673], dtype=float32), array([2.0653508], dtype=float32), array([1.5667871], dtype=float32), array([1.8522322], dtype=float32), array([1.7014933], dtype=float32), array([1.6804833], dtype=float32), array([1.7551492], dtype=float32), array([1.3036833], dtype=float32), array([1.7440478], dtype=float32), array([1.7926295], dtype=float32), array([1.9502988], dtype=float32), array([2.0602462], dtype=float32), array([1.719214], dtype=float32), array([1.4576573], dtype=float32), array([1.3364612], dtype=float32), array([1.5062318], dtype=float32), array([1.4194213], dtype=float32), array([1.3140502], dtype=float32), array([1.4604839], dtype=float32), array([1.4652995], dtype=float32), array([1.3528214], dtype=float32), array([1.353214], dtype=float32), array([1.6069274], dtype=float32), array([1.6021599], dtype=float32), array([1.8933768], dtype=float32), array([1.3658911], dtype=float32), array([1.3554107], dtype=float32), array([1.6764083], dtype=float32), array([1.8652649], dtype=float32), array([1.7303509], dtype=float32), array([1.2918104], dtype=float32), array([1.812055], dtype=float32), array([1.9756823], dtype=float32), array([1.6452998], dtype=float32), array([1.9922035], dtype=float32), array([1.7942725], dtype=float32), array([1.5510931], dtype=float32), array([1.6007143], dtype=float32), array([1.2223172], dtype=float32), array([1.7306821], dtype=float32), array([1.9087582], dtype=float32), array([1.5779076], dtype=float32), array([1.6544892], dtype=float32), array([1.460199], dtype=float32), array([1.2127274], dtype=float32), array([2.0666385], dtype=float32), array([1.5000005], dtype=float32), array([1.409269], dtype=float32), array([1.7346703], dtype=float32), array([1.4265213], dtype=float32), array([1.0333036], dtype=float32), array([1.3591216], dtype=float32), array([1.23324], dtype=float32), array([1.0184256], dtype=float32), array([1.2007618], dtype=float32), array([1.000736], dtype=float32), array([1.3530258], dtype=float32), array([1.7749381], dtype=float32), array([1.8705621], dtype=float32), array([1.5518224], dtype=float32), array([1.5457773], dtype=float32), array([1.2502033], dtype=float32), array([1.9392018], dtype=float32), array([1.4330236], dtype=float32), array([1.5108021], dtype=float32), array([1.2645338], dtype=float32), array([1.4203769], dtype=float32), array([1.6855003], dtype=float32), array([1.3333143], dtype=float32), array([1.2466757], dtype=float32), array([1.3920019], dtype=float32), array([1.5212302], dtype=float32), array([1.179741], dtype=float32), array([1.3585869], dtype=float32), array([1.3487387], dtype=float32), array([1.3720053], dtype=float32), array([1.4034507], dtype=float32), array([1.7706884], dtype=float32), array([1.5048093], dtype=float32), array([1.4389452], dtype=float32), array([1.3053194], dtype=float32), array([1.3129964], dtype=float32), array([1.4144292], dtype=float32), array([1.4943233], dtype=float32), array([1.4670811], dtype=float32), array([1.9883661], dtype=float32), array([1.4755872], dtype=float32), array([1.5220486], dtype=float32), array([1.2194511], dtype=float32), array([1.3484951], dtype=float32), array([1.3497279], dtype=float32), array([1.3500317], dtype=float32), array([1.1599116], dtype=float32), array([1.6611619], dtype=float32), array([1.1134169], dtype=float32), array([1.4690045], dtype=float32), array([1.3138032], dtype=float32), array([1.0657749], dtype=float32), array([1.2702829], dtype=float32), array([1.4596839], dtype=float32), array([1.4949293], dtype=float32), array([1.3561838], dtype=float32), array([1.5039917], dtype=float32), array([1.329398], dtype=float32), array([1.4120805], dtype=float32), array([1.54923], dtype=float32), array([1.3830204], dtype=float32), array([1.5144448], dtype=float32), array([1.4271543], dtype=float32), array([1.5224392], dtype=float32), array([1.4765162], dtype=float32), array([1.4932826], dtype=float32), array([1.1771648], dtype=float32), array([1.1461475], dtype=float32), array([1.1812532], dtype=float32), array([1.2585716], dtype=float32), array([1.9495351], dtype=float32), array([1.047559], dtype=float32), array([1.998858], dtype=float32), array([1.0707123], dtype=float32), array([2.0855768], dtype=float32), array([2.42754], dtype=float32), array([2.1896446], dtype=float32), array([2.2906346], dtype=float32), array([1.2868184], dtype=float32), array([1.2929347], dtype=float32), array([1.526204], dtype=float32), array([1.4836596], dtype=float32), array([1.2696077], dtype=float32), array([1.5004525], dtype=float32), array([1.3339585], dtype=float32), array([1.3857768], dtype=float32), array([1.321771], dtype=float32), array([1.3297193], dtype=float32), array([1.3748378], dtype=float32), array([1.5135605], dtype=float32), array([1.5233744], dtype=float32), array([1.4390309], dtype=float32), array([3.358055], dtype=float32), array([1.941843], dtype=float32), array([1.8063155], dtype=float32), array([1.6245403], dtype=float32), array([2.2242856], dtype=float32), array([2.6215258], dtype=float32), array([1.8764008], dtype=float32), array([1.9240917], dtype=float32), array([1.8677129], dtype=float32), array([2.3595757], dtype=float32), array([2.0769124], dtype=float32), array([1.8559682], dtype=float32), array([1.9235885], dtype=float32), array([1.876332], dtype=float32), array([1.3050532], dtype=float32), array([1.6303567], dtype=float32), array([1.8314784], dtype=float32), array([1.5227324], dtype=float32), array([1.7577798], dtype=float32), array([1.7612233], dtype=float32), array([2.4384263], dtype=float32), array([1.764848], dtype=float32), array([1.368952], dtype=float32), array([1.2603205], dtype=float32), array([1.4876825], dtype=float32), array([1.6797365], dtype=float32), array([1.5684718], dtype=float32), array([1.1576923], dtype=float32), array([1.3654044], dtype=float32), array([1.2591163], dtype=float32), array([1.1236988], dtype=float32), array([1.1533564], dtype=float32), array([1.2146448], dtype=float32), array([1.3259637], dtype=float32), array([1.3148527], dtype=float32), array([1.1367084], dtype=float32), array([1.1975814], dtype=float32), array([1.2259893], dtype=float32), array([1.0962114], dtype=float32), array([1.0646691], dtype=float32), array([1.1192225], dtype=float32), array([1.126623], dtype=float32), array([1.3500397], dtype=float32), array([1.2299457], dtype=float32), array([1.3335332], dtype=float32), array([0.93113494], dtype=float32), array([1.4981817], dtype=float32), array([0.9913459], dtype=float32), array([1.5082555], dtype=float32), array([1.1394116], dtype=float32), array([1.1512607], dtype=float32), array([1.3958735], dtype=float32), array([1.3451667], dtype=float32), array([1.385568], dtype=float32), array([1.426313], dtype=float32), array([1.5240152], dtype=float32), array([1.3448626], dtype=float32), array([1.31637], dtype=float32), array([1.3546336], dtype=float32), array([1.545025], dtype=float32), array([1.3346387], dtype=float32), array([1.4420716], dtype=float32), array([1.3392465], dtype=float32), array([1.4742769], dtype=float32), array([1.4243752], dtype=float32), array([1.4056515], dtype=float32), array([1.4031507], dtype=float32), array([1.3155366], dtype=float32), array([1.5318499], dtype=float32), array([1.8998989], dtype=float32), array([1.5901273], dtype=float32), array([1.3673794], dtype=float32), array([1.1879666], dtype=float32), array([1.0957423], dtype=float32), array([1.5454837], dtype=float32), array([1.1559885], dtype=float32), array([1.0952053], dtype=float32), array([1.1578515], dtype=float32), array([1.1663059], dtype=float32), array([1.2796874], dtype=float32), array([1.1263436], dtype=float32), array([1.100891], dtype=float32), array([1.1061969], dtype=float32), array([1.2283072], dtype=float32), array([1.1367798], dtype=float32), array([1.4897697], dtype=float32), array([1.6234444], dtype=float32), array([1.3173103], dtype=float32), array([1.1254853], dtype=float32), array([1.0849936], dtype=float32), array([1.2095326], dtype=float32), array([1.3710024], dtype=float32), array([1.2848821], dtype=float32), array([0.93870825], dtype=float32), array([0.82968014], dtype=float32), array([1.0047225], dtype=float32), array([1.0758342], dtype=float32), array([0.9500764], dtype=float32), array([0.7933999], dtype=float32), array([0.9867867], dtype=float32), array([1.1532993], dtype=float32), array([1.5814439], dtype=float32), array([1.4582427], dtype=float32), array([1.5255457], dtype=float32), array([1.5732878], dtype=float32), array([1.9584538], dtype=float32), array([1.4548357], dtype=float32), array([1.6853672], dtype=float32), array([1.472596], dtype=float32), array([1.1482563], dtype=float32), array([1.1087172], dtype=float32), array([1.0566958], dtype=float32), array([1.1097703], dtype=float32), array([1.0480144], dtype=float32), array([1.0832102], dtype=float32), array([1.0531979], dtype=float32), array([1.1225301], dtype=float32), array([1.0325148], dtype=float32), array([1.0985433], dtype=float32), array([1.0323995], dtype=float32), array([1.0663809], dtype=float32), array([1.0309427], dtype=float32), array([1.0703875], dtype=float32), array([1.1063259], dtype=float32), array([1.0359524], dtype=float32), array([1.0588225], dtype=float32), array([1.0686766], dtype=float32), array([1.0416126], dtype=float32), array([1.0485325], dtype=float32), array([1.0232135], dtype=float32), array([1.1114806], dtype=float32), array([1.1463175], dtype=float32), array([1.1396627], dtype=float32), array([1.1196188], dtype=float32), array([1.077947], dtype=float32), array([1.0266398], dtype=float32), array([1.0197895], dtype=float32), array([1.4462693], dtype=float32), array([1.4816792], dtype=float32), array([1.6119944], dtype=float32), array([1.6274049], dtype=float32), array([1.6789112], dtype=float32), array([1.5677638], dtype=float32), array([1.748615], dtype=float32), array([1.4584216], dtype=float32), array([1.6919491], dtype=float32), array([1.5456214], dtype=float32), array([1.0251182], dtype=float32), array([1.0395889], dtype=float32), array([1.0281726], dtype=float32), array([1.0472443], dtype=float32), array([1.0188799], dtype=float32), array([1.0371542], dtype=float32), array([1.0259699], dtype=float32), array([1.0221148], dtype=float32), array([1.0311687], dtype=float32), array([1.033299], dtype=float32), array([1.0476029], dtype=float32), array([1.7843411], dtype=float32), array([1.4417453], dtype=float32), array([1.1259799], dtype=float32), array([1.1096563], dtype=float32), array([1.4746914], dtype=float32), array([1.5119573], dtype=float32), array([1.2158159], dtype=float32), array([1.2546782], dtype=float32), array([1.2484245], dtype=float32), array([1.5380074], dtype=float32), array([1.2015576], dtype=float32), array([1.0091375], dtype=float32), array([0.97376287], dtype=float32), array([0.84757435], dtype=float32), array([0.82327485], dtype=float32), array([0.65058166], dtype=float32), array([0.8613971], dtype=float32), array([0.81527156], dtype=float32), array([0.9488338], dtype=float32), array([0.7541919], dtype=float32), array([0.9926101], dtype=float32), array([1.4169375], dtype=float32), array([1.4408619], dtype=float32), array([1.4260598], dtype=float32), array([2.4900894], dtype=float32), array([1.2010767], dtype=float32), array([1.1801932], dtype=float32), array([1.244076], dtype=float32), array([1.232958], dtype=float32), array([1.0399259], dtype=float32), array([1.2952509], dtype=float32), array([1.0788895], dtype=float32), array([1.175383], dtype=float32), array([1.1401372], dtype=float32), array([1.2797978], dtype=float32), array([1.5434238], dtype=float32), array([1.5571946], dtype=float32), array([1.3991951], dtype=float32), array([1.5044631], dtype=float32), array([1.4884119], dtype=float32), array([1.190019], dtype=float32), array([1.424389], dtype=float32), array([1.2980884], dtype=float32), array([1.3821534], dtype=float32), array([1.1521461], dtype=float32), array([1.2162253], dtype=float32), array([1.2441888], dtype=float32), array([1.4190803], dtype=float32), array([2.470508], dtype=float32), array([1.3424706], dtype=float32), array([1.6043355], dtype=float32), array([1.4022676], dtype=float32), array([1.3340225], dtype=float32), array([1.4879371], dtype=float32), array([1.4957937], dtype=float32), array([1.3582085], dtype=float32), array([1.5407164], dtype=float32), array([1.538417], dtype=float32), array([1.4236351], dtype=float32), array([1.452903], dtype=float32), array([1.0586987], dtype=float32), array([1.2153893], dtype=float32), array([1.1996685], dtype=float32), array([1.0934402], dtype=float32), array([1.0808202], dtype=float32), array([1.0605894], dtype=float32), array([1.4630188], dtype=float32), array([1.273599], dtype=float32), array([1.2497984], dtype=float32), array([1.4521301], dtype=float32), array([1.334516], dtype=float32), array([1.1217878], dtype=float32), array([1.3161039], dtype=float32), array([1.3531729], dtype=float32), array([1.25104], dtype=float32), array([1.0479596], dtype=float32), array([1.1851393], dtype=float32), array([1.3352431], dtype=float32), array([0.88259035], dtype=float32), array([0.9023234], dtype=float32), array([0.8854336], dtype=float32), array([0.96329045], dtype=float32), array([1.1666048], dtype=float32), array([0.97610277], dtype=float32), array([0.85676616], dtype=float32), array([0.84840614], dtype=float32), array([1.3765968], dtype=float32), array([1.4578842], dtype=float32), array([1.6717417], dtype=float32), array([1.5464451], dtype=float32), array([1.5828308], dtype=float32), array([1.5587038], dtype=float32), array([1.4462167], dtype=float32), array([1.5636888], dtype=float32), array([1.6180273], dtype=float32), array([1.5158409], dtype=float32), array([1.0006868], dtype=float32), array([0.90107936], dtype=float32), array([1.0791214], dtype=float32), array([1.1306237], dtype=float32), array([1.0355599], dtype=float32), array([0.9941053], dtype=float32), array([1.3190552], dtype=float32), array([1.3483654], dtype=float32), array([1.3309336], dtype=float32), array([1.2233407], dtype=float32), array([1.7757468], dtype=float32), array([1.4972128], dtype=float32), array([1.4234074], dtype=float32), array([1.6698148], dtype=float32), array([1.4208513], dtype=float32), array([1.5531945], dtype=float32), array([1.0396726], dtype=float32), array([1.2668736], dtype=float32), array([1.7587736], dtype=float32), array([1.105295], dtype=float32), array([1.3015796], dtype=float32), array([1.3260872], dtype=float32), array([1.0924522], dtype=float32), array([1.2637706], dtype=float32), array([1.2504283], dtype=float32), array([1.3138748], dtype=float32), array([1.3518535], dtype=float32), array([1.1455253], dtype=float32), array([1.6964878], dtype=float32), array([1.8643056], dtype=float32), array([1.7934357], dtype=float32), array([1.7901331], dtype=float32), array([1.3162507], dtype=float32), array([1.2746437], dtype=float32), array([1.3045067], dtype=float32), array([1.7259252], dtype=float32), array([1.0344858], dtype=float32), array([1.7466912], dtype=float32), array([0.8050163], dtype=float32), array([0.8809246], dtype=float32), array([1.1569453], dtype=float32), array([1.1741537], dtype=float32), array([1.2305274], dtype=float32), array([1.5474757], dtype=float32), array([1.9531186], dtype=float32), array([1.3294104], dtype=float32), array([2.184934], dtype=float32), array([1.3172295], dtype=float32), array([1.7755076], dtype=float32), array([1.5444288], dtype=float32), array([2.0892067], dtype=float32), array([1.8859757], dtype=float32), array([1.9733953], dtype=float32), array([2.26624], dtype=float32), array([1.819294], dtype=float32), array([2.1443114], dtype=float32), array([1.9826367], dtype=float32), array([2.1391206], dtype=float32), array([2.0816991], dtype=float32), array([2.9005103], dtype=float32), array([2.6256306], dtype=float32), array([2.1763036], dtype=float32), array([2.6240907], dtype=float32), array([1.6130098], dtype=float32), array([2.4010828], dtype=float32), array([1.0368006], dtype=float32), array([1.182102], dtype=float32), array([1.1114663], dtype=float32), array([1.0482477], dtype=float32), array([0.9424448], dtype=float32), array([1.032965], dtype=float32), array([0.9005249], dtype=float32), array([0.9000858], dtype=float32), array([1.0360241], dtype=float32), array([0.89258254], dtype=float32), array([1.8400766], dtype=float32), array([2.570904], dtype=float32), array([2.198133], dtype=float32), array([2.5737023], dtype=float32), array([1.0399055], dtype=float32), array([1.0789459], dtype=float32), array([1.0584998], dtype=float32), array([1.1213387], dtype=float32), array([1.0747356], dtype=float32), array([2.259421], dtype=float32), array([1.7406142], dtype=float32), array([1.8311973], dtype=float32), array([1.961557], dtype=float32), array([1.9083996], dtype=float32), array([2.1879158], dtype=float32), array([1.881792], dtype=float32), array([1.7914591], dtype=float32), array([1.8112855], dtype=float32), array([1.6943725], dtype=float32), array([1.0988693], dtype=float32), array([1.0954572], dtype=float32), array([1.0779344], dtype=float32), array([1.1632937], dtype=float32), array([1.0561008], dtype=float32), array([1.1286681], dtype=float32), array([1.0525614], dtype=float32), array([1.0637153], dtype=float32), array([1.0637623], dtype=float32), array([1.0748442], dtype=float32), array([1.8545767], dtype=float32), array([1.655668], dtype=float32), array([1.9260542], dtype=float32), array([2.0703228], dtype=float32), array([1.8411525], dtype=float32), array([1.673282], dtype=float32), array([1.6888077], dtype=float32), array([1.5514361], dtype=float32), array([0.8796977], dtype=float32), array([0.8597675], dtype=float32), array([0.8676961], dtype=float32), array([0.8317636], dtype=float32), array([0.8924241], dtype=float32), array([0.9022291], dtype=float32), array([0.8834158], dtype=float32), array([0.93937796], dtype=float32), array([1.0820057], dtype=float32), array([1.3050637], dtype=float32), array([1.0240766], dtype=float32), array([1.0484196], dtype=float32), array([1.0305601], dtype=float32), array([1.0318891], dtype=float32), array([1.0363804], dtype=float32), array([2.5937388], dtype=float32), array([1.9434197], dtype=float32), array([2.5406702], dtype=float32), array([2.263786], dtype=float32), array([2.125033], dtype=float32), array([2.2610545], dtype=float32), array([2.167268], dtype=float32), array([2.1147766], dtype=float32), array([1.9790102], dtype=float32), array([2.3691456], dtype=float32), array([1.8256543], dtype=float32), array([1.0045916], dtype=float32), array([1.0299615], dtype=float32), array([1.0093042], dtype=float32), array([1.0241822], dtype=float32), array([2.2795725], dtype=float32), array([2.3621535], dtype=float32), array([2.284026], dtype=float32), array([2.4303396], dtype=float32), array([2.5548882], dtype=float32), array([2.3419461], dtype=float32), array([2.316338], dtype=float32), array([1.0071325], dtype=float32), array([1.0135845], dtype=float32), array([1.0148555], dtype=float32), array([1.0218432], dtype=float32), array([1.0172297], dtype=float32), array([1.0051905], dtype=float32), array([1.0125601], dtype=float32), array([1.0356994], dtype=float32), array([1.0076227], dtype=float32), array([1.0209144], dtype=float32), array([1.0144244], dtype=float32), array([1.0149528], dtype=float32), array([1.0232439], dtype=float32), array([2.3097003], dtype=float32), array([2.3479543], dtype=float32), array([1.9580904], dtype=float32), array([2.0006208], dtype=float32), array([2.0068915], dtype=float32), array([2.4071956], dtype=float32), array([2.0564117], dtype=float32), array([2.16243], dtype=float32), array([2.0187724], dtype=float32), array([1.0166886], dtype=float32), array([1.0068768], dtype=float32), array([1.0089648], dtype=float32), array([1.0214595], dtype=float32), array([0.9083709], dtype=float32), array([0.9077304], dtype=float32), array([0.8590611], dtype=float32), array([0.86623263], dtype=float32), array([0.8718811], dtype=float32), array([0.84309655], dtype=float32), array([0.8850522], dtype=float32), array([0.8827883], dtype=float32), array([1.615998], dtype=float32), array([1.431433], dtype=float32), array([1.6808063], dtype=float32), array([1.657775], dtype=float32), array([1.5515393], dtype=float32), array([2.792499], dtype=float32), array([1.8984796], dtype=float32), array([1.8399355], dtype=float32), array([1.046812], dtype=float32), array([1.0151727], dtype=float32), array([1.0077736], dtype=float32), array([1.0231795], dtype=float32), array([1.0532731], dtype=float32), array([1.0041819], dtype=float32), array([2.0464509], dtype=float32), array([2.3805614], dtype=float32), array([1.7498176], dtype=float32), array([1.9177711], dtype=float32), array([1.689426], dtype=float32), array([1.8386916], dtype=float32), array([1.8815535], dtype=float32), array([1.8943381], dtype=float32), array([2.1197808], dtype=float32), array([1.9677103], dtype=float32), array([1.0544823], dtype=float32), array([1.0554153], dtype=float32), array([1.0143783], dtype=float32), array([1.0077287], dtype=float32), array([1.0169252], dtype=float32), array([1.0297539], dtype=float32), array([1.0365865], dtype=float32), array([1.0214924], dtype=float32), array([1.0429147], dtype=float32), array([1.0404953], dtype=float32), array([1.0760653], dtype=float32), array([1.9513187], dtype=float32), array([1.7074858], dtype=float32), array([2.060565], dtype=float32), array([1.934177], dtype=float32), array([1.7049909], dtype=float32), array([1.7062695], dtype=float32), array([2.1503596], dtype=float32), array([1.0228115], dtype=float32), array([1.0152245], dtype=float32), array([1.0170963], dtype=float32), array([1.0187516], dtype=float32), array([1.0058473], dtype=float32), array([1.0086954], dtype=float32), array([1.0184349], dtype=float32), array([1.0218015], dtype=float32), array([2.2219694], dtype=float32), array([2.7900271], dtype=float32), array([2.0585318], dtype=float32), array([2.3897977], dtype=float32), array([1.9160502], dtype=float32), array([0.8934996], dtype=float32), array([0.8504425], dtype=float32), array([0.8366048], dtype=float32), array([0.8606399], dtype=float32), array([0.83610857], dtype=float32), array([1.2198766], dtype=float32), array([1.0495617], dtype=float32), array([2.0848808], dtype=float32), array([1.4094695], dtype=float32), array([1.2716626], dtype=float32), array([1.4349107], dtype=float32), array([1.7912359], dtype=float32), array([1.4841549], dtype=float32), array([1.2632151], dtype=float32), array([1.3655524], dtype=float32), array([1.4960467], dtype=float32), array([1.2981732], dtype=float32), array([1.2944629], dtype=float32), array([1.2978067], dtype=float32), array([1.6486269], dtype=float32), array([1.2291033], dtype=float32), array([1.1454816], dtype=float32), array([1.2030828], dtype=float32), array([1.1807952], dtype=float32), array([1.3261034], dtype=float32), array([1.0636151], dtype=float32), array([1.0976826], dtype=float32), array([1.0603521], dtype=float32), array([1.2588564], dtype=float32), array([1.1933614], dtype=float32), array([1.2199103], dtype=float32), array([1.1577848], dtype=float32), array([1.1980418], dtype=float32), array([2.664019], dtype=float32), array([2.3847835], dtype=float32), array([2.2392442], dtype=float32), array([2.7933295], dtype=float32), array([2.385168], dtype=float32), array([2.8121023], dtype=float32), array([2.401868], dtype=float32), array([2.6310284], dtype=float32), array([2.8165505], dtype=float32), array([2.0242238], dtype=float32), array([2.3795106], dtype=float32), array([1.1335832], dtype=float32), array([1.0456923], dtype=float32), array([1.1543273], dtype=float32), array([1.0455184], dtype=float32), array([2.0436568], dtype=float32), array([1.6829563], dtype=float32), array([1.2966547], dtype=float32), array([1.2950336], dtype=float32), array([1.50311], dtype=float32), array([1.2953709], dtype=float32), array([1.9110159], dtype=float32), array([1.9494007], dtype=float32), array([1.348266], dtype=float32), array([2.5569108], dtype=float32), array([2.5036092], dtype=float32), array([2.4430275], dtype=float32), array([2.4110234], dtype=float32), array([2.0580668], dtype=float32), array([0.88805884], dtype=float32), array([0.8779224], dtype=float32), array([0.91715956], dtype=float32), array([1.1776903], dtype=float32), array([0.9036851], dtype=float32), array([0.9872533], dtype=float32), array([0.8500396], dtype=float32), array([0.9564741], dtype=float32), array([0.8586625], dtype=float32), array([0.95644146], dtype=float32), array([1.1357037], dtype=float32), array([1.079064], dtype=float32), array([1.1829004], dtype=float32), array([1.2077867], dtype=float32), array([1.1541799], dtype=float32), array([1.0554173], dtype=float32), array([1.1810116], dtype=float32), array([1.2012534], dtype=float32), array([1.1944579], dtype=float32), array([1.2130604], dtype=float32), array([1.0423745], dtype=float32), array([1.052733], dtype=float32), array([2.451029], dtype=float32), array([2.2341733], dtype=float32), array([2.279802], dtype=float32), array([2.3127403], dtype=float32), array([2.0507236], dtype=float32), array([2.69514], dtype=float32), array([1.0221894], dtype=float32), array([1.0280434], dtype=float32), array([1.0487149], dtype=float32), array([1.0393369], dtype=float32), array([1.0485971], dtype=float32), array([1.0371644], dtype=float32), array([1.0250329], dtype=float32), array([2.0066469], dtype=float32), array([1.9220842], dtype=float32), array([2.395508], dtype=float32), array([1.9727939], dtype=float32), array([2.4499729], dtype=float32), array([2.2036998], dtype=float32), array([1.9576688], dtype=float32), array([0.9430117], dtype=float32), array([0.9331332], dtype=float32), array([0.89780515], dtype=float32), array([0.6070208], dtype=float32), array([0.7989316], dtype=float32), array([0.7846395], dtype=float32), array([0.8357101], dtype=float32), array([0.8459263], dtype=float32), array([0.8426036], dtype=float32), array([0.8311125], dtype=float32), array([0.89004594], dtype=float32), array([0.8499604], dtype=float32), array([0.784059], dtype=float32), array([0.81885284], dtype=float32), array([0.8204571], dtype=float32), array([0.84952545], dtype=float32), array([0.8517855], dtype=float32), array([1.0210216], dtype=float32), array([1.0474217], dtype=float32), array([1.0251547], dtype=float32), array([1.0649258], dtype=float32), array([1.0964073], dtype=float32), array([1.0352244], dtype=float32), array([1.0671834], dtype=float32), array([1.1082721], dtype=float32), array([2.5695302], dtype=float32), array([2.0931945], dtype=float32), array([2.2859986], dtype=float32), array([2.1455438], dtype=float32), array([2.5368366], dtype=float32), array([2.3668232], dtype=float32), array([2.4038515], dtype=float32), array([2.139513], dtype=float32), array([2.0796037], dtype=float32), array([2.092846], dtype=float32), array([2.041623], dtype=float32), array([2.4395816], dtype=float32), array([1.0229297], dtype=float32), array([1.0095853], dtype=float32), array([1.019983], dtype=float32), array([1.3725677], dtype=float32), array([2.032927], dtype=float32), array([2.013472], dtype=float32), array([1.6702803], dtype=float32), array([2.3985054], dtype=float32), array([2.4106264], dtype=float32), array([2.1047354], dtype=float32), array([2.0075533], dtype=float32), array([2.2589626], dtype=float32), array([2.4521208], dtype=float32), array([2.2363305], dtype=float32), array([2.1547904], dtype=float32), array([2.0556047], dtype=float32), array([2.3805687], dtype=float32), array([2.277491], dtype=float32), array([2.3142073], dtype=float32), array([2.2050836], dtype=float32), array([2.4041429], dtype=float32), array([2.3389142], dtype=float32), array([2.2833047], dtype=float32), array([2.0620344], dtype=float32), array([2.1219175], dtype=float32), array([2.012914], dtype=float32), array([1.886426], dtype=float32), array([2.0129285], dtype=float32), array([1.9344796], dtype=float32), array([2.0248575], dtype=float32), array([2.0862355], dtype=float32), array([2.0281084], dtype=float32), array([1.9817052], dtype=float32), array([1.9629412], dtype=float32), array([2.0037568], dtype=float32), array([2.1480424], dtype=float32), array([1.9102316], dtype=float32), array([2.2437277], dtype=float32), array([1.853096], dtype=float32), array([2.3666666], dtype=float32), array([2.1712205], dtype=float32), array([1.7954717], dtype=float32), array([2.03942], dtype=float32), array([1.7593567], dtype=float32), array([1.687933], dtype=float32), array([1.4795483], dtype=float32), array([1.3173301], dtype=float32), array([1.2835222], dtype=float32), array([1.6986657], dtype=float32), array([1.4845942], dtype=float32), array([1.9126357], dtype=float32), array([1.8531427], dtype=float32), array([2.2394605], dtype=float32), array([2.0972986], dtype=float32), array([2.020606], dtype=float32), array([2.2483232], dtype=float32), array([2.1635175], dtype=float32), array([2.0555623], dtype=float32), array([2.1508443], dtype=float32), array([1.8511969], dtype=float32), array([2.0400467], dtype=float32), array([1.9576771], dtype=float32), array([2.3013248], dtype=float32), array([2.0962636], dtype=float32), array([2.0891802], dtype=float32), array([2.0964592], dtype=float32), array([2.242597], dtype=float32), array([1.9020327], dtype=float32), array([2.036068], dtype=float32), array([2.0163715], dtype=float32), array([1.9713802], dtype=float32), array([2.1404629], dtype=float32), array([1.6319987], dtype=float32), array([0.89706135], dtype=float32), array([0.8892733], dtype=float32), array([0.8815023], dtype=float32), array([0.91686344], dtype=float32), array([0.90098315], dtype=float32), array([0.9124925], dtype=float32), array([0.9145666], dtype=float32), array([0.874872], dtype=float32), array([1.0048172], dtype=float32), array([1.0046976], dtype=float32), array([1.0065901], dtype=float32), array([1.9769208], dtype=float32), array([2.3562534], dtype=float32), array([2.132935], dtype=float32), array([1.8732046], dtype=float32), array([2.0489638], dtype=float32), array([2.106281], dtype=float32), array([1.8677562], dtype=float32), array([2.52429], dtype=float32), array([2.4980946], dtype=float32), array([1.9788746], dtype=float32), array([1.8530663], dtype=float32), array([1.9599564], dtype=float32), array([1.0069635], dtype=float32), array([1.0036421], dtype=float32), array([0.91364664], dtype=float32), array([0.87413585], dtype=float32), array([0.89731395], dtype=float32), array([0.88857406], dtype=float32), array([0.8823922], dtype=float32), array([0.94061023], dtype=float32), array([1.7316086], dtype=float32), array([2.0406604], dtype=float32), array([2.2852025], dtype=float32), array([2.094233], dtype=float32), array([2.089711], dtype=float32), array([2.2393317], dtype=float32), array([1.9191556], dtype=float32), array([2.439532], dtype=float32), array([1.9900329], dtype=float32), array([2.1415832], dtype=float32), array([2.224201], dtype=float32), array([2.0178204], dtype=float32), array([2.0050573], dtype=float32), array([1.7293792], dtype=float32), array([1.9126437], dtype=float32), array([2.1247118], dtype=float32), array([1.8047426], dtype=float32), array([1.950708], dtype=float32), array([1.350012], dtype=float32), array([0.60321724], dtype=float32), array([0.8676796], dtype=float32), array([1.5033011], dtype=float32), array([1.6960055], dtype=float32), array([1.6056973], dtype=float32), array([1.5873666], dtype=float32), array([1.8043894], dtype=float32), array([1.7142799], dtype=float32), array([1.9934064], dtype=float32), array([1.9835348], dtype=float32), array([1.8166264], dtype=float32), array([1.5826117], dtype=float32), array([1.9975076], dtype=float32), array([1.727597], dtype=float32), array([1.7758892], dtype=float32), array([1.8452008], dtype=float32), array([1.9721642], dtype=float32), array([1.7093617], dtype=float32), array([1.8756139], dtype=float32), array([2.0089595], dtype=float32), array([1.7276672], dtype=float32), array([1.6446716], dtype=float32), array([2.3334334], dtype=float32), array([1.9481808], dtype=float32), array([2.0083256], dtype=float32), array([2.1621318], dtype=float32), array([2.1242537], dtype=float32), array([1.8421444], dtype=float32), array([1.7923315], dtype=float32), array([1.9153504], dtype=float32), array([2.0249333], dtype=float32), array([1.986505], dtype=float32), array([1.8154266], dtype=float32), array([1.9217545], dtype=float32), array([1.9416487], dtype=float32), array([2.0308664], dtype=float32), array([1.8002032], dtype=float32), array([1.6500782], dtype=float32), array([1.9203163], dtype=float32), array([1.5576066], dtype=float32), array([1.6872498], dtype=float32), array([1.9829607], dtype=float32), array([1.7699761], dtype=float32), array([1.8420144], dtype=float32), array([1.7457579], dtype=float32), array([1.4081732], dtype=float32), array([1.6235492], dtype=float32), array([1.5421597], dtype=float32), array([1.9806812], dtype=float32), array([1.8774071], dtype=float32), array([1.7265341], dtype=float32), array([1.8526288], dtype=float32), array([1.9259044], dtype=float32), array([1.989582], dtype=float32), array([1.9365231], dtype=float32), array([1.8716605], dtype=float32), array([1.7692828], dtype=float32), array([1.7440813], dtype=float32), array([1.2935728], dtype=float32), array([1.3378973], dtype=float32), array([1.3217275], dtype=float32), array([1.439535], dtype=float32), array([1.3615174], dtype=float32), array([1.8189673], dtype=float32), array([1.6145159], dtype=float32), array([1.6374959], dtype=float32), array([1.692178], dtype=float32), array([2.1697433], dtype=float32), array([1.5442327], dtype=float32), array([1.6089617], dtype=float32), array([2.0413902], dtype=float32), array([2.513742], dtype=float32), array([2.1979303], dtype=float32), array([1.8163737], dtype=float32), array([1.7194334], dtype=float32), array([2.1784427], dtype=float32), array([1.8947597], dtype=float32), array([1.8528924], dtype=float32), array([1.5652912], dtype=float32), array([1.1796374], dtype=float32), array([1.4399681], dtype=float32), array([1.2590065], dtype=float32), array([1.4983236], dtype=float32), array([1.3578773], dtype=float32), array([1.4941328], dtype=float32), array([1.5872573], dtype=float32), array([1.3932929], dtype=float32), array([1.2785655], dtype=float32), array([1.5670702], dtype=float32), array([1.1627448], dtype=float32), array([1.2181455], dtype=float32), array([1.2875719], dtype=float32), array([1.1094902], dtype=float32), array([1.1345388], dtype=float32), array([2.919731], dtype=float32), array([3.0344386], dtype=float32), array([2.5374737], dtype=float32), array([2.7807763], dtype=float32), array([2.784381], dtype=float32), array([2.8477244], dtype=float32), array([2.7741654], dtype=float32), array([3.3171954], dtype=float32), array([2.9621499], dtype=float32), array([2.7722187], dtype=float32), array([3.1941576], dtype=float32), array([3.1157541], dtype=float32), array([2.921441], dtype=float32), array([3.0549393], dtype=float32), array([2.770699], dtype=float32), array([3.0022995], dtype=float32), array([3.0152643], dtype=float32), array([2.1888938], dtype=float32), array([2.8947961], dtype=float32), array([1.8906488], dtype=float32), array([1.9619436], dtype=float32), array([2.4288177], dtype=float32), array([2.382178], dtype=float32), array([2.2533636], dtype=float32), array([2.6010976], dtype=float32), array([3.3655815], dtype=float32), array([2.7379298], dtype=float32), array([2.3853488], dtype=float32), array([2.5817945], dtype=float32), array([2.5639706], dtype=float32), array([2.8759472], dtype=float32), array([1.6227266], dtype=float32), array([2.0384178], dtype=float32), array([2.5668445], dtype=float32), array([2.830884], dtype=float32), array([2.2286627], dtype=float32), array([3.3316457], dtype=float32), array([2.132747], dtype=float32), array([3.0754237], dtype=float32), array([2.809982], dtype=float32), array([3.052271], dtype=float32), array([3.1078193], dtype=float32), array([2.6870165], dtype=float32), array([2.8769476], dtype=float32), array([2.8052087], dtype=float32), array([3.0046859], dtype=float32), array([2.849474], dtype=float32), array([2.8060708], dtype=float32), array([3.1790571], dtype=float32), array([2.395138], dtype=float32), array([2.3648293], dtype=float32), array([1.7927701], dtype=float32), array([1.575517], dtype=float32), array([1.6180762], dtype=float32), array([1.784258], dtype=float32), array([1.523495], dtype=float32), array([1.5200713], dtype=float32), array([1.6560843], dtype=float32), array([1.2301124], dtype=float32), array([1.582377], dtype=float32), array([1.355971], dtype=float32), array([2.9369526], dtype=float32), array([3.0054095], dtype=float32), array([2.6333358], dtype=float32), array([2.6587884], dtype=float32), array([2.9016051], dtype=float32), array([1.6774349], dtype=float32)]\n",
      "outer loop\n",
      "middle loop\n",
      "inner loop\n"
     ]
    },
    {
     "name": "stdout",
     "output_type": "stream",
     "text": [
      "5.6442247228470555\n",
      "middle loop\n",
      "middle loop\n",
      "inner loop\n"
     ]
    }
   ],
   "source": [
    "epochs = 200\n",
    "preds_overall = []\n",
    "X_test_unscaled_all = []\n",
    "\n",
    "for test_counter in range(num_splits):\n",
    "    print('outer loop')\n",
    "    X_test, Y_test = split_X[test_counter], split_Y[test_counter]\n",
    "    \n",
    "    preds_average = []\n",
    "    \n",
    "    for val_counter in range(num_splits):\n",
    "        print('middle loop')\n",
    "        if val_counter != test_counter:\n",
    "            X_val, Y_val = split_X[val_counter], split_Y[val_counter]\n",
    "            \n",
    "            \n",
    "            X_train = []\n",
    "            Y_train = []\n",
    "            for train_counter in range(num_splits):\n",
    "                if train_counter != test_counter and train_counter != val_counter:\n",
    "                    if len(X_train) == 0:\n",
    "                        X_train = split_X[train_counter]\n",
    "                        Y_train = split_Y[train_counter]\n",
    "                    else:\n",
    "                        X_train = np.concatenate((X_train, split_X[train_counter]))\n",
    "                        Y_train = np.concatenate((Y_train, split_Y[train_counter]))\n",
    "                    \n",
    "                    \n",
    "\n",
    "                    \n",
    "            preds_best_loop = []\n",
    "            num_loops = 1\n",
    "            min_loss = None\n",
    "            \n",
    "            \n",
    "            for curr_index in range(num_loops):\n",
    "                print('inner loop')\n",
    "    \n",
    "                model = Sequential()\n",
    "                initializer =tf.keras.initializers.glorot_normal()\n",
    "                model.add(Dense(256, input_dim=5, activation='relu', bias_initializer = initializer)) \n",
    "                model.add(Dropout(0.25))\n",
    "                model.add(Dense(256, activation='relu', bias_initializer = initializer))\n",
    "                model.add(Dropout(0.25))\n",
    "                model.add(Dense(256, activation='relu', bias_initializer = initializer))\n",
    "                model.add(Dropout(0.25))\n",
    "                model.add(Dense(1, activation='sigmoid', bias_initializer = initializer))\n",
    "                optimizer = keras.optimizers.Adam(lr=1e-4)\n",
    "                model.compile(loss='binary_crossentropy', optimizer=optimizer, metrics=['accuracy'])\n",
    "                history = model.fit(X_train[:,1:],Y_train, epochs=epochs, batch_size=200, \n",
    "                                    validation_data=(X_val[:,1:], Y_val), verbose = 0) \n",
    "\n",
    "                preds_curr = model.predict(X_test[:,1:], batch_size=int(0.1*len(X_test)))\n",
    "                curr_loss = history.history['val_loss'][epochs - 1]\n",
    "                print(curr_loss)\n",
    "                \n",
    "                if not min_loss or curr_loss < min_loss:\n",
    "                    preds_best_loop = preds_curr\n",
    "                    min_loss = curr_loss\n",
    "                    \n",
    "        if len(preds_average) == 0:\n",
    "            preds_average = preds_best_loop\n",
    "        else:\n",
    "            preds_average += preds_best_loop\n",
    "            \n",
    "            \n",
    "                \n",
    "#                 loss_average += history.history['val_loss'][epochs-1]\n",
    "                \n",
    "#                 if len(preds_average) == 0:\n",
    "#                     preds_average = preds_curr\n",
    "#                 else:\n",
    "#                     preds_average += preds_curr\n",
    "\n",
    "                \n",
    "#             loss_average /= num_loops\n",
    "#             preds_average = np.array([elem/num_loops for elem in preds_average])\n",
    "#             if loss_average < min_loss:\n",
    "#                 best_val_index = val_counter\n",
    "#                 min_loss = loss_average\n",
    "#                 preds_best_val = preds_average\n",
    "    \n",
    "    preds_overall.extend(preds_average)\n",
    "    print(preds_overall)\n",
    "    X_test_unscaled_all.extend(myscalar.inverse_transform(X_test))\n",
    "\n",
    "        \n",
    "\n",
    "\n",
    "\n"
   ]
  },
  {
   "cell_type": "code",
   "execution_count": null,
   "metadata": {},
   "outputs": [],
   "source": [
    "plt.plot(history.history['val_loss'])\n",
    "plt.plot(history.history['loss'])"
   ]
  },
  {
   "cell_type": "code",
   "execution_count": 20,
   "metadata": {},
   "outputs": [],
   "source": [
    "preds_overall = np.array(preds_overall)\n",
    "stars_passing_cut = []\n",
    "preds_sorted = preds_overall[np.argsort(preds_overall[:,0])]\n",
    "X_test_unscaled_all = np.array(X_test_unscaled_all)\n",
    "X_test_sorted = X_test_unscaled_all[np.argsort(preds_overall[:,0])]\n",
    "X_test_sorted = X_test_sorted[(X_test_sorted[:,0] > pointer1) * (X_test_sorted[:,0] < pointer2)]\n",
    "\n",
    "stars_passing_cut = X_test_sorted[len(X_test_sorted) - 100:]"
   ]
  },
  {
   "cell_type": "code",
   "execution_count": 21,
   "metadata": {
    "scrolled": true
   },
   "outputs": [
    {
     "data": {
      "image/png": "[encoded data removed]",
      "text/plain": [
       "<Figure size 432x288 with 1 Axes>"
      ]
     },
     "metadata": {
      "needs_background": "light"
     },
     "output_type": "display_data"
    }
   ],
   "source": [
    "plt.scatter(stars_passing_cut[:,3],stars_passing_cut[:,2], marker = '.', label = 'Top 100 stars')\n",
    "plt.scatter(gaiadata3[:,3], gaiadata3[:,2], marker = '.', alpha = 0.2, label = 'GD1')\n",
    "plt.legend(frameon = False)\n",
    "plt.show()"
   ]
  },
  {
   "cell_type": "code",
   "execution_count": null,
   "metadata": {},
   "outputs": [],
   "source": [
    "import time"
   ]
  },
  {
   "cell_type": "code",
   "execution_count": null,
   "metadata": {},
   "outputs": [],
   "source": [
    "start_time = time.time()"
   ]
  },
  {
   "cell_type": "code",
   "execution_count": null,
   "metadata": {},
   "outputs": [],
   "source": [
    "#bigger batch size, lower learning rate, more epochs"
   ]
  },
  {
   "cell_type": "code",
   "execution_count": 22,
   "metadata": {},
   "outputs": [
    {
     "data": {
      "text/plain": [
       "Text(0.5, 0, '$\\\\mu_\\\\delta$ [$\\\\mu$as/year]')"
      ]
     },
     "execution_count": 22,
     "metadata": {},
     "output_type": "execute_result"
    },
    {
     "data": {
      "image/png": "[encoded data removed]",
      "text/plain": [
       "<Figure size 432x288 with 1 Axes>"
      ]
     },
     "metadata": {
      "needs_background": "light"
     },
     "output_type": "display_data"
    }
   ],
   "source": [
    "_,_,_=plt.hist(gaiadata2[:,0],bins=np.linspace(-30,10,100),label=\"All data\")\n",
    "_,_,_=plt.hist(gaiadata3[:,0],bins=np.linspace(-30,10,100),label=\"GD1\")\n",
    "plt.legend(frameon=False)\n",
    "plt.yscale(\"log\")\n",
    "plt.xlabel(r\"$\\mu_\\delta$ [$\\mu$as/year]\")"
   ]
  },
  {
   "cell_type": "code",
   "execution_count": 25,
   "metadata": {},
   "outputs": [
    {
     "data": {
      "text/plain": [
       "Text(0.5, 0, '$\\\\mu_\\\\delta$ [$\\\\mu$as/year]')"
      ]
     },
     "execution_count": 25,
     "metadata": {},
     "output_type": "execute_result"
    },
    {
     "data": {
      "image/png": "[encoded data removed]",
      "text/plain": [
       "<Figure size 432x288 with 1 Axes>"
      ]
     },
     "metadata": {
      "needs_background": "light"
     },
     "output_type": "display_data"
    }
   ],
   "source": [
    "_,_,_=plt.hist(SB[:,0],bins=np.linspace(-15,5,100),label=\"Sideband\")\n",
    "_,_,_=plt.hist(SR[:,0],bins=np.linspace(-15,5,100),label=\"Signal Region\")\n",
    "plt.legend(frameon=False)\n",
    "plt.xlabel(r\"$\\mu_\\delta$ [$\\mu$as/year]\")"
   ]
  },
  {
   "cell_type": "code",
   "execution_count": null,
   "metadata": {},
   "outputs": [],
   "source": []
  }
 ],
 "metadata": {
  "kernelspec": {
   "display_name": "Python 3",
   "language": "python",
   "name": "python3"
  },
  "language_info": {
   "codemirror_mode": {
    "name": "ipython",
    "version": 3
   },
   "file_extension": ".py",
   "mimetype": "text/x-python",
   "name": "python",
   "nbconvert_exporter": "python",
   "pygments_lexer": "ipython3",
   "version": "3.6.5"
  }
 },
 "nbformat": 4,
 "nbformat_minor": 4
}
