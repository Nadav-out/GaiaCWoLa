{
 "cells": [
  {
   "cell_type": "code",
   "execution_count": 2,
   "metadata": {},
   "outputs": [],
   "source": [
    "import numpy as np\n",
    "import matplotlib.pyplot as plt"
   ]
  },
  {
   "cell_type": "code",
   "execution_count": 3,
   "metadata": {},
   "outputs": [
    {
     "name": "stderr",
     "output_type": "stream",
     "text": [
      "Using TensorFlow backend.\n",
      "/opt/anaconda3/envs/shared_env/lib/python3.6/site-packages/tensorflow/python/framework/dtypes.py:523: FutureWarning: Passing (type, 1) or '1type' as a synonym of type is deprecated; in a future version of numpy, it will be understood as (type, (1,)) / '(1,)type'.\n",
      "  _np_qint8 = np.dtype([(\"qint8\", np.int8, 1)])\n",
      "/opt/anaconda3/envs/shared_env/lib/python3.6/site-packages/tensorflow/python/framework/dtypes.py:524: FutureWarning: Passing (type, 1) or '1type' as a synonym of type is deprecated; in a future version of numpy, it will be understood as (type, (1,)) / '(1,)type'.\n",
      "  _np_quint8 = np.dtype([(\"quint8\", np.uint8, 1)])\n",
      "/opt/anaconda3/envs/shared_env/lib/python3.6/site-packages/tensorflow/python/framework/dtypes.py:525: FutureWarning: Passing (type, 1) or '1type' as a synonym of type is deprecated; in a future version of numpy, it will be understood as (type, (1,)) / '(1,)type'.\n",
      "  _np_qint16 = np.dtype([(\"qint16\", np.int16, 1)])\n",
      "/opt/anaconda3/envs/shared_env/lib/python3.6/site-packages/tensorflow/python/framework/dtypes.py:526: FutureWarning: Passing (type, 1) or '1type' as a synonym of type is deprecated; in a future version of numpy, it will be understood as (type, (1,)) / '(1,)type'.\n",
      "  _np_quint16 = np.dtype([(\"quint16\", np.uint16, 1)])\n",
      "/opt/anaconda3/envs/shared_env/lib/python3.6/site-packages/tensorflow/python/framework/dtypes.py:527: FutureWarning: Passing (type, 1) or '1type' as a synonym of type is deprecated; in a future version of numpy, it will be understood as (type, (1,)) / '(1,)type'.\n",
      "  _np_qint32 = np.dtype([(\"qint32\", np.int32, 1)])\n",
      "/opt/anaconda3/envs/shared_env/lib/python3.6/site-packages/tensorflow/python/framework/dtypes.py:532: FutureWarning: Passing (type, 1) or '1type' as a synonym of type is deprecated; in a future version of numpy, it will be understood as (type, (1,)) / '(1,)type'.\n",
      "  np_resource = np.dtype([(\"resource\", np.ubyte, 1)])\n"
     ]
    }
   ],
   "source": [
    "from keras.layers import Input, Dense, Dropout\n",
    "from keras.models import Model, Sequential\n",
    "from sklearn.metrics import roc_curve, auc,roc_auc_score\n",
    "from sklearn.model_selection import train_test_split\n",
    "import pandas as pd\n",
    "from matplotlib import gridspec\n",
    "from scipy import stats\n",
    "from sklearn import preprocessing\n",
    "import os\n",
    "os.environ[\"CUDA_VISIBLE_DEVICES\"]=\"2\"\n",
    "\n",
    "# restart kernel\n",
    "# config = tf.ConfigProto()\n",
    "# config.gpu_options.allow_growth = True"
   ]
  },
  {
   "cell_type": "code",
   "execution_count": 4,
   "metadata": {},
   "outputs": [],
   "source": [
    "datafile=\"/data0/users/bpnachman/Gaia/GD1-circle-140-30-15.pkl\"\n",
    "gaiadata=np.load(datafile,allow_pickle=True)\n",
    "gaiadata2=np.array(gaiadata[['pmdec','pmra','dec','ra','phot_g_mean_mag','phot_bp_mean_mag','phot_rp_mean_mag', 'streammask']].astype('float32'))\n",
    "gaiadata2 = np.vstack([gaiadata2[:,0].T,\n",
    "           gaiadata2[:,1].T,\n",
    "           gaiadata2[:,2].T,\n",
    "           gaiadata2[:,3].T,\n",
    "           (gaiadata2[:,5]-gaiadata2[:,6]).T,\n",
    "           gaiadata2[:,4].T, \n",
    "            gaiadata2[:,7].T]).T\n",
    "gaiadata2 = gaiadata2[np.sum(np.isnan(gaiadata2),axis=1)==0]\n",
    "center_dec=0.5*(np.max(gaiadata2[:,2])+np.min(gaiadata2[:,2]))\n",
    "center_ra=0.5*(np.max(gaiadata2[:,3])+np.min(gaiadata2[:,3]))\n",
    "radius=np.sqrt((gaiadata2[:,2]-center_dec)**2+(gaiadata2[:,3]-center_ra)**2)\n",
    "gaiadata2=gaiadata2[radius<15]\n",
    "np.random.shuffle(gaiadata2)"
   ]
  },
  {
   "cell_type": "code",
   "execution_count": 5,
   "metadata": {},
   "outputs": [],
   "source": [
    "gaiadata3=np.array(gaiadata[gaiadata['streammask']==1][['pmdec','pmra','dec','ra','phot_g_mean_mag','phot_bp_mean_mag','phot_rp_mean_mag', 'streammask']].astype('float32'))\n",
    "gaiadata3 = np.vstack([gaiadata3[:,0].T,\n",
    "           gaiadata3[:,1].T,\n",
    "           gaiadata3[:,2].T,\n",
    "           gaiadata3[:,3].T,\n",
    "           (gaiadata3[:,5]-gaiadata3[:,6]).T,\n",
    "           gaiadata3[:,4].T, \n",
    "           gaiadata3[:, 7].T]).T\n",
    "gaiadata3 = gaiadata3[np.sum(np.isnan(gaiadata3),axis=1)==0]\n",
    "radius=np.sqrt((gaiadata3[:,2]-center_dec)**2+(gaiadata3[:,3]-center_ra)**2)\n",
    "gaiadata3=gaiadata3[radius<15]\n",
    "np.random.shuffle(gaiadata3)"
   ]
  },
  {
   "cell_type": "code",
   "execution_count": 6,
   "metadata": {},
   "outputs": [],
   "source": [
    "gaiadata2_no_gd1 = np.array(gaiadata[gaiadata['streammask']==0][['pmdec','pmra','dec','ra','phot_g_mean_mag','phot_bp_mean_mag','phot_rp_mean_mag', 'streammask']].astype('float32'))\n",
    "gaiadata2_no_gd1 = np.vstack([gaiadata2_no_gd1[:,0].T,\n",
    "           gaiadata2_no_gd1[:,1].T,\n",
    "           gaiadata2_no_gd1[:,2].T,\n",
    "           gaiadata2_no_gd1[:,3].T,\n",
    "           (gaiadata2_no_gd1[:,5]-gaiadata2_no_gd1[:,6]).T,\n",
    "           gaiadata2_no_gd1[:,4].T, \n",
    "            gaiadata2_no_gd1[:, 7].T]).T\n",
    "gaiadata2_no_gd1 = gaiadata2_no_gd1[np.sum(np.isnan(gaiadata2_no_gd1),axis=1)==0]\n",
    "radius=np.sqrt((gaiadata2_no_gd1[:,2]-center_dec)**2+(gaiadata2_no_gd1[:,3]-center_ra)**2)\n",
    "gaiadata2_no_gd1=gaiadata2_no_gd1[radius<15]\n",
    "np.random.shuffle(gaiadata2_no_gd1)                            "
   ]
  },
  {
   "cell_type": "code",
   "execution_count": 7,
   "metadata": {},
   "outputs": [
    {
     "data": {
      "text/plain": [
       "Index(['source_id', 'ra', 'ra_error', 'dec', 'dec_error', 'parallax',\n",
       "       'parallax_error', 'parallax_over_error', 'pmra', 'pmra_error', 'pmdec',\n",
       "       'pmdec_error', 'phot_g_mean_mag', 'phot_bp_mean_mag',\n",
       "       'phot_rp_mean_mag', 'bp_rp', 'radial_velocity', 'radial_velocity_error',\n",
       "       'teff_val', 'streammask'],\n",
       "      dtype='object')"
      ]
     },
     "execution_count": 7,
     "metadata": {},
     "output_type": "execute_result"
    }
   ],
   "source": [
    "gaiadata.keys()"
   ]
  },
  {
   "cell_type": "code",
   "execution_count": 8,
   "metadata": {},
   "outputs": [
    {
     "data": {
      "text/plain": [
       "<matplotlib.collections.PathCollection at 0x7f90f908f4a8>"
      ]
     },
     "execution_count": 8,
     "metadata": {},
     "output_type": "execute_result"
    },
    {
     "data": {
      "image/png": "[encoded data removed]",
      "text/plain": [
       "<Figure size 432x288 with 1 Axes>"
      ]
     },
     "metadata": {
      "needs_background": "light"
     },
     "output_type": "display_data"
    }
   ],
   "source": [
    "plt.scatter(gaiadata3[:,1],gaiadata3[:,0])"
   ]
  },
  {
   "cell_type": "code",
   "execution_count": 9,
   "metadata": {},
   "outputs": [
    {
     "data": {
      "text/plain": [
       "Text(0, 0.5, '$\\\\mu_\\\\delta$ [$\\\\mu$as/year]')"
      ]
     },
     "execution_count": 9,
     "metadata": {},
     "output_type": "execute_result"
    },
    {
     "data": {
      "image/png": "[encoded data removed]",
      "text/plain": [
       "<Figure size 432x288 with 1 Axes>"
      ]
     },
     "metadata": {
      "needs_background": "light"
     },
     "output_type": "display_data"
    }
   ],
   "source": [
    "_,_,_,_=plt.hist2d(gaiadata2[:,1]*np.cos(gaiadata2[:,2]),gaiadata2[:,0],bins=[np.linspace(-25,10,100),np.linspace(-25,10,100)])\n",
    "plt.xlabel(r\"$\\mu_\\alpha\\cos(\\delta)$ [$\\mu$as/year]\")\n",
    "plt.ylabel(r\"$\\mu_\\delta$ [$\\mu$as/year]\")"
   ]
  },
  {
   "cell_type": "code",
   "execution_count": 10,
   "metadata": {},
   "outputs": [
    {
     "data": {
      "text/plain": [
       "Text(0, 0.5, '$\\\\delta$ [degrees]')"
      ]
     },
     "execution_count": 10,
     "metadata": {},
     "output_type": "execute_result"
    },
    {
     "data": {
      "image/png": "[encoded data removed]",
      "text/plain": [
       "<Figure size 432x288 with 1 Axes>"
      ]
     },
     "metadata": {
      "needs_background": "light"
     },
     "output_type": "display_data"
    }
   ],
   "source": [
    "_,_,_,_=plt.hist2d(gaiadata2[:,3],gaiadata2[:,2],bins=[np.linspace(120,160,100),np.linspace(15,45,100)])\n",
    "plt.scatter(gaiadata3[:,3],gaiadata3[:,2],color='red',s=0.2)\n",
    "plt.xlabel(r\"$\\alpha$ [degrees]\")\n",
    "plt.ylabel(r\"$\\delta$ [degrees]\")"
   ]
  },
  {
   "cell_type": "code",
   "execution_count": 11,
   "metadata": {},
   "outputs": [
    {
     "data": {
      "text/plain": [
       "Text(0, 0.5, '$\\\\delta$ [degrees]')"
      ]
     },
     "execution_count": 11,
     "metadata": {},
     "output_type": "execute_result"
    },
    {
     "data": {
      "image/png": "[encoded data removed]",
      "text/plain": [
       "<Figure size 432x288 with 1 Axes>"
      ]
     },
     "metadata": {
      "needs_background": "light"
     },
     "output_type": "display_data"
    }
   ],
   "source": [
    "X = gaiadata2[:,3]-center_ra\n",
    "Y = gaiadata2[:,2]-center_dec\n",
    "\n",
    "Xs = gaiadata3[:,3]-center_ra\n",
    "Ys = gaiadata3[:,2]-center_dec\n",
    "\n",
    "theta = -0.5\n",
    "Xr = X*np.cos(theta) + Y*np.sin(theta)\n",
    "Yr = -X*np.sin(theta) + Y*np.cos(theta)\n",
    "Xsr = Xs*np.cos(theta) + Ys*np.sin(theta)\n",
    "Ysr = -Xs*np.sin(theta) + Ys*np.cos(theta)\n",
    "\n",
    "_,_,_,_=plt.hist2d(Xr,Yr,bins=[np.linspace(-15,15,100),np.linspace(-15,15,100)])\n",
    "plt.scatter(Xsr,Ysr,color='red',s=0.2)\n",
    "plt.xlabel(r\"$\\alpha$ [degrees]\")\n",
    "plt.ylabel(r\"$\\delta$ [degrees]\")"
   ]
  },
  {
   "cell_type": "code",
   "execution_count": 12,
   "metadata": {},
   "outputs": [
    {
     "data": {
      "text/plain": [
       "Text(0.5, 0, 'Rotated $\\\\delta$-$\\\\alpha$ space')"
      ]
     },
     "execution_count": 12,
     "metadata": {},
     "output_type": "execute_result"
    },
    {
     "data": {
      "image/png": "[encoded data removed]",
      "text/plain": [
       "<Figure size 432x288 with 1 Axes>"
      ]
     },
     "metadata": {
      "needs_background": "light"
     },
     "output_type": "display_data"
    }
   ],
   "source": [
    "plt.hist(Xr,label=\"All data\")\n",
    "plt.hist(Xsr,label=\"GD1\")\n",
    "plt.yscale(\"log\")\n",
    "plt.legend(frameon=False)\n",
    "plt.ylim([1,1e6])\n",
    "plt.xlabel(r\"Rotated $\\delta$-$\\alpha$ space\")"
   ]
  },
  {
   "cell_type": "code",
   "execution_count": 13,
   "metadata": {},
   "outputs": [
    {
     "data": {
      "text/plain": [
       "Text(0.5, 0, '$\\\\mu_\\\\alpha\\\\cos(\\\\delta)$ [$\\\\mu$as/year]')"
      ]
     },
     "execution_count": 13,
     "metadata": {},
     "output_type": "execute_result"
    },
    {
     "data": {
      "image/png": "[encoded data removed]",
      "text/plain": [
       "<Figure size 432x288 with 1 Axes>"
      ]
     },
     "metadata": {
      "needs_background": "light"
     },
     "output_type": "display_data"
    }
   ],
   "source": [
    "_,_,_=plt.hist(gaiadata2[:,1]*np.cos(gaiadata2[:,2]),bins=np.linspace(-30,10,100),label=\"All data\")\n",
    "_,_,_=plt.hist(gaiadata3[:,1]*np.cos(gaiadata3[:,2]),bins=np.linspace(-30,10,100),label=\"GD1\")\n",
    "plt.legend(frameon=False)\n",
    "plt.yscale(\"log\")\n",
    "plt.xlabel(r\"$\\mu_\\alpha\\cos(\\delta)$ [$\\mu$as/year]\")"
   ]
  },
  {
   "cell_type": "code",
   "execution_count": 14,
   "metadata": {},
   "outputs": [
    {
     "data": {
      "text/plain": [
       "Text(0.5, 0, '$\\\\mu_\\\\delta$ [$\\\\mu$as/year]')"
      ]
     },
     "execution_count": 14,
     "metadata": {},
     "output_type": "execute_result"
    },
    {
     "data": {
      "image/png": "[encoded data removed]",
      "text/plain": [
       "<Figure size 432x288 with 1 Axes>"
      ]
     },
     "metadata": {
      "needs_background": "light"
     },
     "output_type": "display_data"
    }
   ],
   "source": [
    "_,_,_=plt.hist(gaiadata2[:,0],bins=np.linspace(-30,10,100),label=\"All data\")\n",
    "_,_,_=plt.hist(gaiadata3[:,0],bins=np.linspace(-30,10,100),label=\"GD1\")\n",
    "plt.legend(frameon=False)\n",
    "plt.yscale(\"log\")\n",
    "plt.xlabel(r\"$\\mu_\\delta$ [$\\mu$as/year]\")"
   ]
  },
  {
   "cell_type": "code",
   "execution_count": 15,
   "metadata": {},
   "outputs": [],
   "source": [
    "def build_data_arrays(SR, SB, GD1):\n",
    "    X = SR[:,3]-center_ra\n",
    "    Y = SR[:,2]-center_dec\n",
    "\n",
    "    Xb = SB[:,3]-center_ra\n",
    "    Yb = SB[:,2]-center_dec\n",
    "\n",
    "    Xs = GD1[:,3]-center_ra\n",
    "    Ys = GD1[:,2]-center_dec\n",
    "\n",
    "    SR = np.c_[SR[:,0],SR[:,1],X, Y, SR[:,4],SR[:,5], SR[:,6]]\n",
    "    SB = np.c_[SB[:,0],SB[:,1],Xb, Yb, SB[:,4],SB[:,5], SB[:,6]]\n",
    "    GD1 = np.c_[GD1[:,0],GD1[:,1],Xs, Ys, GD1[:,4],GD1[:,5], GD1[:,6]]\n",
    "    \n",
    "    return SR, SB, GD1"
   ]
  },
  {
   "cell_type": "code",
   "execution_count": null,
   "metadata": {},
   "outputs": [],
   "source": [
    "def build_model(SR, SB, stream, num_models, all_data, plot_cuts = False):\n",
    "    X = np.concatenate([SR,SB,stream])\n",
    "    Y = np.concatenate([np.ones(len(SR)),np.zeros(len(SB)),2.*np.ones(len(stream))])\n",
    "    X_scaled = preprocessing.scale(X[:, :6])\n",
    "    all_data_scaled = preprocessing.scale(all_data[:, :6])\n",
    "    X_scaled = np.c_[X_scaled, X[:, 6]]\n",
    "    stream_scaled = X_scaled[Y==2]\n",
    "    X_scaled = X_scaled[Y<2]\n",
    "    Y = Y[Y<2]\n",
    "    X_train, X_test, Y_train, Y_test = train_test_split(X_scaled, Y, test_size=0.5)\n",
    "\n",
    "#     tpr_arr = []\n",
    "#     fpr_arr = []\n",
    "#     stream_background_x_arr = []\n",
    "#     stream_background_y_arr = []\n",
    "\n",
    "    for i in range(num_models):\n",
    "\n",
    "        model = Sequential()\n",
    "        model.add(Dense(64, input_dim=5, activation='relu')) \n",
    "        model.add(Dense(64, activation='relu'))\n",
    "        model.add(Dense(64, activation='relu'))\n",
    "        model.add(Dense(1, activation='sigmoid'))\n",
    "        model.compile(loss='binary_crossentropy', optimizer='adam', metrics=['accuracy'])\n",
    "        history = model.fit(X_train[:,1:6],Y_train, epochs=20, batch_size=200,validation_data=(X_test[:,1:6],Y_test), verbose = 0) \n",
    "\n",
    "        preds = model.predict(X_test[:,1:6], batch_size=int(0.1*len(X_test)))\n",
    "        preds_SR = preds[(Y_test == 1) * (X_test[:, 6] == 0)]\n",
    "        \n",
    "        preds_all = model.predict(all_data_scaled[:, 1:6], batch_size = int(0.1*len(all_data_scaled))) #0.01\n",
    "\n",
    "        preds_stream = model.predict(stream_scaled[:,1:6], batch_size=int(0.1*len(stream_scaled)))\n",
    "\n",
    "#         fpr, tpr, thresholds = roc_curve(np.concatenate([np.zeros(len(preds_SR)),np.ones(len(preds_stream))]), np.concatenate([preds_SR,preds_stream]))\n",
    "#         fpr2, tpr2, thresholds2 = roc_curve(Y_test, preds)\n",
    "                \n",
    "#         tpr_arr.append(tpr)\n",
    "#         fpr_arr.append(fpr)\n",
    "#         stream_background_x_arr.append(tpr2)\n",
    "#         stream_background_y_arr.append(fpr2)\n",
    "        \n",
    "#         chi_squared_arr = []\n",
    "        cuts = [0.,0.5,0.9,0.99]\n",
    "#         prev_bins_sizes = []\n",
    "        if plot_cuts:\n",
    "            for i in range(len(cuts)):\n",
    "                cut = cuts[i]\n",
    "                print(cut)\n",
    "#                 X_pass = X_test[(Y_test==1)*(preds[:,0] > np.quantile(preds[Y_test==1],[cut])[0])]\n",
    "#                 print(np.quantile(preds[Y_test==1], [cut]))\n",
    "#                 print(preds_stream[:,0] > np.quantile(preds_all[Y_test==1],[cut])[0])\n",
    "#                 print(stream_scaled[preds_stream[:,0] > np.quantile(preds_all[Y_test==1],[cut])[0]])\n",
    "                X_pass_stream = stream_scaled[preds_stream[:,0] > np.quantile(preds[Y_test==1],[cut])[0]]\n",
    "            \n",
    "                print((preds[:,0] > np.quantile(preds[Y_test==1],[cut])[0]))\n",
    "                X_pass_all = all_data_scaled[(preds_all[:,0] > np.quantile(preds[Y_test==1],[cut])[0])]\n",
    "                plt.figure(figsize=(6,6))\n",
    "                plt.hist(X_pass_all[:,0], label = \"All data\", bins = np.linspace(-20, 10, 30))\n",
    "                plt.hist(X_pass_stream[:,0], label = \"GD1\", bins = np.linspace(-20, 10, 30))\n",
    "                plt.yscale(\"log\")\n",
    "                plt.show()\n",
    "#                 plt.figure(figsize=(6,6))\n",
    "#                 bin_sizes, _, _ = plt.hist(X_pass[:,1], label = \"All data\", alpha = 0.5, bins = np.linspace(-2, 2, 20))\n",
    "# #                 print(bin_sizes)\n",
    "                \n",
    "#                 if i > 0:\n",
    "#                     chi_squared_arr.append(sum([((b - p)**2)/p for b, p in zip(bin_sizes, prev_bin_sizes)]))\n",
    "\n",
    "#                 #plt.hist(X_pass[:,1],label=\"All data\",alpha=0.5,bins=np.linspace(-2,2,20))\n",
    "#                 plt.hist(X_pass_stream[:,1],label=\"GD1\",alpha=0.5,bins=np.linspace(-2,2,20))\n",
    "#                 plt.yscale(\"log\")\n",
    "#                 plt.legend(frameon=False,title=str(100*cut)+\"th percentile cut\",fontsize=20)\n",
    "#                 plt.ylim([1,1e6])\n",
    "#                 plt.ylabel(\"Counts\",fontsize=20)\n",
    "#                 plt.xlabel(\"Proper motion RA\",fontsize=20)\n",
    "#                 plt.show()\n",
    "#                 if i == 0:\n",
    "#                     prev_bin_sizes = bin_sizes\n",
    "    \n",
    "#     return tpr_arr, fpr_arr, chi_squared_arr"
   ]
  },
  {
   "cell_type": "code",
   "execution_count": 18,
   "metadata": {},
   "outputs": [],
   "source": [
    "threshold_arr_size = 10000"
   ]
  },
  {
   "cell_type": "code",
   "execution_count": 19,
   "metadata": {
    "scrolled": false
   },
   "outputs": [
    {
     "data": {
      "image/png": "[encoded data removed]",
      "text/plain": [
       "<Figure size 432x288 with 1 Axes>"
      ]
     },
     "metadata": {
      "needs_background": "light"
     },
     "output_type": "display_data"
    },
    {
     "name": "stderr",
     "output_type": "stream",
     "text": [
      "/opt/anaconda3/envs/shared_env/lib/python3.6/site-packages/sklearn/preprocessing/data.py:172: UserWarning: Numerical issues were encountered when centering the data and might not be solved. Dataset may contain too large values. You may need to prescale your features.\n",
      "  warnings.warn(\"Numerical issues were encountered \"\n",
      "/opt/anaconda3/envs/shared_env/lib/python3.6/site-packages/sklearn/preprocessing/data.py:189: UserWarning: Numerical issues were encountered when scaling the data and might not be solved. The standard deviation of the data is probably very close to 0. \n",
      "  warnings.warn(\"Numerical issues were encountered \"\n",
      "/opt/anaconda3/envs/shared_env/lib/python3.6/site-packages/sklearn/preprocessing/data.py:172: UserWarning: Numerical issues were encountered when centering the data and might not be solved. Dataset may contain too large values. You may need to prescale your features.\n",
      "  warnings.warn(\"Numerical issues were encountered \"\n",
      "/opt/anaconda3/envs/shared_env/lib/python3.6/site-packages/sklearn/preprocessing/data.py:189: UserWarning: Numerical issues were encountered when scaling the data and might not be solved. The standard deviation of the data is probably very close to 0. \n",
      "  warnings.warn(\"Numerical issues were encountered \"\n"
     ]
    },
    {
     "name": "stdout",
     "output_type": "stream",
     "text": [
      "0.0\n",
      "[ True  True  True ...  True  True  True]\n"
     ]
    },
    {
     "data": {
      "image/png": "[encoded data removed]",
      "text/plain": [
       "<Figure size 432x432 with 1 Axes>"
      ]
     },
     "metadata": {
      "needs_background": "light"
     },
     "output_type": "display_data"
    },
    {
     "name": "stdout",
     "output_type": "stream",
     "text": [
      "0.5\n",
      "[ True False False ...  True False False]\n"
     ]
    },
    {
     "data": {
      "image/png": "[encoded data removed]",
      "text/plain": [
       "<Figure size 432x432 with 1 Axes>"
      ]
     },
     "metadata": {
      "needs_background": "light"
     },
     "output_type": "display_data"
    },
    {
     "name": "stdout",
     "output_type": "stream",
     "text": [
      "0.9\n",
      "[False False False ... False False False]\n"
     ]
    },
    {
     "data": {
      "image/png": "[encoded data removed]",
      "text/plain": [
       "<Figure size 432x432 with 1 Axes>"
      ]
     },
     "metadata": {
      "needs_background": "light"
     },
     "output_type": "display_data"
    },
    {
     "name": "stdout",
     "output_type": "stream",
     "text": [
      "0.99\n",
      "[False False False ... False False False]\n"
     ]
    },
    {
     "data": {
      "image/png": "[encoded data removed]",
      "text/plain": [
       "<Figure size 432x432 with 1 Axes>"
      ]
     },
     "metadata": {
      "needs_background": "light"
     },
     "output_type": "display_data"
    }
   ],
   "source": [
    "SR = gaiadata2[(gaiadata2[:,0] > -15)*(gaiadata2[:,0] < -11)]\n",
    "SB = gaiadata2[(gaiadata2[:,0] > -18)*(gaiadata2[:,0] < -15)+(gaiadata2[:,0] > -11)*(gaiadata2[:,0] < -9.5)]\n",
    "\n",
    "if len(SR) >= threshold_arr_size:\n",
    "    SR, SB, GD1 = build_data_arrays(SR, SB, gaiadata3)\n",
    "    _,_,_=plt.hist(SR[:,0],bins=np.linspace(-30,10,100),label=\"SR\")\n",
    "    _,_,_=plt.hist(SB[:,0],bins=np.linspace(-30,10,100),label=\"SB\")\n",
    "    plt.legend(frameon=False)\n",
    "    plt.show()\n",
    "    build_model(SR, SB, GD1, 1, gaiadata2, True)"
   ]
  },
  {
   "cell_type": "code",
   "execution_count": 20,
   "metadata": {
    "scrolled": false
   },
   "outputs": [
    {
     "data": {
      "image/png": "[encoded data removed]",
      "text/plain": [
       "<Figure size 432x288 with 1 Axes>"
      ]
     },
     "metadata": {
      "needs_background": "light"
     },
     "output_type": "display_data"
    },
    {
     "name": "stderr",
     "output_type": "stream",
     "text": [
      "/opt/anaconda3/envs/shared_env/lib/python3.6/site-packages/sklearn/preprocessing/data.py:172: UserWarning: Numerical issues were encountered when centering the data and might not be solved. Dataset may contain too large values. You may need to prescale your features.\n",
      "  warnings.warn(\"Numerical issues were encountered \"\n",
      "/opt/anaconda3/envs/shared_env/lib/python3.6/site-packages/sklearn/preprocessing/data.py:189: UserWarning: Numerical issues were encountered when scaling the data and might not be solved. The standard deviation of the data is probably very close to 0. \n",
      "  warnings.warn(\"Numerical issues were encountered \"\n",
      "/opt/anaconda3/envs/shared_env/lib/python3.6/site-packages/sklearn/preprocessing/data.py:172: UserWarning: Numerical issues were encountered when centering the data and might not be solved. Dataset may contain too large values. You may need to prescale your features.\n",
      "  warnings.warn(\"Numerical issues were encountered \"\n",
      "/opt/anaconda3/envs/shared_env/lib/python3.6/site-packages/sklearn/preprocessing/data.py:189: UserWarning: Numerical issues were encountered when scaling the data and might not be solved. The standard deviation of the data is probably very close to 0. \n",
      "  warnings.warn(\"Numerical issues were encountered \"\n"
     ]
    },
    {
     "name": "stdout",
     "output_type": "stream",
     "text": [
      "0.0\n",
      "[ True  True  True ...  True  True  True]\n"
     ]
    },
    {
     "data": {
      "image/png": "[encoded data removed]",
      "text/plain": [
       "<Figure size 432x432 with 1 Axes>"
      ]
     },
     "metadata": {
      "needs_background": "light"
     },
     "output_type": "display_data"
    },
    {
     "name": "stdout",
     "output_type": "stream",
     "text": [
      "0.5\n",
      "[False  True False ... False  True False]\n"
     ]
    },
    {
     "data": {
      "image/png": "[encoded data removed]",
      "text/plain": [
       "<Figure size 432x432 with 1 Axes>"
      ]
     },
     "metadata": {
      "needs_background": "light"
     },
     "output_type": "display_data"
    },
    {
     "name": "stdout",
     "output_type": "stream",
     "text": [
      "0.9\n",
      "[False False False ... False False False]\n"
     ]
    },
    {
     "data": {
      "image/png": "[encoded data removed]",
      "text/plain": [
       "<Figure size 432x432 with 1 Axes>"
      ]
     },
     "metadata": {
      "needs_background": "light"
     },
     "output_type": "display_data"
    },
    {
     "name": "stdout",
     "output_type": "stream",
     "text": [
      "0.99\n",
      "[False False False ... False False False]\n"
     ]
    },
    {
     "data": {
      "image/png": "[encoded data removed]",
      "text/plain": [
       "<Figure size 432x432 with 1 Axes>"
      ]
     },
     "metadata": {
      "needs_background": "light"
     },
     "output_type": "display_data"
    }
   ],
   "source": [
    "SR = gaiadata2_no_gd1[(gaiadata2_no_gd1[:,0] > -15)*(gaiadata2_no_gd1[:,0] < -11)]\n",
    "SB = gaiadata2_no_gd1[(gaiadata2_no_gd1[:,0] > -18)*(gaiadata2_no_gd1[:,0] < -15)+(gaiadata2_no_gd1[:,0] > -11)*(gaiadata2_no_gd1[:,0] < -9.5)]\n",
    "\n",
    "if len(SR) >= threshold_arr_size:\n",
    "    SR, SB, GD1 = build_data_arrays(SR, SB, gaiadata3)\n",
    "    _,_,_=plt.hist(SR[:,0],bins=np.linspace(-30,10,100),label=\"SR\")\n",
    "    _,_,_=plt.hist(SB[:,0],bins=np.linspace(-30,10,100),label=\"SB\")\n",
    "    plt.legend(frameon=False)\n",
    "    plt.show()\n",
    "    build_model(SR, SB, GD1, 1, gaiadata2, True)"
   ]
  },
  {
   "cell_type": "code",
   "execution_count": null,
   "metadata": {},
   "outputs": [],
   "source": [
    "def calc_diff(SR, SB):\n",
    "    return abs(len(SR) - len(SB))"
   ]
  },
  {
   "cell_type": "code",
   "execution_count": null,
   "metadata": {},
   "outputs": [],
   "source": [
    "def find_SR_SB_pointers(pointers, increment, data_arr):\n",
    "    SR = data_arr[(data_arr[:,0] > pointers[1])*(data_arr[:,0] < pointers[2])]\n",
    "    SB = data_arr[(data_arr[:,0] > pointers[0])*(data_arr[:,0] < pointers[1]) + (data_arr[:,0] > pointers[2])*(data_arr[:,0] < pointers[3])]\n",
    "\n",
    "    previous_diff = calc_diff(SR, SB)\n",
    "    prev_SR, prev_SB = SR, SB\n",
    "    curr_diff = previous_diff\n",
    "    bottom_bool = False\n",
    "    top_bool = True\n",
    "\n",
    "    while curr_diff <= previous_diff and pointers[3] < end_point:\n",
    "        previous_diff, prev_SR, prev_SB = curr_diff, SR, SB\n",
    "        if bottom_bool:\n",
    "            pointers[0] = max(start_point, pointers[0] - increment)\n",
    "        else:\n",
    "            pointers[3] = min(end_point, pointers[3] + increment)\n",
    "        bottom_bool, top_bool = top_bool, bottom_bool\n",
    "        SR = data_arr[(data_arr[:,0] > pointers[1])*(data_arr[:,0] < pointers[2])]\n",
    "        SB = data_arr[(data_arr[:,0] > pointers[0])*(data_arr[:,0] < pointers[1]) + (data_arr[:,0] > pointers[2])*(data_arr[:,0] < pointers[3])]\n",
    "        curr_diff = calc_diff(SR, SB)\n",
    "\n",
    "    return prev_SR, prev_SB"
   ]
  },
  {
   "cell_type": "code",
   "execution_count": null,
   "metadata": {
    "scrolled": true
   },
   "outputs": [],
   "source": [
    "start_point = min(gaiadata2[:,0])\n",
    "pointers = np.zeros(4)\n",
    "signal_size = 4\n",
    "signal_increment = 2\n",
    "sb_start_diff = 0.5\n",
    "pointers[0] = start_point\n",
    "pointers[1] = start_point + sb_start_diff\n",
    "pointers[2] = pointers[1] + signal_size\n",
    "pointers[3] = pointers[2] + sb_start_diff\n",
    "end_point = max(gaiadata2[:,0])\n",
    "auc_arr = np.array([])\n",
    "region_mids = np.array([])\n",
    "threshold_arr_size = 10000\n",
    "while pointers[3] <= end_point:\n",
    "    SR, SB = find_SR_SB_pointers(pointers, sb_start_diff, gaiadata2)\n",
    "\n",
    "    if len(SR) >= threshold_arr_size:\n",
    "        SR, SB, GD1 = build_data_arrays(SR, SB, gaiadata3)\n",
    "#         _,_,_=plt.hist(SR[:,0],bins=np.linspace(-30,10,100),label=\"SR\")\n",
    "#         _,_,_=plt.hist(SB[:,0],bins=np.linspace(-30,10,100),label=\"SB\")\n",
    "#         plt.legend(frameon=False)\n",
    "#         plt.show()\n",
    "        tpr_gd1_1, fpr_gd1_1, chi_arr = build_model(SR, SB, GD1, 1, True)\n",
    "        print((pointers[1] + pointers[2])/2, chi_arr)\n",
    "#         for x, y in zip(tpr_gd1_1, fpr_gd1_1):\n",
    "#             plt.plot(x, x/y**0.5)\n",
    "#             plt.show()\n",
    "#         auc_arr = np.append(auc_arr, auc(fpr_gd1_2[0], tpr_gd1_2[0]))\n",
    "#         region_mids = np.append(region_mids, (pointers[1] + pointers[2])/2)\n",
    "    pointers[1] += signal_increment\n",
    "    pointers[2] += signal_increment\n",
    "    pointers[0] = pointers[1] - sb_start_diff\n",
    "    pointers[3] = pointers[2] + sb_start_diff"
   ]
  },
  {
   "cell_type": "code",
   "execution_count": null,
   "metadata": {
    "scrolled": true
   },
   "outputs": [],
   "source": [
    "start_point = min(gaiadata2[:,0])\n",
    "pointers = np.zeros(4)\n",
    "signal_size = 4\n",
    "signal_increment = 2\n",
    "sb_start_diff = 0.5\n",
    "pointers[0] = start_point\n",
    "pointers[1] = start_point + sb_start_diff\n",
    "pointers[2] = pointers[1] + signal_size\n",
    "pointers[3] = pointers[2] + sb_start_diff\n",
    "end_point = max(gaiadata2[:,0])\n",
    "auc_arr = np.array([])\n",
    "region_mids = np.array([])\n",
    "threshold_arr_size = 10000\n",
    "while pointers[3] <= end_point:\n",
    "    SR, SB = find_SR_SB_pointers(pointers, sb_start_diff, gaiadata2_no_gd1)\n",
    "\n",
    "    if len(SR) >= threshold_arr_size:\n",
    "        SR, SB, GD1 = build_data_arrays(SR, SB, gaiadata3)\n",
    "#         _,_,_=plt.hist(SR[:,0],bins=np.linspace(-30,10,100),label=\"SR\")\n",
    "#         _,_,_=plt.hist(SB[:,0],bins=np.linspace(-30,10,100),label=\"SB\")\n",
    "#         plt.legend(frameon=False)\n",
    "#         plt.show()\n",
    "        tpr_gd1_1, fpr_gd1_1, chi_arr = build_model(SR, SB, GD1, 1, True)\n",
    "        print((pointers[1] + pointers[2])/2, chi_arr)\n",
    "#         for x, y in zip(tpr_gd1_1, fpr_gd1_1):\n",
    "#             plt.plot(x, x/y**0.5)\n",
    "#             plt.show()\n",
    "#         auc_arr = np.append(auc_arr, auc(fpr_gd1_2[0], tpr_gd1_2[0]))\n",
    "#         region_mids = np.append(region_mids, (pointers[1] + pointers[2])/2)\n",
    "    pointers[1] += signal_increment\n",
    "    pointers[2] += signal_increment\n",
    "    pointers[0] = pointers[1] - sb_start_diff\n",
    "    pointers[3] = pointers[2] + sb_start_diff"
   ]
  },
  {
   "cell_type": "code",
   "execution_count": null,
   "metadata": {},
   "outputs": [],
   "source": [
    "for x,y in zip(region_mids, auc_arr):\n",
    "    plt.scatter(x, y)"
   ]
  },
  {
   "cell_type": "code",
   "execution_count": null,
   "metadata": {
    "scrolled": true
   },
   "outputs": [],
   "source": [
    "start_point = min(gaiadata2[:,0])\n",
    "pointers = np.zeros(4)\n",
    "signal_increment = 4\n",
    "sb_start_diff = 0.5\n",
    "pointers[0] = start_point\n",
    "pointers[1] = start_point + sb_start_diff\n",
    "pointers[2] = pointers[1] + signal_increment\n",
    "pointers[3] = pointers[2] + sb_start_diff\n",
    "end_point = max(gaiadata2[:,0])\n",
    "auc_arr_no_gd1 = np.array([])\n",
    "region_mids_no_gd1 = np.array([])\n",
    "threshold_arr_size = 10000\n",
    "while pointers[3] <= end_point:\n",
    "    SR, SB = find_SR_SB_pointers(pointers, sb_start_diff, gaiadata2_no_gd1)\n",
    "\n",
    "    if len(SR) >= threshold_arr_size:\n",
    "        SR, SB, GD1 = build_data_arrays(SR, SB, gaiadata3)\n",
    "        _,_,_=plt.hist(SR[:,0],bins=np.linspace(-30,10,100),label=\"SR\")\n",
    "        _,_,_=plt.hist(SB[:,0],bins=np.linspace(-30,10,100),label=\"SB\")\n",
    "        plt.legend(frameon=False)\n",
    "        plt.show()\n",
    "        tpr_gd1_1, fpr_gd1_1, tpr_gd1_2, fpr_gd1_2 = build_model(SR, SB, GD1, 1)\n",
    "        print(pointers)\n",
    "        for x, y in zip(tpr_gd1_2, fpr_gd1_2):\n",
    "            plt.plot(y, x)\n",
    "            plt.show()\n",
    "        auc_arr_no_gd1 = np.append(auc_arr_no_gd1, auc(fpr_gd1_2[0], tpr_gd1_2[0]))\n",
    "        region_mids_no_gd1 = np.append(region_mids_no_gd1, (pointers[1] + pointers[2])/2)\n",
    "    pointers[1] = pointers[2]\n",
    "    pointers[2] += signal_increment\n",
    "    pointers[0] = pointers[1] - sb_start_diff\n",
    "    pointers[3] = pointers[2] + sb_start_diff"
   ]
  },
  {
   "cell_type": "code",
   "execution_count": null,
   "metadata": {},
   "outputs": [],
   "source": [
    "#look at regions with 10k stars"
   ]
  },
  {
   "cell_type": "code",
   "execution_count": null,
   "metadata": {},
   "outputs": [],
   "source": [
    "start_point"
   ]
  },
  {
   "cell_type": "code",
   "execution_count": null,
   "metadata": {},
   "outputs": [],
   "source": [
    "end_point"
   ]
  },
  {
   "cell_type": "code",
   "execution_count": null,
   "metadata": {},
   "outputs": [],
   "source": [
    "#run one model, 20 epochs for each iteration"
   ]
  },
  {
   "cell_type": "code",
   "execution_count": null,
   "metadata": {},
   "outputs": [],
   "source": [
    "#compute auc for tpr, fpr as metric\n",
    "#auc as a function of region - should be 0.5 if no stream"
   ]
  },
  {
   "cell_type": "code",
   "execution_count": null,
   "metadata": {},
   "outputs": [],
   "source": [
    "#average of second and third numbers as region center"
   ]
  },
  {
   "cell_type": "code",
   "execution_count": null,
   "metadata": {},
   "outputs": [],
   "source": [
    "#run with and without GD1"
   ]
  },
  {
   "cell_type": "code",
   "execution_count": null,
   "metadata": {
    "scrolled": false
   },
   "outputs": [],
   "source": [
    "SR = gaiadata2[(gaiadata2[:,0] > -15)*(gaiadata2[:,0] < -11)]\n",
    "SB = gaiadata2[(gaiadata2[:,0] > -18)*(gaiadata2[:,0] < -15)+(gaiadata2[:,0] > -11)*(gaiadata2[:,0] < -9.5)]\n",
    "\n",
    "if len(SR) >= threshold_arr_size:\n",
    "    SR, SB, GD1 = build_data_arrays(SR, SB, gaiadata3)\n",
    "    _,_,_=plt.hist(SR[:,0],bins=np.linspace(-30,10,100),label=\"SR\")\n",
    "    _,_,_=plt.hist(SB[:,0],bins=np.linspace(-30,10,100),label=\"SB\")\n",
    "    plt.legend(frameon=False)\n",
    "    plt.show()\n",
    "    build_model(SR, SB, GD1, 1, gaiadata2, True)\n",
    "#     tpr_gd1_1, fpr_gd1_1, chi_squared_arr = build_model(SR, SB, GD1, 1, plot_cuts = True)\n",
    "    \n",
    "    #run with/without GD1 with all data histogram\n",
    "    \n",
    "    \n",
    "    \n",
    "#     for x, y in zip(tpr_gd1_1, fpr_gd1_1):\n",
    "#         plt.plot(x, x/y**0.5)\n",
    "#         plt.show()\n",
    "#     for x, y in zip(tpr_gd1_2, fpr_gd1_2):\n",
    "#         plt.plot(y, x)\n",
    "#         plt.show()\n",
    "#     auc_arr = np.append(auc_arr, auc(fpr_gd1_2[0], tpr_gd1_2[0]))\n",
    "#     region_mids = np.append(region_mids, (pointers[1] + pointers[2])/2)\n"
   ]
  },
  {
   "cell_type": "code",
   "execution_count": null,
   "metadata": {},
   "outputs": [],
   "source": [
    "chi_squared_arr"
   ]
  },
  {
   "cell_type": "code",
   "execution_count": null,
   "metadata": {
    "scrolled": false
   },
   "outputs": [],
   "source": [
    "SR = gaiadata2[(gaiadata2[:,0] > -18)*(gaiadata2[:,0] < -16)]\n",
    "SB = gaiadata2[(gaiadata2[:,0] > -19)*(gaiadata2[:,0] < -18)+(gaiadata2[:,0] > -16)*(gaiadata2[:,0] < -15)]\n",
    "print(len(SR), len(SB))\n",
    "\n",
    "if len(SR) >= threshold_arr_size:\n",
    "    SR, SB, GD1 = build_data_arrays(SR, SB, gaiadata3)\n",
    "    _,_,_=plt.hist(SR[:,0],bins=np.linspace(-30,10,100),label=\"SR\")\n",
    "    _,_,_=plt.hist(SB[:,0],bins=np.linspace(-30,10,100),label=\"SB\")\n",
    "    plt.legend(frameon=False)\n",
    "    plt.show()\n",
    "    build_model(SR, SB, GD1, 1, plot_cuts = True, gaiadata2)\n",
    "#     tpr_gd1_2, fpr_gd1_2, chi_squared_arr_no_stream = build_model(SR, SB, GD1, 1, plot_cuts = True)\n",
    "#     for x, y in zip(tpr_gd1_1, fpr_gd1_1):\n",
    "#         plt.plot(x, x/y**0.5)\n",
    "#         plt.show()\n",
    "#     for x, y in zip(tpr_gd1_2, fpr_gd1_2):\n",
    "#         plt.plot(y, x)\n",
    "#         plt.show()\n",
    "#     auc_arr = np.append(auc_arr, auc(fpr_gd1_2[0], tpr_gd1_2[0]))\n",
    "#     region_mids = np.append(region_mids, (pointers[1] + pointers[2])/2)\n",
    "# pointers[1] = pointers[2]\n",
    "# pointers[2] += signal_increment\n",
    "# pointers[0] = pointers[1] - sb_start_diff\n",
    "# pointers[3] = pointers[2] + sb_start_diff"
   ]
  },
  {
   "cell_type": "code",
   "execution_count": null,
   "metadata": {},
   "outputs": [],
   "source": [
    "chi_squared_arr_no_stream"
   ]
  },
  {
   "cell_type": "markdown",
   "metadata": {},
   "source": [
    "# Test on data "
   ]
  },
  {
   "cell_type": "code",
   "execution_count": null,
   "metadata": {},
   "outputs": [],
   "source": [
    "SR = gaiadata2[(gaiadata2[:,0] > -15)*(gaiadata2[:,0] < -11)]\n",
    "SB = gaiadata2[(gaiadata2[:,0] > -18)*(gaiadata2[:,0] < -15)+(gaiadata2[:,0] > -11)*(gaiadata2[:,0] < -9.5)]\n",
    "GD1 = gaiadata3\n",
    "\n",
    "SR, SB, GD1 = build_data_arrays(SR, SB, GD1)"
   ]
  },
  {
   "cell_type": "code",
   "execution_count": null,
   "metadata": {},
   "outputs": [],
   "source": [
    "tpr_no_rot, fpr_no_rot, tpr_no_rot_gd1_background, fpr_no_rot_gd1_background = build_model(SR, SB, GD1, 20)"
   ]
  },
  {
   "cell_type": "code",
   "execution_count": null,
   "metadata": {},
   "outputs": [],
   "source": [
    "for x, y in zip(tpr_no_rot, fpr_no_rot):\n",
    "    plt.plot(x, x/y**0.5)\n",
    "plt.xlabel(\"True Positive Rate\")\n",
    "plt.ylabel(\"Significance Improvement\")\n",
    "plt.title(\"ROC Curve non-rotated data\")\n",
    "plt.show()"
   ]
  },
  {
   "cell_type": "markdown",
   "metadata": {},
   "source": [
    "# Remove GD1"
   ]
  },
  {
   "cell_type": "code",
   "execution_count": null,
   "metadata": {},
   "outputs": [],
   "source": [
    "SR = gaiadata2_no_gd1[(gaiadata2_no_gd1[:,0] > -15)*(gaiadata2_no_gd1[:,0] < -11)]\n",
    "SB = gaiadata2_no_gd1[(gaiadata2_no_gd1[:,0] > -18)*(gaiadata2_no_gd1[:,0] < -15)+(gaiadata2_no_gd1[:,0] > -11)*(gaiadata2_no_gd1[:,0] < -9.5)]\n",
    "GD1 = gaiadata3\n",
    "\n",
    "SR, SB, GD1 = build_data_arrays(SR, SB, GD1, 0)"
   ]
  },
  {
   "cell_type": "code",
   "execution_count": null,
   "metadata": {},
   "outputs": [],
   "source": [
    "tpr_no_gd1, fpr_no_gd1, tpr_no_gd1_gd1_background, fpr_no_gd1_gd1_background = build_model(SR, SB, GD1)"
   ]
  },
  {
   "cell_type": "code",
   "execution_count": null,
   "metadata": {},
   "outputs": [],
   "source": [
    "for x, y in zip(tpr_no_gd1, tpr_no_gd1):\n",
    "    plt.plot(x, x/y**0.5)\n",
    "plt.xlabel(\"True Positive Rate\")\n",
    "plt.ylabel(\"Significance Improvement\")\n",
    "plt.title(\"ROC Curve No GD1\")\n",
    "plt.show()"
   ]
  },
  {
   "cell_type": "code",
   "execution_count": null,
   "metadata": {},
   "outputs": [],
   "source": [
    "for x, y in zip(tpr_no_gd1_gd1_background, fpr_no_gd1_gd1_background):\n",
    "    plt.plot(x, y)\n",
    "plt.xlabel(\"True Positive Rate\")\n",
    "plt.ylabel(\"False Positive Rate\")\n",
    "plt.title(\"ROC Curve SR vs SB\")\n",
    "plt.show()"
   ]
  },
  {
   "cell_type": "markdown",
   "metadata": {},
   "source": [
    "## Signal and sideband without GD1, signal shifted to right"
   ]
  },
  {
   "cell_type": "code",
   "execution_count": null,
   "metadata": {},
   "outputs": [],
   "source": [
    "SR = gaiadata2_no_gd1[(gaiadata2_no_gd1[:,0] > -11) * (gaiadata2_no_gd1[:,0] < -6)]\n",
    "SB = gaiadata2_no_gd1[(gaiadata2_no_gd1[:,0] > -6)*(gaiadata2_no_gd1[:,0] < -3.8)+(gaiadata2_no_gd1[:,0] > -13)*(gaiadata2_no_gd1[:,0] < -11)]\n",
    "GD1 = gaiadata3\n",
    "\n",
    "SR, SB, GD1 = build_data_arrays(SR, SB, GD1, 0)"
   ]
  },
  {
   "cell_type": "code",
   "execution_count": null,
   "metadata": {},
   "outputs": [],
   "source": [
    "_,_,_=plt.hist(SR[:,0],bins=np.linspace(-30,10,100),label=\"SR\")\n",
    "_,_,_=plt.hist(SB[:,0],bins=np.linspace(-30,10,100),label=\"SB\")\n",
    "plt.legend(frameon=False)\n",
    "plt.xlabel(r\"$\\mu_\\delta$ [$\\mu$as/year]\")\n",
    "plt.ylabel(\"counts\")"
   ]
  },
  {
   "cell_type": "code",
   "execution_count": null,
   "metadata": {},
   "outputs": [],
   "source": [
    "tpr_no_gd1_sr_right, fpr_no_gd1_sr_right, tpr_no_gd1_sr_right_gd1_background, fpr_no_gd1_sr_right_gd1_background = build_model(SR, SB, GD1)"
   ]
  },
  {
   "cell_type": "code",
   "execution_count": null,
   "metadata": {},
   "outputs": [],
   "source": [
    "for x, y in zip(tpr_no_gd1_sr_right, fpr_no_gd1_sr_right):\n",
    "    plt.plot(x, x/y**0.5)\n",
    "plt.xlabel(\"True Positive Rate\")\n",
    "plt.ylabel(\"Significance Improvement\")\n",
    "plt.title(\"ROC Curve No GD1 Signal Right\")\n",
    "plt.show()"
   ]
  },
  {
   "cell_type": "code",
   "execution_count": null,
   "metadata": {},
   "outputs": [],
   "source": [
    "for x, y in zip(tpr_no_gd1_sr_right_gd1_background, fpr_no_gd1_sr_right_gd1_background):\n",
    "    plt.plot(x, y)\n",
    "plt.plot([0, 1], [0, 1], 'gray', ls = '--', label = 'Random')\n",
    "plt.legend()\n",
    "plt.xlabel(\"True Positive Rate\")\n",
    "plt.ylabel(\"False Positive Rate\")\n",
    "plt.title(\"ROC Curve SR vs SB No GD1 Signal Right\")\n",
    "plt.show()"
   ]
  },
  {
   "cell_type": "markdown",
   "metadata": {},
   "source": [
    "## Fractions of GD1"
   ]
  },
  {
   "cell_type": "code",
   "execution_count": null,
   "metadata": {},
   "outputs": [],
   "source": [
    "fractions = [250, 500, 750]\n",
    "gaiadata_fractions_gd1 = [[] for x in fractions]\n",
    "tpr_fractions = [[] for x in fractions]\n",
    "fpr_fractions = [[] for x in fractions]\n",
    "tpr_fractions_gd1_background = [[] for x in fractions]\n",
    "fpr_fractions_gd1_background = [[] for x in fractions]\n",
    "\n",
    "import random\n",
    "for counter in range(len(fractions)):\n",
    "    print(counter)\n",
    "    gaiadata_fractions_gd1[counter] = gaiadata2_no_gd1\n",
    "    \n",
    "    for i in range(len(gaiadata3)):\n",
    "        if random.randint(0, 1000) < fractions[counter]:\n",
    "            gaiadata_fractions_gd1[counter] = np.append(gaiadata_fractions_gd1[counter], [gaiadata3[i]], 0)\n",
    "    \n",
    "    SR = gaiadata_fractions_gd1[counter][(gaiadata_fractions_gd1[counter][:,0] > -15)*(gaiadata_fractions_gd1[counter][:,0] < -11)]\n",
    "    SB = gaiadata_fractions_gd1[counter][(gaiadata_fractions_gd1[counter][:,0] > -18)*(gaiadata_fractions_gd1[counter][:,0] < -15)+(gaiadata_fractions_gd1[counter][:,0] > -11)*(gaiadata_fractions_gd1[counter][:,0] < -9.5)]\n",
    "    GD1 = gaiadata3\n",
    "\n",
    "    SR, SB, GD1 = build_data_arrays(SR, SB, GD1, 0)\n",
    "\n",
    "    tpr_fractions[counter], fpr_fractions[counter], tpr_fractions_gd1_background[counter], fpr_fractions_gd1_background[counter] = build_model(SR, SB, GD1)"
   ]
  },
  {
   "cell_type": "code",
   "execution_count": null,
   "metadata": {},
   "outputs": [],
   "source": [
    "sig_improvements = [[] for x in range(len(fractions)+1)]\n",
    "sig_improvements[0] = [x/y**0.5 for x, y in zip(tpr_fractions[0], fpr_fractions[0])]\n",
    "sig_improvements[1] = [x/y**0.5 for x, y in zip(tpr_fractions[1], fpr_fractions[1])]\n",
    "sig_improvements[2] = [x/y**0.5 for x, y in zip(tpr_fractions[2], fpr_fractions[2])]\n",
    "sig_improvements[3] = [x/y**0.5 for x, y in zip(tpr_no_rot, fpr_no_rot)]"
   ]
  },
  {
   "cell_type": "code",
   "execution_count": null,
   "metadata": {},
   "outputs": [],
   "source": [
    "plt.scatter([0.25]*20, [max(y[np.isfinite(y)]) for y in sig_improvements[0]])\n",
    "plt.scatter([0.5]*20, [max(y[np.isfinite(y)]) for y in sig_improvements[1]])\n",
    "plt.scatter([0.75]*20, [max(y[np.isfinite(y)]) for y in sig_improvements[2]])\n",
    "plt.scatter([1.0]*20, [max(y[np.isfinite(y)]) for y in sig_improvements[3]])\n",
    "plt.xlabel(\"Fraction of GD1\")\n",
    "plt.ylabel(\"Maximum significance improvement\")\n",
    "plt.title(\"Maximum significance improvement for \\n20 Significance Improvement Curves vs. Fraction of GD1 included\")"
   ]
  },
  {
   "cell_type": "code",
   "execution_count": null,
   "metadata": {},
   "outputs": [],
   "source": [
    "plt.boxplot([max(y[np.isfinite(y)]) for y in sig_improvements[0]], positions = [0.25])\n",
    "plt.boxplot([max(y[np.isfinite(y)]) for y in sig_improvements[1]], positions = [0.50])\n",
    "plt.boxplot([max(y[np.isfinite(y)]) for y in sig_improvements[2]], positions = [0.75])\n",
    "plt.boxplot([max(y[np.isfinite(y)]) for y in sig_improvements[3]], positions = [1.00])\n",
    "plt.xlabel(\"Fraction of GD1\")\n",
    "plt.ylabel(\"Maximum significance improvement\")\n",
    "plt.title(\"Box and whisker plots for maximum significance improvement for \\n 20 Significance Improvement Curves vs. Fraction of GD1 included\")"
   ]
  },
  {
   "cell_type": "code",
   "execution_count": null,
   "metadata": {},
   "outputs": [],
   "source": [
    "plt.scatter([0.25], np.mean([max(y[np.isfinite(y)]) for y in sig_improvements[0]]))\n",
    "plt.errorbar([0.25], np.mean([max(y[np.isfinite(y)]) for y in sig_improvements[0]]), np.std([max(y[np.isfinite(y)]) for y in sig_improvements[0]]))\n",
    "\n",
    "plt.scatter([0.50], np.mean([max(y[np.isfinite(y)]) for y in sig_improvements[1]]))\n",
    "plt.errorbar([0.50], np.mean([max(y[np.isfinite(y)]) for y in sig_improvements[1]]), np.std([max(y[np.isfinite(y)]) for y in sig_improvements[1]]))\n",
    "\n",
    "plt.scatter([0.75], np.mean([max(y[np.isfinite(y)]) for y in sig_improvements[2]]))\n",
    "plt.errorbar([0.75], np.mean([max(y[np.isfinite(y)]) for y in sig_improvements[2]]), np.std([max(y[np.isfinite(y)]) for y in sig_improvements[2]]))\n",
    "\n",
    "plt.scatter([1.00], np.mean([max(y[np.isfinite(y)]) for y in sig_improvements[3]]))\n",
    "plt.errorbar([1.00], np.mean([max(y[np.isfinite(y)]) for y in sig_improvements[3]]), np.std([max(y[np.isfinite(y)]) for y in sig_improvements[3]]))\n",
    "\n",
    "\n",
    "plt.xlabel(\"Fraction of GD1\")\n",
    "plt.ylabel(\"Average maximum \\nsignificance improvement\")\n",
    "plt.title(\"Mean of maximum significance improvement for \\n 20 Significance Improvement Curves vs. Fraction of GD1 included\")"
   ]
  },
  {
   "cell_type": "code",
   "execution_count": null,
   "metadata": {},
   "outputs": [],
   "source": []
  }
 ],
 "metadata": {
  "kernelspec": {
   "display_name": "Python 2",
   "language": "python",
   "name": "python2"
  },
  "language_info": {
   "codemirror_mode": {
    "name": "ipython",
    "version": 3
   },
   "file_extension": ".py",
   "mimetype": "text/x-python",
   "name": "python",
   "nbconvert_exporter": "python",
   "pygments_lexer": "ipython3",
   "version": "3.6.5"
  }
 },
 "nbformat": 4,
 "nbformat_minor": 2
}
