{
 "cells": [
  {
   "cell_type": "code",
   "execution_count": 1,
   "id": "18b11a53-997e-4d88-aec4-b1d3fef22546",
   "metadata": {},
   "outputs": [],
   "source": [
    "%load_ext autoreload\n",
    "%autoreload 2\n",
    "import numpy as np\n",
    "from tqdm import tqdm\n",
    "import matplotlib.pyplot as plt\n",
    "import pandas as pd\n",
    "from glob import glob\n",
    "\n",
    "import sys\n",
    "sys.path.append('../python')\n",
    "from functions import *\n",
    "from models import *\n",
    "\n",
    "import tensorflow as tf\n",
    "from livelossplot import PlotLossesKeras\n",
    "os.environ[\"CUDA_VISIBLE_DEVICES\"] = \"-1\" # pick a number < 4 on ML4HEP; < 3 on Voltan \n",
    "# physical_devices = tf.config.list_physical_devices('GPU') \n",
    "# tf.config.experimental.set_memory_growth(physical_devices[0], True)"
   ]
  },
  {
   "cell_type": "markdown",
   "id": "7dceea2c-15c8-4a95-ae38-aee3a8c604c9",
   "metadata": {
    "jp-MarkdownHeadingCollapsed": true,
    "tags": []
   },
   "source": [
    "# Preparation"
   ]
  },
  {
   "cell_type": "markdown",
   "id": "5ddfbeac-3948-4062-a764-ef2f1ca9cffb",
   "metadata": {
    "tags": []
   },
   "source": [
    "## Load a file and label the stream stars"
   ]
  },
  {
   "cell_type": "code",
   "execution_count": null,
   "id": "152b9590-8594-41ed-8164-c5538f072456",
   "metadata": {},
   "outputs": [],
   "source": [
    "column_names = [\"μ_δ\", \"μ_α\", \"δ\", \"α\", \"color\", \"mag\", \"lon\", \"lat\", \"μ_loncoslat\", \"μ_lat\"]\n",
    "gd1_stars = np.load('../gaia_data/gd1/gd1_stars.npy')\n",
    "filename = \"./gaia_data/gd1/gaiascan_l207.0_b50.2_ra148.6_dec24.2.npy\"\n",
    "df = pd.DataFrame(np.load(filename), columns = column_names)\n",
    "is_stream, stream = FilterGD1(np.array(df), gd1_stars)"
   ]
  },
  {
   "cell_type": "code",
   "execution_count": null,
   "id": "547458b5-8e1d-4c53-8462-19ca3986d332",
   "metadata": {},
   "outputs": [],
   "source": [
    "plt.hist2d(df.μ_lat, df.μ_loncoslat, bins=np.linspace(-30,10,50));"
   ]
  },
  {
   "cell_type": "code",
   "execution_count": null,
   "id": "418d5f8a-72bd-4da4-abb4-621b7af654ed",
   "metadata": {},
   "outputs": [],
   "source": [
    "plt.hist2d(df.lon, df.lat, bins=100);"
   ]
  },
  {
   "cell_type": "code",
   "execution_count": null,
   "id": "6f53fab1-b586-497a-8bc4-8057894bbbef",
   "metadata": {},
   "outputs": [],
   "source": [
    "plt.figure(dpi=100)\n",
    "plt.scatter(df[is_stream].α, df[is_stream].δ)\n",
    "plt.xlabel(r\"$\\alpha$\")\n",
    "plt.ylabel(r\"$\\delta$\")\n",
    "plt.title(\"GD1 Stars in this Patch\");"
   ]
  },
  {
   "cell_type": "markdown",
   "id": "c7a5f89a-d473-4d85-a196-86bea5bef643",
   "metadata": {
    "jp-MarkdownHeadingCollapsed": true,
    "tags": []
   },
   "source": [
    "## Get GD1 stars from all patches"
   ]
  },
  {
   "cell_type": "code",
   "execution_count": null,
   "id": "93cc2698-6349-4b94-a7a7-0ba5efd4614c",
   "metadata": {},
   "outputs": [],
   "source": [
    "patch_list = [\n",
    " # b = 33.7 \n",
    " './gaia_data/gd1/gaiascan_l195.0_b33.7_ra128.4_dec28.8.npy',\n",
    " './gaia_data/gd1/gaiascan_l210.0_b33.7_ra132.6_dec16.9.npy',\n",
    " './gaia_data/gd1/gaiascan_l225.0_b33.7_ra138.1_dec5.7.npy', \n",
    " # b = 41.8 \n",
    " './gaia_data/gd1/gaiascan_l187.5_b41.8_ra136.5_dec36.1.npy',\n",
    " './gaia_data/gd1/gaiascan_l202.5_b41.8_ra138.8_dec25.1.npy',\n",
    " './gaia_data/gd1/gaiascan_l217.5_b41.8_ra142.7_dec14.5.npy', \n",
    " # b = 50.2 \n",
    " './gaia_data/gd1/gaiascan_l99.0_b50.2_ra224.7_dec60.6.npy',\n",
    " './gaia_data/gd1/gaiascan_l117.0_b50.2_ra202.4_dec66.5.npy',\n",
    " './gaia_data/gd1/gaiascan_l135.0_b50.2_ra174.3_dec65.1.npy',\n",
    " './gaia_data/gd1/gaiascan_l153.0_b50.2_ra156.2_dec57.5.npy',\n",
    " './gaia_data/gd1/gaiascan_l171.0_b50.2_ra148.6_dec47.0.npy',\n",
    " './gaia_data/gd1/gaiascan_l189.0_b50.2_ra146.9_dec35.6.npy',\n",
    " './gaia_data/gd1/gaiascan_l207.0_b50.2_ra148.6_dec24.2.npy',\n",
    " # b = 58.4 \n",
    " './gaia_data/gd1/gaiascan_l101.2_b58.4_ra212.7_dec55.2.npy',\n",
    " './gaia_data/gd1/gaiascan_l123.8_b58.4_ra192.0_dec58.7.npy',\n",
    " './gaia_data/gd1/gaiascan_l146.2_b58.4_ra171.8_dec54.7.npy',\n",
    " './gaia_data/gd1/gaiascan_l168.8_b58.4_ra160.5_dec45.5.npy',\n",
    " './gaia_data/gd1/gaiascan_l191.2_b58.4_ra156.9_dec34.1.npy',\n",
    " # b = 66.4 \n",
    " './gaia_data/gd1/gaiascan_l105.0_b66.4_ra203.7_dec49.1.npy',\n",
    " './gaia_data/gd1/gaiascan_l135.0_b66.4_ra185.4_dec50.0.npy',\n",
    " './gaia_data/gd1/gaiascan_l165.0_b66.4_ra171.4_dec43.0.npy',    \n",
    "]"
   ]
  },
  {
   "cell_type": "code",
   "execution_count": null,
   "id": "6a104ed1-bee1-4a89-9140-80a343e5fa17",
   "metadata": {},
   "outputs": [],
   "source": [
    "dfs = []\n",
    "\n",
    "for file in tqdm(patch_list):\n",
    "    df = pd.DataFrame(np.load(file), columns = column_names)\n",
    "    is_stream, stream = FilterGD1(np.array(df), gd1_stars)\n",
    "    df[\"stream\"] = is_stream\n",
    "    df[\"patch_id\"] = patch_list.index(file)\n",
    "    dfs.append(df)"
   ]
  },
  {
   "cell_type": "code",
   "execution_count": null,
   "id": "e2089eb1-2fdd-42f1-a5af-9d09118c8629",
   "metadata": {},
   "outputs": [],
   "source": [
    "df_all = pd.concat([df for df in dfs])\n",
    "df_all['α'] = df_all['α'].apply(lambda x: x if x > 100 else x + 360) # wrap around plot\n",
    "df_all.to_hdf(\"gd1_allpatches.h5\", key=\"df\")"
   ]
  },
  {
   "cell_type": "code",
   "execution_count": null,
   "id": "b9ca6912-406b-458f-9759-5ce230e39a8b",
   "metadata": {},
   "outputs": [],
   "source": [
    "gd1_stars_in_patches = pd.concat([df[df.stream] for df in dfs])"
   ]
  },
  {
   "cell_type": "code",
   "execution_count": null,
   "id": "c3683dfd-b11b-41cd-b7ea-40485f2f9cea",
   "metadata": {},
   "outputs": [],
   "source": [
    "plt.figure(dpi=150)\n",
    "plt.scatter(gd1_stars_in_patches.α, gd1_stars_in_patches.δ, marker='.')\n",
    "plt.xlabel(r\"$\\alpha$\")\n",
    "plt.ylabel(r\"$\\delta$\")\n",
    "plt.title(\"GD1 Stars in All Patches\");"
   ]
  },
  {
   "cell_type": "markdown",
   "id": "34403edf-ec9f-43c9-838a-18539bf84f19",
   "metadata": {},
   "source": [
    "That's a little funky, let's modify it:"
   ]
  },
  {
   "cell_type": "code",
   "execution_count": null,
   "id": "90594c80-d9e6-4e26-b89f-fabdd3fc74a3",
   "metadata": {},
   "outputs": [],
   "source": [
    "gd1_stars_in_patches['α_new'] = gd1_stars_in_patches['α'].apply(lambda x: x if x > 100 else x + 360)"
   ]
  },
  {
   "cell_type": "code",
   "execution_count": null,
   "id": "b98ed38f-6235-4638-a236-c5139f2c50c1",
   "metadata": {},
   "outputs": [],
   "source": [
    "plt.figure(figsize=(12,3),dpi=150)\n",
    "plt.scatter(gd1_stars_in_patches.α_new, gd1_stars_in_patches.δ, marker='.', c=gd1_stars_in_patches.μ_δ)\n",
    "plt.colorbar(label=r\"$\\mu_\\delta$\")\n",
    "plt.xlabel(r\"$\\alpha$\")\n",
    "plt.ylabel(r\"$\\delta$\")\n",
    "plt.title(\"GD1 Stream (21 patches)\");"
   ]
  },
  {
   "cell_type": "markdown",
   "id": "508d27e9-d257-4065-9988-944e4d759c09",
   "metadata": {
    "jp-MarkdownHeadingCollapsed": true,
    "tags": []
   },
   "source": [
    "## Define a new, optimized tail patch"
   ]
  },
  {
   "cell_type": "markdown",
   "id": "8adc14eb-1efd-46a4-83ec-3ddd5e11afaa",
   "metadata": {},
   "source": [
    "Load all the patches:"
   ]
  },
  {
   "cell_type": "code",
   "execution_count": null,
   "id": "6f9f362b-d203-4b4d-9cbf-a656aae69969",
   "metadata": {},
   "outputs": [],
   "source": [
    "df_all = pd.read_hdf(\"./gaia_data/gd1/gd1_allpatches.h5\")"
   ]
  },
  {
   "cell_type": "code",
   "execution_count": null,
   "id": "8099bd46-0ed8-41ca-aa06-9f5e85fc78c7",
   "metadata": {},
   "outputs": [],
   "source": [
    "visualize_stream(df_all)"
   ]
  },
  {
   "cell_type": "markdown",
   "id": "4b020304-71b4-4c52-be39-d1a365a21456",
   "metadata": {},
   "source": [
    "Define a new, optimized patch for the tail & save it:"
   ]
  },
  {
   "cell_type": "code",
   "execution_count": null,
   "id": "1f846681-7ffb-4d0d-9246-2b2ebe5db569",
   "metadata": {},
   "outputs": [],
   "source": [
    "# df = df_all[(df_all.α > 120) & (df_all.α < 140)] # select just the (left) tail area \n",
    "df = df_all[(df_all.α > 185) & (df_all.α < 230)] # select just the (right) tail area \n",
    "# df.α = df.α - df.α.mean()\n",
    "# df.δ = df.δ - df.δ.mean()\n",
    "df = df[(df.α - df.α.mean())**2 + (df.δ - df.δ.mean())**2 < 15**2]"
   ]
  },
  {
   "cell_type": "code",
   "execution_count": null,
   "id": "8a4dd47c-22ed-49a3-b40b-42be45d1afd8",
   "metadata": {},
   "outputs": [],
   "source": [
    "df"
   ]
  },
  {
   "cell_type": "code",
   "execution_count": null,
   "id": "0f336432-6c96-40fa-8f30-63f87d0942c9",
   "metadata": {},
   "outputs": [],
   "source": [
    "df.to_hdf(\"./gaia_data/gd1_tail/gd1_tail_optimized_patch_left.h5\", \"df\")"
   ]
  },
  {
   "cell_type": "markdown",
   "id": "71c514fa-22b6-4550-8ad5-cdd72dd15a6c",
   "metadata": {
    "jp-MarkdownHeadingCollapsed": true,
    "tags": []
   },
   "source": [
    "## Load the optimized patch & train:"
   ]
  },
  {
   "cell_type": "code",
   "execution_count": null,
   "id": "7bbf3db7-1be1-4db1-a3ab-5a6f825fb4ca",
   "metadata": {},
   "outputs": [],
   "source": [
    "df = pd.read_hdf(\"./gaia_data/gd1_tail/gd1_tail_optimized_patch.h5\", \"df\")"
   ]
  },
  {
   "cell_type": "code",
   "execution_count": null,
   "id": "5c54d439-9c3a-4e06-94c1-78cacea9cb2d",
   "metadata": {},
   "outputs": [],
   "source": [
    "visualize_stream(df)"
   ]
  },
  {
   "cell_type": "code",
   "execution_count": null,
   "id": "77b0adf8-9056-4e9f-b4ec-03db5f12c45e",
   "metadata": {},
   "outputs": [],
   "source": [
    "df_train = signal_sideband(df, stream=\"gd1_tail\",\n",
    "#                     Right tail patch\n",
    "                    sb_min = -7, \n",
    "                    sr_min = -6, \n",
    "                    sr_max = -3.1,\n",
    "                    sb_max = -3\n",
    "                           \n",
    "#                     sb_min = -4.5, \n",
    "#                     sr_min = -4, \n",
    "#                     sr_max = -3,\n",
    "#                     sb_max = -2.5\n",
    "                           \n",
    "#                     sb_min = -10, \n",
    "#                     sr_min = -6, \n",
    "#                     sr_max = -1,\n",
    "#                     sb_max = 1\n",
    "                         \n",
    "#                     # Left tail patch       \n",
    "#                     sb_min = -15, \n",
    "#                     sr_min = -13.5, \n",
    "#                     sr_max = -11,\n",
    "#                     sb_max = -10\n",
    "                        )"
   ]
  },
  {
   "cell_type": "markdown",
   "id": "41c26f95-9acb-4d47-9f11-1a59744a5695",
   "metadata": {},
   "source": [
    "Add sample weights to stream stars:"
   ]
  },
  {
   "cell_type": "code",
   "execution_count": null,
   "id": "b5b42cf7-aeb0-43a5-a6c0-00e5f04c9f90",
   "metadata": {},
   "outputs": [],
   "source": [
    "stream_weight = 1\n",
    "\n",
    "### Throughout signal & sideband regions\n",
    "df_train[\"weight\"] = np.where(df_train['stream'] == True, stream_weight, 1)"
   ]
  },
  {
   "cell_type": "markdown",
   "id": "46318885-a06f-448f-b239-fd8cb6c94bce",
   "metadata": {},
   "source": [
    "Train:"
   ]
  },
  {
   "cell_type": "code",
   "execution_count": null,
   "id": "802ea94e-52fc-46bc-8e02-d574b68ea21e",
   "metadata": {},
   "outputs": [],
   "source": [
    "df_train.weight.unique()"
   ]
  },
  {
   "cell_type": "code",
   "execution_count": null,
   "id": "643b92e9-6786-45b9-bcca-42eda40b7d02",
   "metadata": {},
   "outputs": [],
   "source": [
    "tf.keras.backend.clear_session()"
   ]
  },
  {
   "cell_type": "code",
   "execution_count": null,
   "id": "47c1c17c-026e-4a7c-ae45-8cc51b098d62",
   "metadata": {},
   "outputs": [],
   "source": [
    "test = train(df_train,\n",
    "      n_folds = 1, \n",
    "      best_of_n_loops = 1,\n",
    "      layer_size = 128, \n",
    "      batch_size = 10000, \n",
    "      dropout = 0.2, \n",
    "      epochs = 2000,\n",
    "      patience = 30)"
   ]
  },
  {
   "cell_type": "markdown",
   "id": "b7bbf477-cb02-4016-b32e-867dee446ab8",
   "metadata": {
    "tags": []
   },
   "source": [
    "## Load a pre-trained model on the tail"
   ]
  },
  {
   "cell_type": "code",
   "execution_count": null,
   "id": "5f688b40-b78d-4f4f-b56a-29f44373b27e",
   "metadata": {},
   "outputs": [],
   "source": [
    "test = pd.read_hdf(\"./trained_models/foundtail_size128_batch10000_epochs2000/df_test.h5\")"
   ]
  },
  {
   "cell_type": "code",
   "execution_count": null,
   "id": "61076d60-6d85-412f-8b17-b92cceeb7542",
   "metadata": {},
   "outputs": [],
   "source": [
    "# visualize_stream(test)"
   ]
  },
  {
   "cell_type": "code",
   "execution_count": null,
   "id": "0b8160c3-ec66-4631-89d3-2e7acb9be7f1",
   "metadata": {},
   "outputs": [],
   "source": [
    "plot_results(test)"
   ]
  },
  {
   "cell_type": "code",
   "execution_count": null,
   "id": "ee5f68e5-89ad-4718-a46d-660fbf988e11",
   "metadata": {},
   "outputs": [],
   "source": [
    "top_stars = test.sort_values('nn_score',ascending=False)[:100]"
   ]
  },
  {
   "cell_type": "code",
   "execution_count": null,
   "id": "4fa11366-1ee5-49b8-8a38-69f71c56fe61",
   "metadata": {},
   "outputs": [],
   "source": [
    "top_stars.keys()"
   ]
  },
  {
   "cell_type": "code",
   "execution_count": null,
   "id": "32b99215-e8e5-48ad-bc8b-6ac53abe8cdd",
   "metadata": {},
   "outputs": [],
   "source": [
    "labeled_gd1 = top_stars[top_stars.stream]\n",
    "unlabeled_gd1 = top_stars[top_stars.stream == False]"
   ]
  },
  {
   "cell_type": "code",
   "execution_count": null,
   "id": "f0688631-241e-4a01-b64c-5f576d8ee29b",
   "metadata": {},
   "outputs": [],
   "source": [
    "best_unlabeled = unlabeled_gd1.sort_values('nn_score',ascending=False)[:10]"
   ]
  },
  {
   "cell_type": "code",
   "execution_count": null,
   "id": "88c032e5-21fc-4e6c-ae4b-de4a5fa54fea",
   "metadata": {},
   "outputs": [],
   "source": [
    "plt.figure(figsize=(4,4))\n",
    "plt.scatter(labeled_gd1.α, labeled_gd1.δ, label=\"Labeled GD1\")\n",
    "plt.scatter(unlabeled_gd1.α, unlabeled_gd1.δ, label=\"Unlabeled\")\n",
    "plt.legend()\n",
    "plt.xlim(-15,15)\n",
    "plt.ylim(-15,15)\n",
    "plt.xlabel(r\"$\\alpha$\")\n",
    "plt.ylabel(r\"$\\delta$\");"
   ]
  },
  {
   "cell_type": "code",
   "execution_count": null,
   "id": "f4440e20-ab50-498f-b1ba-81444b582a73",
   "metadata": {},
   "outputs": [],
   "source": [
    "plt.figure(figsize=(4,4))\n",
    "plt.scatter(labeled_gd1.μ_α, labeled_gd1.μ_δ, label=\"Labeled GD1\")\n",
    "plt.scatter(unlabeled_gd1.μ_α, unlabeled_gd1.μ_δ, label=\"Unlabeled\")\n",
    "plt.legend()\n",
    "plt.xlabel(r\"$\\mu_\\alpha$\")\n",
    "plt.ylabel(r\"$\\mu_\\delta$\");"
   ]
  },
  {
   "cell_type": "markdown",
   "id": "227854cf-7190-4c1e-a3f2-27a5c78a8cbd",
   "metadata": {
    "tags": []
   },
   "source": [
    "# Run on each of the 21 GD1 patches"
   ]
  },
  {
   "cell_type": "code",
   "execution_count": 2,
   "id": "0ab2be70-ac59-4329-bdf7-ef8cce40b752",
   "metadata": {},
   "outputs": [
    {
     "data": {
      "image/png": "[encoded data removed]",
      "text/plain": [
       "<Figure size 825x450 with 2 Axes>"
      ]
     },
     "metadata": {
      "needs_background": "light"
     },
     "output_type": "display_data"
    },
    {
     "data": {
      "image/png": "[encoded data removed]",
      "text/plain": [
       "<Figure size 900x450 with 2 Axes>"
      ]
     },
     "metadata": {
      "needs_background": "light"
     },
     "output_type": "display_data"
    },
    {
     "data": {
      "image/png": "[encoded data removed]",
      "text/plain": [
       "<Figure size 900x600 with 1 Axes>"
      ]
     },
     "metadata": {
      "needs_background": "light"
     },
     "output_type": "display_data"
    }
   ],
   "source": [
    "df_all = pd.read_hdf(\"../gaia_data/gd1/gd1_allpatches.h5\")\n",
    "visualize_stream(df_all, save_folder=\"test\")"
   ]
  },
  {
   "cell_type": "code",
   "execution_count": 3,
   "id": "997f1020-dd3d-4970-99a9-e4975a736bf9",
   "metadata": {},
   "outputs": [
    {
     "data": {
      "image/png": "[encoded data removed]",
      "text/plain": [
       "<Figure size 600x400 with 1 Axes>"
      ]
     },
     "metadata": {
      "needs_background": "light"
     },
     "output_type": "display_data"
    }
   ],
   "source": [
    "plt.scatter(df_all[df_all.stream].α, df_all[df_all.stream].δ)\n",
    "plt.grid()"
   ]
  },
  {
   "cell_type": "code",
   "execution_count": null,
   "id": "775285b5-6898-4dd6-9ae8-fc8d6a77b689",
   "metadata": {},
   "outputs": [],
   "source": [
    "target_stream = []\n",
    "top_100_stars = []\n",
    "\n",
    "n_patches = 10\n",
    "alphas = np.linspace(df_all[df_all.stream].α.min(), df_all[df_all.stream].α.max(), n_patches)\n",
    "deltas = np.array([df_all[(df_all.stream & (np.abs(df_all.α - alpha) < 5))].δ.mean() for alpha in alphas])\n",
    "limits = pd.DataFrame(zip(np.arange(len(alphas)),alphas,deltas), columns=[\"patch_id\",\"α_center\", \"δ_center\"])\n",
    "\n",
    "for patch_id in tqdm(limits.patch_id.unique()):\n",
    "    α_min = limits.iloc[patch_id][\"α_center\"]-10\n",
    "    α_max = limits.iloc[patch_id][\"α_center\"]+10\n",
    "    δ_min = limits.iloc[patch_id][\"δ_center\"]-10\n",
    "    δ_max = limits.iloc[patch_id][\"δ_center\"]+10\n",
    "    df = (df_all[(α_min < df_all.α) & (df_all.α < α_max) & \n",
    "                 (δ_min < df_all.δ) & (df_all.δ < δ_max)])\n",
    "    if np.sum(df.stream)/len(df) < 0.0001: # skip patches with hardly any stream stars\n",
    "        continue\n",
    "    else:\n",
    "#         try: \n",
    "#             plt.figure()\n",
    "#             plt.scatter(df[df.stream].α, df[df.stream].δ, alpha=0.1)\n",
    "#             visualize_stream(df)\n",
    "#         except: \n",
    "#             continue\n",
    "        target_stream.append(df[df.stream])                \n",
    "        df_train = signal_sideband(df, save_folder=\"test/patches/patch{}\".format(str(patch_id)),\n",
    "                        sb_min = df[df.stream].μ_δ.min(),\n",
    "                        sr_min = df[df.stream].μ_δ.min()+1,\n",
    "                        sr_max = df[df.stream].μ_δ.max()-1,\n",
    "                        sb_max = df[df.stream].μ_δ.max()\n",
    "                        )\n",
    "        tf.keras.backend.clear_session()\n",
    "        test = train(df_train, \n",
    "          n_folds = 1, \n",
    "          best_of_n_loops = 1,\n",
    "          layer_size = 128, \n",
    "          batch_size = 10000, \n",
    "          dropout = 0.2, \n",
    "          epochs = 1000, \n",
    "          patience = 30,\n",
    "          save_folder=\"test/patches/patch{}\".format(str(patch_id)),)\n",
    "        top_100_stars.append(test.sort_values('nn_score',ascending=False)[:100])"
   ]
  },
  {
   "cell_type": "markdown",
   "id": "3a8bfdf5-b462-461d-ac84-0f6beab0bd36",
   "metadata": {},
   "source": [
    "Try with multiprocessing:"
   ]
  },
  {
   "cell_type": "code",
   "execution_count": 27,
   "id": "81a59617-8d50-4a16-9555-3663682c4d97",
   "metadata": {},
   "outputs": [
    {
     "name": "stderr",
     "output_type": "stream",
     "text": [
      "/clusterfs/ml4hep/mpettee/GaiaCWoLa/notebooks/../python/functions.py:245: SettingWithCopyWarning: \n",
      "A value is trying to be set on a copy of a slice from a DataFrame.\n",
      "Try using .loc[row_indexer,col_indexer] = value instead\n",
      "\n",
      "See the caveats in the documentation: https://pandas.pydata.org/pandas-docs/stable/user_guide/indexing.html#returning-a-view-versus-a-copy\n",
      "  df_slice['label'] = np.where(((df_slice.μ_δ > sr_min) & (df_slice.μ_δ < sr_max)), 1, 0)\n",
      "/clusterfs/ml4hep/mpettee/GaiaCWoLa/notebooks/../python/functions.py:245: SettingWithCopyWarning: \n",
      "A value is trying to be set on a copy of a slice from a DataFrame.\n",
      "Try using .loc[row_indexer,col_indexer] = value instead\n",
      "\n",
      "See the caveats in the documentation: https://pandas.pydata.org/pandas-docs/stable/user_guide/indexing.html#returning-a-view-versus-a-copy\n",
      "  df_slice['label'] = np.where(((df_slice.μ_δ > sr_min) & (df_slice.μ_δ < sr_max)), 1, 0)\n",
      "No handles with labels found to put in legend.\n",
      "No handles with labels found to put in legend.\n",
      "2022-04-10 14:07:56.247452: I tensorflow/stream_executor/platform/default/dso_loader.cc:44] Successfully opened dynamic library libcuda.so.1\n",
      "2022-04-10 14:07:56.264401: E tensorflow/stream_executor/cuda/cuda_driver.cc:313] failed call to cuInit: CUDA_ERROR_NO_DEVICE: no CUDA-capable device is detected\n",
      "2022-04-10 14:07:56.264464: I tensorflow/stream_executor/cuda/cuda_diagnostics.cc:169] retrieving CUDA diagnostic information for host: ml4hep2\n",
      "2022-04-10 14:07:56.264475: I tensorflow/stream_executor/cuda/cuda_diagnostics.cc:176] hostname: ml4hep2\n",
      "2022-04-10 14:07:56.264586: I tensorflow/stream_executor/cuda/cuda_diagnostics.cc:200] libcuda reported version is: 495.29.5\n",
      "2022-04-10 14:07:56.264644: I tensorflow/stream_executor/cuda/cuda_diagnostics.cc:204] kernel reported version is: 495.29.5\n",
      "2022-04-10 14:07:56.264675: I tensorflow/stream_executor/cuda/cuda_diagnostics.cc:310] kernel version seems to match DSO: 495.29.5\n",
      "2022-04-10 14:07:56.264990: I tensorflow/core/platform/cpu_feature_guard.cc:143] Your CPU supports instructions that this TensorFlow binary was not compiled to use: SSE4.1 SSE4.2 AVX AVX2 FMA\n",
      "2022-04-10 14:07:56.276063: I tensorflow/core/platform/profile_utils/cpu_utils.cc:102] CPU Frequency: 2994330000 Hz\n",
      "2022-04-10 14:07:56.277360: I tensorflow/compiler/xla/service/service.cc:168] XLA service 0x555b1063dba0 initialized for platform Host (this does not guarantee that XLA will be used). Devices:\n",
      "2022-04-10 14:07:56.277405: I tensorflow/compiler/xla/service/service.cc:176]   StreamExecutor device (0): Host, Default Version\n",
      "2022-04-10 14:07:56.384224: I tensorflow/stream_executor/platform/default/dso_loader.cc:44] Successfully opened dynamic library libcuda.so.1\n",
      "2022-04-10 14:07:56.400463: E tensorflow/stream_executor/cuda/cuda_driver.cc:313] failed call to cuInit: CUDA_ERROR_NO_DEVICE: no CUDA-capable device is detected\n",
      "2022-04-10 14:07:56.400505: I tensorflow/stream_executor/cuda/cuda_diagnostics.cc:169] retrieving CUDA diagnostic information for host: ml4hep2\n",
      "2022-04-10 14:07:56.400513: I tensorflow/stream_executor/cuda/cuda_diagnostics.cc:176] hostname: ml4hep2\n",
      "2022-04-10 14:07:56.400603: I tensorflow/stream_executor/cuda/cuda_diagnostics.cc:200] libcuda reported version is: 495.29.5\n",
      "2022-04-10 14:07:56.400640: I tensorflow/stream_executor/cuda/cuda_diagnostics.cc:204] kernel reported version is: 495.29.5\n",
      "2022-04-10 14:07:56.400656: I tensorflow/stream_executor/cuda/cuda_diagnostics.cc:310] kernel version seems to match DSO: 495.29.5\n",
      "2022-04-10 14:07:56.400898: I tensorflow/core/platform/cpu_feature_guard.cc:143] Your CPU supports instructions that this TensorFlow binary was not compiled to use: SSE4.1 SSE4.2 AVX AVX2 FMA\n",
      "2022-04-10 14:07:56.412085: I tensorflow/core/platform/profile_utils/cpu_utils.cc:102] CPU Frequency: 2994330000 Hz\n",
      "2022-04-10 14:07:56.413437: I tensorflow/compiler/xla/service/service.cc:168] XLA service 0x555b0f451320 initialized for platform Host (this does not guarantee that XLA will be used). Devices:\n",
      "2022-04-10 14:07:56.413483: I tensorflow/compiler/xla/service/service.cc:176]   StreamExecutor device (0): Host, Default Version\n"
     ]
    },
    {
     "name": "stdout",
     "output_type": "stream",
     "text": [
      "Finished Patch #0\n",
      "Finished Patch #1\n"
     ]
    }
   ],
   "source": [
    "from multiprocessing import Pool\n",
    "\n",
    "n_patches = 2\n",
    "alphas = np.linspace(df_all[df_all.stream].α.min(), df_all[df_all.stream].α.max(), n_patches)\n",
    "deltas = np.array([df_all[(df_all.stream & (np.abs(df_all.α - alpha) < 5))].δ.mean() for alpha in alphas])\n",
    "limits = pd.DataFrame(zip(np.arange(len(alphas)),alphas,deltas), columns=[\"patch_id\",\"α_center\", \"δ_center\"])\n",
    "\n",
    "def my_func(patch_id):\n",
    "    α_min = limits.iloc[patch_id][\"α_center\"]-10\n",
    "    α_max = limits.iloc[patch_id][\"α_center\"]+10\n",
    "    δ_min = limits.iloc[patch_id][\"δ_center\"]-10\n",
    "    δ_max = limits.iloc[patch_id][\"δ_center\"]+10\n",
    "    df = (df_all[(α_min < df_all.α) & (df_all.α < α_max) & \n",
    "                 (δ_min < df_all.δ) & (df_all.δ < δ_max)])\n",
    "    if np.sum(df.stream)/len(df) > 0.0001: # skip patches with hardly any stream stars\n",
    "        df_train = signal_sideband(df, save_folder=\"test/patches/patch{}\".format(str(patch_id)),\n",
    "                        sb_min = df[df.stream].μ_δ.min(),\n",
    "                        sr_min = df[df.stream].μ_δ.min()+1,\n",
    "                        sr_max = df[df.stream].μ_δ.max()-1,\n",
    "                        sb_max = df[df.stream].μ_δ.max(), \n",
    "                        verbose=False,\n",
    "                        )\n",
    "        tf.keras.backend.clear_session()\n",
    "        test = train(df_train, \n",
    "          n_folds = 1, \n",
    "          best_of_n_loops = 1,\n",
    "          layer_size = 128, \n",
    "          batch_size = 10000, \n",
    "          dropout = 0.2, \n",
    "          epochs = 2, \n",
    "          patience = 30,\n",
    "          l2_reg = 0,\n",
    "          save_folder=\"test/patches/patch{}\".format(str(patch_id)),\n",
    "          verbose=False,)\n",
    "        top_100_stars = test.sort_values('nn_score',ascending=False)[:100]\n",
    "        \n",
    "    # return results for the record as pd.Series\n",
    "    print(\"Finished Patch #{}\".format(str(patch_id)))\n",
    "    return test\n",
    "\n",
    "pool = Pool(processes=2)\n",
    "results = pool.map(my_func, limits.patch_id.unique())\n",
    "pool.close()\n",
    "pool.join()"
   ]
  },
  {
   "cell_type": "code",
   "execution_count": 39,
   "id": "5ea6ea14-486d-42a1-a125-851e062b7e27",
   "metadata": {},
   "outputs": [
    {
     "data": {
      "image/png": "[encoded data removed]",
      "text/plain": [
       "<Figure size 2400x800 with 1 Axes>"
      ]
     },
     "metadata": {
      "needs_background": "light"
     },
     "output_type": "display_data"
    }
   ],
   "source": [
    "all_gd1_stars = []\n",
    "cwola_stars = []\n",
    "\n",
    "for test in results:\n",
    "    n_top_stars = np.min([len(test[test.stream]),100])\n",
    "    patch_top_stars = test.sort_values('nn_score',ascending=False)[:n_top_stars]\n",
    "    all_gd1_stars.append(test[test.stream])\n",
    "    cwola_stars.append(patch_top_stars)\n",
    "    \n",
    "all_gd1_stars = pd.concat([df for df in all_gd1_stars])\n",
    "cwola_stars = pd.concat([df for df in cwola_stars])\n",
    "\n",
    "plt.figure(dpi=200, figsize=(12,4))\n",
    "plt.scatter(all_gd1_stars.α, all_gd1_stars.δ, marker='.', s=2, \n",
    "            color=\"lightgray\", label=\"GD1\")\n",
    "plt.scatter(cwola_stars[cwola_stars.stream == False].α, cwola_stars[cwola_stars.stream == False].δ, marker='.', s=2, \n",
    "            color=\"darkorange\", label=\"CWoLa (Non-Match)\")\n",
    "plt.scatter(cwola_stars[cwola_stars.stream].α, cwola_stars[cwola_stars.stream].δ, marker='.', s=2, \n",
    "            color=\"crimson\", label=\"CWoLa (Match)\")\n",
    "plt.legend()\n",
    "plt.xlabel(r\"$\\alpha$ [\\textdegree]\");\n",
    "plt.xlim(120,220);"
   ]
  },
  {
   "cell_type": "code",
   "execution_count": 49,
   "id": "d8a21500-8f6e-4750-b515-ebfd8f9c6fe9",
   "metadata": {},
   "outputs": [
    {
     "data": {
      "image/png": "[encoded data removed]",
      "text/plain": [
       "<Figure size 2400x800 with 1 Axes>"
      ]
     },
     "metadata": {
      "needs_background": "light"
     },
     "output_type": "display_data"
    }
   ],
   "source": [
    "# remake from test dataframes saved during the training\n",
    "all_gd1_stars = []\n",
    "cwola_stars = []\n",
    "\n",
    "files = glob(\"../trained_models/test/patches/patch*/df_test.h5\")\n",
    "\n",
    "for file in files:\n",
    "    test = pd.read_hdf(file)\n",
    "    n_top_stars = np.min([len(test[test.stream]),100])\n",
    "    patch_top_stars = test.sort_values('nn_score',ascending=False)[:n_top_stars]\n",
    "    all_gd1_stars.append(test[test.stream])\n",
    "    cwola_stars.append(patch_top_stars)\n",
    "    \n",
    "all_gd1_stars = pd.concat([df for df in all_gd1_stars])\n",
    "cwola_stars = pd.concat([df for df in cwola_stars])\n",
    "\n",
    "plt.figure(dpi=200, figsize=(12,4))\n",
    "plt.scatter(all_gd1_stars.α, all_gd1_stars.δ, marker='.', s=2, \n",
    "            color=\"lightgray\", label=\"GD1\")\n",
    "plt.scatter(cwola_stars[cwola_stars.stream == False].α, cwola_stars[cwola_stars.stream == False].δ, marker='.', s=2, \n",
    "            color=\"darkorange\", label=\"CWoLa (Non-Match)\")\n",
    "plt.scatter(cwola_stars[cwola_stars.stream].α, cwola_stars[cwola_stars.stream].δ, marker='.', s=2, \n",
    "            color=\"crimson\", label=\"CWoLa (Match)\")\n",
    "plt.legend()\n",
    "plt.xlabel(r\"$\\alpha$ [\\textdegree]\");\n",
    "plt.xlim(120,220);"
   ]
  },
  {
   "cell_type": "markdown",
   "id": "117bf601-4b04-40fe-b3ef-cc35a5eb8925",
   "metadata": {
    "tags": []
   },
   "source": [
    "## scratch"
   ]
  },
  {
   "cell_type": "code",
   "execution_count": 5,
   "id": "4d4daf5e-a785-4a17-8344-408180994463",
   "metadata": {},
   "outputs": [],
   "source": [
    "import pandas as pd\n",
    "from random import randrange\n",
    "from multiprocessing import Pool\n",
    "\n",
    "#Trivial example function \n",
    "def my_func(record):\n",
    "    sub_df = df.loc[df['Record'] == record]\n",
    "    sub_df['Result'] = randrange(0,100)\n",
    "    # return results for the record as pd.Series\n",
    "    return sub_df['Result']  "
   ]
  },
  {
   "cell_type": "code",
   "execution_count": 6,
   "id": "e25fc485-1efc-42c7-b0dc-03619887a111",
   "metadata": {},
   "outputs": [],
   "source": [
    "d = {'Record': ['A', 'A', 'B', 'B'], 'Values': [100, 200, 50, 70]}\n",
    "df = pd.DataFrame(d)\n",
    "all_records = df['Record'].unique()"
   ]
  },
  {
   "cell_type": "code",
   "execution_count": 9,
   "id": "d0ce0021-c5f6-4c0f-a920-b5a8575ff84d",
   "metadata": {},
   "outputs": [
    {
     "name": "stderr",
     "output_type": "stream",
     "text": [
      "/tmp/ipykernel_19422/1951441902.py:8: SettingWithCopyWarning: \n",
      "A value is trying to be set on a copy of a slice from a DataFrame.\n",
      "Try using .loc[row_indexer,col_indexer] = value instead\n",
      "\n",
      "See the caveats in the documentation: https://pandas.pydata.org/pandas-docs/stable/user_guide/indexing.html#returning-a-view-versus-a-copy\n",
      "  sub_df['Result'] = randrange(0,100)\n",
      "/tmp/ipykernel_19422/1951441902.py:8: SettingWithCopyWarning: \n",
      "A value is trying to be set on a copy of a slice from a DataFrame.\n",
      "Try using .loc[row_indexer,col_indexer] = value instead\n",
      "\n",
      "See the caveats in the documentation: https://pandas.pydata.org/pandas-docs/stable/user_guide/indexing.html#returning-a-view-versus-a-copy\n",
      "  sub_df['Result'] = randrange(0,100)\n"
     ]
    },
    {
     "name": "stdout",
     "output_type": "stream",
     "text": [
      "  Record  Values  Result\n",
      "0      A     100      50\n",
      "1      A     200      50\n",
      "2      B      50      65\n",
      "3      B      70      65\n"
     ]
    }
   ],
   "source": [
    "pool = Pool(processes=2)\n",
    "results = pool.map(my_func, all_records)\n",
    "pool.close()\n",
    "pool.join()\n",
    "\n",
    "# concatenate results into a single pd.Series\n",
    "results = pd.concat(results)\n",
    "\n",
    "# join results with original df\n",
    "joined_df = df.join(results)\n",
    "\n",
    "print(joined_df)"
   ]
  },
  {
   "cell_type": "code",
   "execution_count": null,
   "id": "72fe4907-ccd2-4b03-90b7-17473fc0fc89",
   "metadata": {},
   "outputs": [],
   "source": [
    "id = 20\n",
    "α_min = df_all[df_all.patch_id == id].α.min()\n",
    "α_max = df_all[df_all.patch_id == id].α.max()\n",
    "δ_min = df_all[df_all.patch_id == id].δ.min()\n",
    "δ_max = df_all[df_all.patch_id == id].δ.max()\n",
    "\n",
    "visualize_stream(df_all[(α_min < df_all.α) & (df_all.α < α_max) & \n",
    "                        (δ_min < df_all.δ) & (df_all.δ < δ_max)])"
   ]
  },
  {
   "cell_type": "markdown",
   "id": "870f9905-6a3f-4569-b8e7-7f9632f07acf",
   "metadata": {},
   "source": [
    "Hand-pick limits for each patch:"
   ]
  },
  {
   "cell_type": "code",
   "execution_count": null,
   "id": "b4cd6997-c125-42b2-9e24-ae4a0057635c",
   "metadata": {},
   "outputs": [],
   "source": [
    "limits = pd.DataFrame([\n",
    "                  [0, -15, -13.5, -11, -10],\n",
    "                  [1, -14, -13, -12, -11],\n",
    "                  [2, -14, -13, -11.5, -10],\n",
    "                  [3, -14, -13, -11, -10],\n",
    "                  [4, -15, -14, -12, -11],\n",
    "                  [5, -15, -14, -12, -11],\n",
    "                  [6, -5, -4, -2.5, 2],\n",
    "                  [7, -10, -9.5, -8, -7],\n",
    "                  [8, -9, -8, -7, -6],\n",
    "                  [9, -9, -8, -7, -6],\n",
    "                  [10, -12.5, -12, -11, -10],\n",
    "                  [11, -14, -13, -11, -10],\n",
    "                  [12, -14, -13, -12, -11],\n",
    "                  [13, -6, -5, -4, -2],\n",
    "                  [14, -9, -8, -7, -6],\n",
    "                  [15, -9, -8, -7, -6],\n",
    "                  [16, -14, -13, -11, -10],\n",
    "                  [17, -14, -13, -12, -11],\n",
    "                  [18, -6, -5, -3, -2],\n",
    "                  [19, -9, -8, -6, -5],\n",
    "                  [20, -9, -8.5, -6, -5.5],\n",
    "                  ],\n",
    "                  columns=[\"patch_id\",\"sb_min\",\"sr_min\",\"sr_max\",\"sb_max\"])"
   ]
  },
  {
   "cell_type": "markdown",
   "id": "91170894-02c9-438a-a10b-754cf0c9cbfb",
   "metadata": {},
   "source": [
    "Run over each patch:"
   ]
  },
  {
   "cell_type": "code",
   "execution_count": null,
   "id": "ed76bda9-f85a-48b3-aa13-d832e505bc54",
   "metadata": {},
   "outputs": [],
   "source": [
    "target_stream = []\n",
    "top_100_stars = []\n",
    "\n",
    "## Scan over patches\n",
    "for patch_id in tqdm(limits.patch_id.unique()):\n",
    "    α_min = df_all[df_all.patch_id == patch_id].α.min()\n",
    "    α_max = df_all[df_all.patch_id == patch_id].α.max()\n",
    "    δ_min = df_all[df_all.patch_id == patch_id].δ.min()\n",
    "    δ_max = df_all[df_all.patch_id == patch_id].δ.max()\n",
    "\n",
    "    df = df_all[(α_min < df_all.α) & (df_all.α < α_max) & \n",
    "                (δ_min < df_all.δ) & (df_all.δ < δ_max)]\n",
    "    \n",
    "    if np.sum(df.stream)/len(df) < 0.0001: # skip patches with hardly any stream stars\n",
    "        continue\n",
    "    else:\n",
    "        try: \n",
    "            plt.scatter(df[df.stream].α, df[df.stream].δ, alpha=0.1)\n",
    "#             visualize_stream(df)\n",
    "        except: \n",
    "            continue\n",
    "#         target_stream.append(df[df.stream])  \n",
    "#         df_train = signal_sideband(df,\n",
    "#                         sb_min = float(limits[limits.patch_id == patch_id].sb_min),\n",
    "#                         sr_min = float(limits[limits.patch_id == patch_id].sr_min),\n",
    "#                         sr_max = float(limits[limits.patch_id == patch_id].sr_max),\n",
    "#                         sb_max = float(limits[limits.patch_id == patch_id].sb_max),\n",
    "#                         )\n",
    "\n",
    "#         tf.keras.backend.clear_session()\n",
    "#         test = train(df_train, \n",
    "#           n_folds = 1, \n",
    "#           best_of_n_loops = 1,\n",
    "#           layer_size = 128, \n",
    "#           batch_size = 1000, \n",
    "#           dropout = 0.2, \n",
    "#           epochs = 1000, \n",
    "#           patience = 30)\n",
    "#         top_100_stars.append(test.sort_values('nn_score',ascending=False)[:100])"
   ]
  },
  {
   "cell_type": "code",
   "execution_count": null,
   "id": "fcd98773-89b9-4d1c-8a72-d96ac92bea2d",
   "metadata": {},
   "outputs": [],
   "source": []
  },
  {
   "cell_type": "code",
   "execution_count": null,
   "id": "6c46feb4-4913-4149-8d56-8a8b78543e9e",
   "metadata": {},
   "outputs": [],
   "source": [
    "all_gd1_stars = pd.concat([df for df in target_stream])\n",
    "cwola_stars = pd.concat([df for df in top_100_stars])\n",
    "\n",
    "plt.figure(dpi=200, figsize=(12,4))\n",
    "plt.scatter(all_gd1_stars.α, all_gd1_stars.δ, marker='.', s=2, \n",
    "            color=\"lightgray\", label=\"GD1\")\n",
    "plt.scatter(cwola_stars[cwola_stars.stream == False].α, cwola_stars[cwola_stars.stream == False].δ, marker='.', s=2, \n",
    "            color=\"darkorange\", label=\"CWoLa (Non-Match)\")\n",
    "plt.scatter(cwola_stars[cwola_stars.stream].α, cwola_stars[cwola_stars.stream].δ, marker='.', s=2, \n",
    "            color=\"crimson\", label=\"CWoLa (Match)\")\n",
    "plt.legend()\n",
    "plt.xlabel(r\"$\\alpha$ [\\textdegree]\");\n",
    "plt.xlim(120,220);"
   ]
  },
  {
   "cell_type": "code",
   "execution_count": null,
   "id": "062ac14a-7513-4391-8d85-b1ba57aa3ecf",
   "metadata": {},
   "outputs": [],
   "source": [
    "cwola_stars.stream.value_counts()"
   ]
  },
  {
   "cell_type": "code",
   "execution_count": null,
   "id": "5cdccf0e-ddef-4938-9035-20f1a48bbce6",
   "metadata": {},
   "outputs": [],
   "source": []
  }
 ],
 "metadata": {
  "kernelspec": {
   "display_name": "gaia",
   "language": "python",
   "name": "gaia"
  },
  "language_info": {
   "codemirror_mode": {
    "name": "ipython",
    "version": 3
   },
   "file_extension": ".py",
   "mimetype": "text/x-python",
   "name": "python",
   "nbconvert_exporter": "python",
   "pygments_lexer": "ipython3",
   "version": "3.8.12"
  }
 },
 "nbformat": 4,
 "nbformat_minor": 5
}
