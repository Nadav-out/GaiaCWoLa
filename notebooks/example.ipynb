{
 "cells": [
  {
   "cell_type": "code",
   "execution_count": null,
   "id": "8ccda98e-86c6-48e6-a466-e96223103fde",
   "metadata": {
    "tags": []
   },
   "outputs": [],
   "source": [
    "%load_ext autoreload\n",
    "%autoreload 2\n",
    "import sys\n",
    "sys.path.append('../python')\n",
    "from functions import *\n",
    "from models import *\n",
    "import tensorflow as tf\n",
    "os.environ[\"CUDA_VISIBLE_DEVICES\"] = \"3\" \n",
    "physical_devices = tf.config.list_physical_devices('GPU') \n",
    "tf.config.experimental.set_memory_growth(physical_devices[0], True)"
   ]
  },
  {
   "cell_type": "markdown",
   "id": "fdb582a6-b46d-4079-852f-c253f0517e60",
   "metadata": {},
   "source": [
    "# Part 1: Train on a simulated stream"
   ]
  },
  {
   "cell_type": "code",
   "execution_count": null,
   "id": "1c39403d-3950-4a25-8ac5-6b9d73cb06f1",
   "metadata": {
    "tags": []
   },
   "outputs": [],
   "source": [
    "save_folder = \"test_simulated\"\n",
    "\n",
    "if save_folder is not None: \n",
    "    os.makedirs(save_folder, exist_ok=True)"
   ]
  },
  {
   "cell_type": "code",
   "execution_count": null,
   "id": "329bfacc-c142-4a89-b386-e83c174454d2",
   "metadata": {
    "tags": []
   },
   "outputs": [],
   "source": [
    "### Load file \n",
    "df = pd.read_hdf(\"../gaia_data/simulated_example_fullpatch.h5\")\n",
    "make_plots(df, save_folder = save_folder)"
   ]
  },
  {
   "cell_type": "code",
   "execution_count": null,
   "id": "51e6375b-3fa6-4815-aabb-5de50d07d751",
   "metadata": {
    "tags": []
   },
   "outputs": [],
   "source": [
    "### Divide into signal & sideband regions. Note that these tend to be much narrower than for real streams\n",
    "df_slice = signal_sideband(df, save_folder = save_folder, sr_factor=0.25, sb_factor=0.5)"
   ]
  },
  {
   "cell_type": "code",
   "execution_count": null,
   "id": "62178ded-8474-4640-a64e-7da82a3f9ea1",
   "metadata": {
    "tags": []
   },
   "outputs": [],
   "source": [
    "### Train\n",
    "tf.keras.backend.clear_session()\n",
    "test = train(df_slice, verbose=False, save_folder = save_folder)"
   ]
  },
  {
   "cell_type": "markdown",
   "id": "aa068c6e-8ced-4aab-ab26-2bb1edc97c34",
   "metadata": {},
   "source": [
    "# Part 2: Train on a real patch of the GD-1 stream"
   ]
  },
  {
   "cell_type": "code",
   "execution_count": null,
   "id": "158efad1-d547-4f8e-8f22-4310ff971da3",
   "metadata": {},
   "outputs": [],
   "source": [
    "save_folder = \"test_gd1\"\n",
    "\n",
    "if save_folder is not None: \n",
    "    os.makedirs(save_folder, exist_ok=True)"
   ]
  },
  {
   "cell_type": "code",
   "execution_count": null,
   "id": "c3dbd184-5d8d-4ab3-a999-6369e79c22b3",
   "metadata": {},
   "outputs": [],
   "source": [
    "### Load file \n",
    "df = pd.read_hdf(\"../gaia_data/example_fullpatch.h5\")\n",
    "make_plots(df, save_folder = save_folder)"
   ]
  },
  {
   "cell_type": "code",
   "execution_count": null,
   "id": "6f8accfc-f183-41d2-b744-4387f084d363",
   "metadata": {},
   "outputs": [],
   "source": [
    "### Divide into signal & sideband regions\n",
    "df_slice = signal_sideband(df, save_folder = save_folder, sr_factor=1, sb_factor=3)"
   ]
  },
  {
   "cell_type": "code",
   "execution_count": null,
   "id": "574235a8-6d2f-4766-8c79-7c46ea20849e",
   "metadata": {},
   "outputs": [],
   "source": [
    "### Train \n",
    "tf.keras.backend.clear_session()\n",
    "test = train(df_slice, verbose=False, save_folder = save_folder)"
   ]
  }
 ],
 "metadata": {
  "kernelspec": {
   "display_name": "gaia_gpu",
   "language": "python",
   "name": "gaia_gpu"
  },
  "language_info": {
   "codemirror_mode": {
    "name": "ipython",
    "version": 3
   },
   "file_extension": ".py",
   "mimetype": "text/x-python",
   "name": "python",
   "nbconvert_exporter": "python",
   "pygments_lexer": "ipython3",
   "version": "3.8.13"
  }
 },
 "nbformat": 4,
 "nbformat_minor": 5
}
