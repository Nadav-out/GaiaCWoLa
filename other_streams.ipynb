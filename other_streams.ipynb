{
 "cells": [
  {
   "cell_type": "code",
   "execution_count": 1,
   "id": "e4a11019-8d91-47d9-9d95-6644b53f06ff",
   "metadata": {},
   "outputs": [],
   "source": [
    "from functions import *\n",
    "from models import *\n",
    "# from livelossplot import PlotLossesKeras\n",
    "# import tensorflow as tf\n",
    "# os.environ[\"CUDA_VISIBLE_DEVICES\"] = \"1\" # pick a number < 4 on ML4HEP; < 3 on Voltan \n",
    "# physical_devices = tf.config.list_physical_devices('GPU') \n",
    "# tf.config.experimental.set_memory_growth(physical_devices[0], True)"
   ]
  },
  {
   "cell_type": "code",
   "execution_count": null,
   "id": "ee8eaf7e-55e1-4e74-b335-e9f7b773d2ea",
   "metadata": {},
   "outputs": [],
   "source": [
    "# a = np.load('../ViaMachinae/knownstreams.npz')\n",
    "# stream = pd.DataFrame(a['Gaia3'][:,[3,2,1,0,4,5]], columns = ['μ_δ','μ_α','δ','α','mag','color'])\n",
    "# plt.figure(figsize=(3.7,3), dpi=150, tight_layout=True)\n",
    "# plt.scatter(stream.α,stream.δ,color='black',s=0.2, label=\"Stream\")\n",
    "# plt.xlabel(r\"$\\alpha$ [\\textdegree]\")\n",
    "# plt.ylabel(r\"$\\delta$ [\\textdegree]\");"
   ]
  },
  {
   "cell_type": "code",
   "execution_count": null,
   "id": "f48c3626-aefd-4278-88ea-131d39780af7",
   "metadata": {},
   "outputs": [],
   "source": [
    "# ### Get offsets \n",
    "# pieces = file.split('_')\n",
    "# for piece in pieces:\n",
    "#     if piece.startswith(\"l\"): \n",
    "#         l = float(piece[1:])\n",
    "#     elif piece.startswith(\"b\"): \n",
    "#         b = float(piece[1:])\n",
    "# print(l,b)\n",
    "\n",
    "# plt.figure(figsize=(3.7,3), dpi=150, tight_layout=True)\n",
    "# plt.hist2d(df.α,df.δ,bins=50)\n",
    "# # plt.colorbar()\n",
    "# plt.scatter(stream.α-l,stream.δ-b,color='gray',s=0.2, label=\"Stream\")\n",
    "# plt.xlabel(r\"$\\alpha$ [\\textdegree]\")\n",
    "# plt.ylabel(r\"$\\delta$ [\\textdegree]\");"
   ]
  },
  {
   "cell_type": "code",
   "execution_count": null,
   "id": "06a5ea2a-459e-4837-b111-bbab61e1a2fb",
   "metadata": {},
   "outputs": [],
   "source": [
    "# plt.figure(figsize=(3.7,3), dpi=150, tight_layout=True)\n",
    "# plt.hist2d(df.α,df.δ,bins=50)\n",
    "# plt.colorbar()\n",
    "# # plt.scatter(jhelum.α-l,jhelum.δ+b,color='white',s=0.2, label=\"Jhelum\")\n",
    "# plt.xlabel(r\"$\\alpha$ [\\textdegree]\")\n",
    "# plt.ylabel(r\"$\\delta$ [\\textdegree]\");"
   ]
  },
  {
   "cell_type": "code",
   "execution_count": 17,
   "id": "accb0111-48cb-4552-a34e-50e8adc486d5",
   "metadata": {},
   "outputs": [],
   "source": [
    "knownstreams_dict=np.load('../ViaMachinae/knownstreams.npz')\n",
    "knownstreams=knownstreams_dict.files\n",
    "\n",
    "def recenter_coords(x,y,vx,vy,newcenter):\n",
    "    center = ICRS(ra=newcenter[0]*u.deg, dec=newcenter[1]*u.deg)\n",
    "\n",
    "    coordinates_list= ICRS(ra=x*u.deg, dec=y*u.deg,\\\n",
    "                           pm_ra_cosdec=vx*u.mas/u.yr, pm_dec=vy*u.mas/u.yr)\n",
    "    coordinates_list = coordinates_list.transform_to(SkyOffsetFrame(origin=center))\n",
    "    newx=coordinates_list.lat.value\n",
    "    newy=coordinates_list.lon.wrap_at('180d').value\n",
    "    newvx=coordinates_list.pm_lat.value\n",
    "    newvy=coordinates_list.pm_lon_coslat.value\n",
    "\n",
    "    return newx,newy,newvx,newvy\n",
    "\n",
    "knownstreams={}\n",
    "for name in knownstreams:\n",
    "    lat_stream,lon_stream,pmlat_stream,pmlon_stream = recenter_coords(\n",
    "        knownstreams_dict[name][:,2],knownstreams_dict[name][:,3],\n",
    "        knownstreams_dict[name][:,4],knownstreams_dict[name][:,5],[ra,dec])\n",
    "    stars_stream =knownstreams_dict[name][(lat_stream**2+lon_stream**2<10**2) & (pmlat_stream>pmlat) & (pmlat_stream<pmlat+6) & (knownstreams_dict[name][:,4]>pmlon) & (knownstreams_dict[name][:,4]<pmlon+6)]\n",
    "    if(len(stars_stream)>0):\n",
    "        knownstreams[name]=stars_stream"
   ]
  },
  {
   "cell_type": "code",
   "execution_count": 18,
   "id": "ae0d05dc-0927-471c-ad43-cd1cd3812bbb",
   "metadata": {},
   "outputs": [
    {
     "data": {
      "text/plain": [
       "{}"
      ]
     },
     "execution_count": 18,
     "metadata": {},
     "output_type": "execute_result"
    }
   ],
   "source": [
    "knownstreams"
   ]
  },
  {
   "cell_type": "code",
   "execution_count": 16,
   "id": "ddab44c9-4121-4bba-b975-38bb93ae0a51",
   "metadata": {},
   "outputs": [
    {
     "name": "stdout",
     "output_type": "stream",
     "text": [
      "['Gjoll', 'Fjorm', 'Leiptr', 'Svol', 'Fimbulthul', 'Ylgr', 'Sylgr', 'Slidr', 'GD1', 'Gaia1', 'Gaia2', 'Gaia3', 'Gaia4', 'Gaia5', 'Jhelum', 'Indus', 'Phlegethon', 'Ophiuchus']\n"
     ]
    },
    {
     "data": {
      "text/plain": [
       "<matplotlib.collections.PathCollection at 0x7f9f28d64f40>"
      ]
     },
     "execution_count": 16,
     "metadata": {},
     "output_type": "execute_result"
    },
    {
     "data": {
      "image/png": "[encoded data removed]",
      "text/plain": [
       "<Figure size 555x450 with 1 Axes>"
      ]
     },
     "metadata": {
      "needs_background": "light"
     },
     "output_type": "display_data"
    }
   ],
   "source": [
    "a = np.load('../ViaMachinae/knownstreams.npz')\n",
    "print(a.files)\n",
    "stream = pd.DataFrame(a['Gaia3'][:,[2,3,4,5]], columns = ['lat','lon','pmlat','pmlon'])\n",
    "plt.figure(figsize=(3.7,3), dpi=150, tight_layout=True)\n",
    "plt.scatter(stream.lat,stream.lon,color='black',s=0.2, label=\"Stream\")\n",
    "# plt.xlabel(r\"$\\alpha$ [\\textdegree]\")\n",
    "# plt.ylabel(r\"$\\delta$ [\\textdegree]\");"
   ]
  },
  {
   "cell_type": "code",
   "execution_count": 7,
   "id": "10ac612e-4ceb-4eae-9df2-901bea567378",
   "metadata": {},
   "outputs": [
    {
     "name": "stdout",
     "output_type": "stream",
     "text": [
      "./gaia_data/gaia3/gaiascan_l292.5_b41.8_ra184.6_dec-20.4.npy\n",
      "l = 292.5, b = 41.8, ra = 184.6, dec = -20.4\n"
     ]
    },
    {
     "data": {
      "image/png": "[encoded data removed]",
      "text/plain": [
       "<Figure size 555x450 with 1 Axes>"
      ]
     },
     "metadata": {
      "needs_background": "light"
     },
     "output_type": "display_data"
    },
    {
     "data": {
      "image/png": "[encoded data removed]",
      "text/plain": [
       "<Figure size 555x450 with 2 Axes>"
      ]
     },
     "metadata": {
      "needs_background": "light"
     },
     "output_type": "display_data"
    }
   ],
   "source": [
    "df, file = load_file(stream = \"gaia3\", percent_bkg = 100)\n",
    "### Get offsets \n",
    "pieces = file.split('_')\n",
    "for piece in pieces:\n",
    "    if piece.startswith(\"ra\"): \n",
    "        ra = float(piece[2:])\n",
    "    elif piece.startswith(\"dec\"): \n",
    "        dec = float(piece[3:-4])\n",
    "    elif piece.startswith(\"l\"):\n",
    "        l = float(piece[1:])\n",
    "    elif piece.startswith(\"b\"):\n",
    "        b = float(piece[1:])\n",
    "print(\"l = {}, b = {}, ra = {}, dec = {}\".format(l,b,ra,dec))\n",
    "\n",
    "plt.figure(figsize=(3.7,3), dpi=150, tight_layout=True)\n",
    "plt.scatter(stream.α,stream.δ,color='black',s=0.2, label=\"Stream\")\n",
    "plt.xlabel(r\"$\\alpha$ [\\textdegree]\")\n",
    "plt.ylabel(r\"$\\delta$ [\\textdegree]\");\n",
    "\n",
    "plt.figure(figsize=(3.7,3), dpi=150, tight_layout=True)\n",
    "plt.hist2d(df.α,df.δ,bins=50)\n",
    "plt.colorbar()\n",
    "plt.scatter(stream.α-ra,stream.δ-dec,color='white',s=0.2, label=\"Stream\")\n",
    "plt.xlabel(r\"$\\alpha$ [\\textdegree]\")\n",
    "plt.ylabel(r\"$\\delta$ [\\textdegree]\");"
   ]
  },
  {
   "cell_type": "code",
   "execution_count": null,
   "id": "d3a5fba7-3681-4a45-8db8-baad20713532",
   "metadata": {},
   "outputs": [],
   "source": []
  }
 ],
 "metadata": {
  "kernelspec": {
   "display_name": "gaia",
   "language": "python",
   "name": "gaia"
  },
  "language_info": {
   "codemirror_mode": {
    "name": "ipython",
    "version": 3
   },
   "file_extension": ".py",
   "mimetype": "text/x-python",
   "name": "python",
   "nbconvert_exporter": "python",
   "pygments_lexer": "ipython3",
   "version": "3.8.12"
  }
 },
 "nbformat": 4,
 "nbformat_minor": 5
}
