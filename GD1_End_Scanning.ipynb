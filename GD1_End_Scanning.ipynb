{
 "cells": [
  {
   "cell_type": "code",
   "execution_count": 1,
   "metadata": {},
   "outputs": [],
   "source": [
    "import numpy as np\n",
    "import matplotlib\n",
    "import matplotlib.pyplot as plt"
   ]
  },
  {
   "cell_type": "code",
   "execution_count": 45,
   "metadata": {},
   "outputs": [],
   "source": [
    "from keras.layers import Input, Dense, Dropout\n",
    "from keras.models import Model, Sequential\n",
    "from sklearn.metrics import roc_curve, auc,roc_auc_score\n",
    "from sklearn.model_selection import train_test_split\n",
    "import pandas as pd\n",
    "from matplotlib import gridspec\n",
    "from scipy import stats\n",
    "from sklearn import preprocessing\n",
    "import os\n",
    "import keras\n",
    "os.environ[\"CUDA_VISIBLE_DEVICES\"]=\"2\"\n",
    "import random\n",
    "from sklearn.model_selection import KFold\n",
    "\n",
    "import tensorflow as tf\n",
    "gpu_options = tf.GPUOptions(allow_growth=True, per_process_gpu_memory_fraction=0.5)\n",
    "sess = tf.Session(config=tf.ConfigProto(gpu_options=gpu_options))"
   ]
  },
  {
   "cell_type": "markdown",
   "metadata": {},
   "source": [
    "### Functions"
   ]
  },
  {
   "cell_type": "code",
   "execution_count": 3,
   "metadata": {},
   "outputs": [],
   "source": [
    "def build_data_arrays(SR, SB, gaiadata2):\n",
    "    X = SR[:,3]-center_ra\n",
    "    Y = SR[:,2]-center_dec\n",
    "\n",
    "    Xb = SB[:,3]-center_ra\n",
    "    Yb = SB[:,2]-center_dec\n",
    "    \n",
    "    Xad = gaiadata2[:, 3]-center_ra\n",
    "    Yad = gaiadata2[:, 2]-center_dec\n",
    "\n",
    "    SR = np.c_[SR[:,0],SR[:,1],X, Y, SR[:,4],SR[:,5]]\n",
    "    SB = np.c_[SB[:,0],SB[:,1],Xb, Yb, SB[:,4],SB[:,5]]\n",
    "    gaiadata2 = np.c_[gaiadata2[:,0],gaiadata2[:,1], Xad, Yad, gaiadata2[:,4],gaiadata2[:,5]]\n",
    "    \n",
    "    return SR, SB, gaiadata2"
   ]
  },
  {
   "cell_type": "code",
   "execution_count": 4,
   "metadata": {},
   "outputs": [],
   "source": [
    "threshold_arr_size = 10000"
   ]
  },
  {
   "cell_type": "code",
   "execution_count": 5,
   "metadata": {},
   "outputs": [],
   "source": [
    "def calc_diff(SR, SB):\n",
    "    return abs(len(SR) - len(SB))"
   ]
  },
  {
   "cell_type": "code",
   "execution_count": 6,
   "metadata": {},
   "outputs": [],
   "source": [
    "def find_SR_SB_pointers(pointers, increment, data_arr, start_point, end_point):\n",
    "    SR = data_arr[(data_arr[:,0] > pointers[1])*(data_arr[:,0] < pointers[2])]\n",
    "    SB = data_arr[(data_arr[:,0] > pointers[0])*(data_arr[:,0] < pointers[1]) + (data_arr[:,0] > pointers[2])*(data_arr[:,0] < pointers[3])]\n",
    "\n",
    "    previous_diff = calc_diff(SR, SB)\n",
    "    prev_SR, prev_SB = SR, SB\n",
    "    curr_diff = previous_diff\n",
    "    bottom_bool = False\n",
    "    top_bool = True\n",
    "\n",
    "    while curr_diff <= previous_diff and pointers[3] < end_point:\n",
    "        previous_diff, prev_SR, prev_SB = curr_diff, SR, SB\n",
    "        if bottom_bool:\n",
    "            pointers[0] = max(start_point, pointers[0] - increment)\n",
    "        else:\n",
    "            pointers[3] = min(end_point, pointers[3] + increment)\n",
    "        bottom_bool, top_bool = top_bool, bottom_bool\n",
    "        SR = data_arr[(data_arr[:,0] > pointers[1])*(data_arr[:,0] < pointers[2])]\n",
    "        SB = data_arr[(data_arr[:,0] > pointers[0])*(data_arr[:,0] < pointers[1]) + (data_arr[:,0] > pointers[2])*(data_arr[:,0] < pointers[3])]\n",
    "        curr_diff = calc_diff(SR, SB)\n",
    "\n",
    "    return prev_SR, prev_SB"
   ]
  },
  {
   "cell_type": "code",
   "execution_count": 7,
   "metadata": {},
   "outputs": [],
   "source": [
    "def angular_distance(angle1,angle2):\n",
    "    # inputs are np arrays of [ra,dec]\n",
    "    deltara=np.minimum(np.minimum(np.abs(angle1[:,0]-angle2[:,0]+360),np.abs(angle1[:,0]-angle2[:,0])),\\\n",
    "                          np.abs(angle1[:,0]-angle2[:,0]-360))\n",
    "    deltadec=np.abs(angle1[:,1]-angle2[:,1])\n",
    "    return np.sqrt(deltara**2+deltadec**2)"
   ]
  },
  {
   "cell_type": "code",
   "execution_count": 8,
   "metadata": {},
   "outputs": [],
   "source": [
    "#function from David's file via_machinae.py\n",
    "def FilterGD1(stars):\n",
    "    gd1stars=np.zeros(len(stars))\n",
    "    for x in allgd1stars:\n",
    "        ra=x[0]\n",
    "        dec=x[1]\n",
    "        pmra=x[2]\n",
    "        pmdec=x[3]\n",
    "    \n",
    "        foundlist=angular_distance(np.dstack((stars[:,3],stars[:,2]))[0],np.array([[ra,dec]]))\n",
    "        foundlist=np.sqrt(foundlist**2+(stars[:,0]-pmdec)**2+(stars[:,1]-pmra)**2)   \n",
    "        foundlist=foundlist<.0001\n",
    "        if len(np.argwhere(foundlist))>1:\n",
    "            print(foundlist)\n",
    "        if len(np.argwhere(foundlist))==1:\n",
    "            gd1stars+=foundlist\n",
    "    gd1stars=gd1stars.astype('bool')\n",
    "    return gd1stars,stars[gd1stars]"
   ]
  },
  {
   "cell_type": "code",
   "execution_count": 62,
   "metadata": {},
   "outputs": [],
   "source": [
    "def make_fractional_background(all_data, fraction):\n",
    "    num = fraction*100\n",
    "    frac_background = []\n",
    "    for i in range(len(all_data)):\n",
    "        if all_data[i][6]:\n",
    "            frac_background.append(all_data[i])\n",
    "        else:\n",
    "            if random.randint(0, 100) < num:\n",
    "                frac_background.append(all_data[i])\n",
    "    frac_background = np.array(frac_background)\n",
    "    frac_background = frac_background[:, :6]\n",
    "    return frac_background"
   ]
  },
  {
   "cell_type": "code",
   "execution_count": 60,
   "metadata": {},
   "outputs": [],
   "source": [
    "def split(data, num_splits):\n",
    "    res = []\n",
    "    curr = 0\n",
    "    diff = len(data)//num_splits\n",
    "    while curr < num_splits:\n",
    "        res.append(data[curr*diff:(curr+1)*diff])\n",
    "        curr += 1\n",
    "    return res"
   ]
  },
  {
   "cell_type": "markdown",
   "metadata": {},
   "source": [
    "### Loading data and preprocessing"
   ]
  },
  {
   "cell_type": "code",
   "execution_count": 9,
   "metadata": {},
   "outputs": [],
   "source": [
    "datafile = '/data0/users/bpnachman/Gaia/gaiascan_l101.2_b58.4_ra212.7_dec55.2.npy'\n",
    "gaiadata=np.load(datafile,allow_pickle=True)\n",
    "gaiadata2 = np.array(gaiadata[:,[9,8,6,7,4,5]]).astype('float32') \n",
    "#pm_lat, pm_lon_coslat, lon, lat, color, mag\n",
    "allgd1stars = np.load('gd1_stars.npy')\n",
    "is_stream_arr, gaiadata3 = FilterGD1(gaiadata)\n",
    "\n",
    "new_gaiadata = []\n",
    "for i in range(len(gaiadata)):\n",
    "    temp = np.append(gaiadata[i], is_stream_arr[i])\n",
    "    new_gaiadata.append(temp)"
   ]
  },
  {
   "cell_type": "code",
   "execution_count": 10,
   "metadata": {},
   "outputs": [],
   "source": [
    "gaiadata = new_gaiadata\n",
    "gaiadata = np.array(gaiadata)"
   ]
  },
  {
   "cell_type": "code",
   "execution_count": 11,
   "metadata": {},
   "outputs": [],
   "source": [
    "#switch 0 and 1\n",
    "gaiadata2 = np.array(gaiadata[:,[8,9,6,7,4,5,10]]).astype('float32') \n",
    "gaiadata3 = np.array(gaiadata3[:,[8,9,6,7,4,5]]).astype('float32') "
   ]
  },
  {
   "cell_type": "code",
   "execution_count": 12,
   "metadata": {},
   "outputs": [],
   "source": [
    "gaiadata2 = gaiadata2[(np.abs(gaiadata2[:,0]) > 2) + (np.abs(gaiadata2[:,1]) > 2)] \n",
    "gaiadata2 = gaiadata2[(gaiadata2[:,4]>0.5) * (gaiadata2[:,4]<1)]\n",
    "\n",
    "gaiadata3 = gaiadata3[(np.abs(gaiadata3[:,0]) > 2) + (np.abs(gaiadata3[:,1]) > 2)] \n",
    "gaiadata3 = gaiadata3[(gaiadata3[:,4]>0.5) * (gaiadata3[:,4]<1)]"
   ]
  },
  {
   "cell_type": "markdown",
   "metadata": {},
   "source": [
    "### Model Averaging"
   ]
  },
  {
   "cell_type": "code",
   "execution_count": null,
   "metadata": {},
   "outputs": [
    {
     "name": "stdout",
     "output_type": "stream",
     "text": [
      "working\n",
      "on loop 1\n",
      "on loop 2\n",
      "on loop 3\n"
     ]
    }
   ],
   "source": [
    "frac_background = make_fractional_background(gaiadata2, 0.01)\n",
    "\n",
    "\n",
    "SR = frac_background[(frac_background[:,0] > -10)*(frac_background[:,0] < -8)]\n",
    "SB = frac_background[(frac_background[:,0] > -11)*(frac_background[:,0] < -10)+(frac_background[:,0] > -8)*(frac_background[:,0] < -7)]\n",
    "pointer1 = -10\n",
    "pointer2 = -8\n",
    "all_data = frac_background\n",
    "stream = gaiadata3\n",
    "\n",
    "X = np.concatenate([SR,SB])\n",
    "Y = np.concatenate([np.ones(len(SR)),np.zeros(len(SB))])\n",
    "\n",
    "myscalar = preprocessing.StandardScaler()\n",
    "myscalar.fit(X)\n",
    "X_scaled = myscalar.transform(X)\n",
    "all_data_scaled = myscalar.transform(all_data)\n",
    "\n",
    "X_scaled = X_scaled[Y<2]\n",
    "Y = Y[Y<2]\n",
    "\n",
    "\n",
    "X_train, X_test, Y_train, Y_test = train_test_split(X_scaled, Y, test_size=0.5)\n",
    "\n",
    "print('working')\n",
    "\n",
    "#set biases for each layer, bias_initializer\n",
    "#initializers.GlorotNormal()\n",
    "\n",
    "preds = []\n",
    "preds_all = []\n",
    "num_loops = 5\n",
    "\n",
    "for curr_index in range(num_loops):\n",
    "    print(\"on loop \" + str(curr_index+1))\n",
    "    model = Sequential()\n",
    "    initializer =tf.keras.initializers.glorot_normal()\n",
    "    model.add(Dense(256, input_dim=5, activation='relu', bias_initializer = initializer)) \n",
    "    model.add(Dropout(0.25))\n",
    "    model.add(Dense(256, activation='relu', bias_initializer = initializer))\n",
    "    model.add(Dropout(0.25))\n",
    "    model.add(Dense(256, activation='relu', bias_initializer = initializer))\n",
    "    model.add(Dropout(0.25))\n",
    "    model.add(Dense(1, activation='sigmoid', bias_initializer = initializer))\n",
    "    optimizer = keras.optimizers.Adam(lr=1e-4)\n",
    "    model.compile(loss='binary_crossentropy', optimizer=optimizer, metrics=['accuracy'])\n",
    "    history = model.fit(X_train[:,1:],Y_train, epochs=200, batch_size=200,validation_data=(X_test[:,1:],Y_test), verbose = 0) \n",
    "\n",
    "    preds_curr = model.predict(X_test[:,1:], batch_size=int(0.1*len(X_test)))\n",
    "    preds_all_curr = model.predict(all_data_scaled[:, 1:])\n",
    "    \n",
    "    \n",
    "    preds_indices = np.argsort(preds_curr[:,0])\n",
    "    preds_all_indices = np.argsort(preds_all_curr[:,0])\n",
    "    \n",
    "    if len(preds) == 0:\n",
    "        preds = preds_curr\n",
    "        preds_all = preds_all_curr\n",
    "    else:\n",
    "        preds = preds + preds_curr\n",
    "        preds_all = preds_all + preds_all_curr\n",
    "\n",
    "preds = [x/num_loops for x in preds]\n",
    "preds_all = [x/num_loops for x in preds_all]\n",
    "\n",
    "preds = np.array(preds)\n",
    "preds_all = np.array(preds_all)\n",
    "    \n",
    "stars_passing_cut = []\n",
    "\n",
    "X_test_unscaled = myscalar.inverse_transform(X_test)\n",
    "\n",
    "preds_sorted = preds[np.argsort(preds[:,0])]\n",
    "X_test_sorted = X_test_unscaled[np.argsort(preds[:,0])]\n",
    "X_test_sorted = X_test_sorted[(X_test_sorted[:,0] > pointer1) * (X_test_sorted[:,0] < pointer2)]\n",
    "\n",
    "stars_passing_cut = X_test_sorted[len(X_test_sorted) - 100:]\n",
    "\n",
    "\n"
   ]
  },
  {
   "cell_type": "code",
   "execution_count": 174,
   "metadata": {
    "scrolled": true
   },
   "outputs": [
    {
     "data": {
      "image/png": "[encoded data removed]",
      "text/plain": [
       "<Figure size 432x288 with 1 Axes>"
      ]
     },
     "metadata": {
      "needs_background": "light"
     },
     "output_type": "display_data"
    }
   ],
   "source": [
    "plt.scatter(stars_passing_cut[:,3],stars_passing_cut[:,2], marker = '.')\n",
    "plt.scatter(gaiadata3[:,3], gaiadata3[:,2], marker = '.', alpha = 0.2)\n",
    "\n",
    "plt.show()"
   ]
  },
  {
   "cell_type": "code",
   "execution_count": 173,
   "metadata": {},
   "outputs": [
    {
     "data": {
      "text/plain": [
       "<matplotlib.legend.Legend at 0x7f725354ca20>"
      ]
     },
     "execution_count": 173,
     "metadata": {},
     "output_type": "execute_result"
    },
    {
     "data": {
      "image/png": "[encoded data removed]",
      "text/plain": [
       "<Figure size 432x288 with 1 Axes>"
      ]
     },
     "metadata": {
      "needs_background": "light"
     },
     "output_type": "display_data"
    }
   ],
   "source": [
    "plt.plot(history.history['loss'], color = 'blue', label = 'loss')\n",
    "plt.plot(history.history['val_loss'], color = 'red', label = 'val loss')\n",
    "plt.legend()"
   ]
  },
  {
   "cell_type": "code",
   "execution_count": 169,
   "metadata": {},
   "outputs": [
    {
     "data": {
      "text/plain": [
       "'hi'"
      ]
     },
     "execution_count": 169,
     "metadata": {},
     "output_type": "execute_result"
    }
   ],
   "source": [
    "'hi'"
   ]
  },
  {
   "cell_type": "markdown",
   "metadata": {},
   "source": [
    "### Mapping scores to percentiles"
   ]
  },
  {
   "cell_type": "code",
   "execution_count": 38,
   "metadata": {},
   "outputs": [
    {
     "name": "stdout",
     "output_type": "stream",
     "text": [
      "working\n",
      "on loop 1\n",
      "on loop 2\n",
      "on loop 3\n",
      "on loop 4\n",
      "on loop 5\n"
     ]
    }
   ],
   "source": [
    "frac_background = make_fractional_background(gaiadata2, 0.5)\n",
    "\n",
    "\n",
    "SR = frac_background[(frac_background[:,0] > -10)*(frac_background[:,0] < -8)]\n",
    "SB = frac_background[(frac_background[:,0] > -11)*(frac_background[:,0] < -10)+(frac_background[:,0] > -8)*(frac_background[:,0] < -7)]\n",
    "pointer1 = -10\n",
    "pointer2 = -8\n",
    "all_data = frac_background\n",
    "stream = gaiadata3\n",
    "\n",
    "X = np.concatenate([SR,SB])\n",
    "Y = np.concatenate([np.ones(len(SR)),np.zeros(len(SB))])\n",
    "\n",
    "myscalar = preprocessing.StandardScaler()\n",
    "myscalar.fit(X)\n",
    "X_scaled = myscalar.transform(X)\n",
    "all_data_scaled = myscalar.transform(all_data)\n",
    "\n",
    "X_scaled = X_scaled[Y<2]\n",
    "Y = Y[Y<2]\n",
    "\n",
    "\n",
    "X_train, X_test, Y_train, Y_test = train_test_split(X_scaled, Y, test_size=0.5)\n",
    "\n",
    "print('working')\n",
    "\n",
    "#set biases for each layer, bias_initializer\n",
    "#initializers.GlorotNormal()\n",
    "\n",
    "preds = []\n",
    "preds_all = []\n",
    "num_loops = 5\n",
    "\n",
    "for curr_index in range(num_loops):\n",
    "    print(\"on loop \" + str(curr_index+1))\n",
    "    model = Sequential()\n",
    "    initializer =tf.keras.initializers.glorot_normal()\n",
    "    model.add(Dense(256, input_dim=5, activation='relu', bias_initializer = initializer)) \n",
    "    model.add(Dropout(0.25))\n",
    "    model.add(Dense(256, activation='relu', bias_initializer = initializer))\n",
    "    model.add(Dropout(0.25))\n",
    "    model.add(Dense(256, activation='relu', bias_initializer = initializer))\n",
    "    model.add(Dropout(0.25))\n",
    "    model.add(Dense(1, activation='sigmoid', bias_initializer = initializer))\n",
    "    optimizer = keras.optimizers.Adam(lr=1e-4)\n",
    "    model.compile(loss='binary_crossentropy', optimizer=optimizer, metrics=['accuracy'])\n",
    "    history = model.fit(X_train[:,1:],Y_train, epochs=200, batch_size=200,validation_data=(X_test[:,1:],Y_test), verbose = 0) \n",
    "\n",
    "    preds_curr = model.predict(X_test[:,1:], batch_size=int(0.1*len(X_test)))\n",
    "    preds_all_curr = model.predict(all_data_scaled[:, 1:])\n",
    "    \n",
    "    \n",
    "    preds_indices = np.argsort(preds_curr[:,0])\n",
    "    preds_all_indices = np.argsort(preds_all_curr[:,0])\n",
    "    \n",
    "    for j in range(len(preds_curr)):\n",
    "        preds_curr[j] = preds_indices[j]/len(preds_curr)\n",
    "    for j in range(len(preds_all_curr)):\n",
    "        preds_all_curr[j] = preds_all_indices[j]/len(preds_all_curr)\n",
    "    \n",
    "    if len(preds) == 0:\n",
    "        preds = preds_curr\n",
    "        preds_all = preds_all_curr\n",
    "    else:\n",
    "        preds = preds + preds_curr\n",
    "        preds_all = preds_all + preds_all_curr\n",
    "\n",
    "preds = [x/num_loops for x in preds]\n",
    "preds_all = [x/num_loops for x in preds_all]\n",
    "\n",
    "preds = np.array(preds)\n",
    "preds_all = np.array(preds_all)\n",
    "    \n",
    "stars_passing_cut = []\n",
    "\n",
    "X_test_unscaled = myscalar.inverse_transform(X_test)\n",
    "\n",
    "preds_sorted = preds[np.argsort(preds[:,0])]\n",
    "X_test_sorted = X_test_unscaled[np.argsort(preds[:,0])]\n",
    "X_test_sorted = X_test_sorted[(X_test_sorted[:,0] > pointer1) * (X_test_sorted[:,0] < pointer2)]\n",
    "\n",
    "stars_passing_cut = X_test_sorted[len(X_test_sorted) - 100:]\n",
    "\n"
   ]
  },
  {
   "cell_type": "code",
   "execution_count": 39,
   "metadata": {},
   "outputs": [
    {
     "data": {
      "image/png": "[encoded data removed]",
      "text/plain": [
       "<Figure size 432x288 with 1 Axes>"
      ]
     },
     "metadata": {
      "needs_background": "light"
     },
     "output_type": "display_data"
    }
   ],
   "source": [
    "plt.scatter(stars_passing_cut[:,3],stars_passing_cut[:,2], marker = '.')\n",
    "plt.scatter(gaiadata3[:,3], gaiadata3[:,2], marker = '.', alpha = 0.2)\n",
    "plt.xlim(-15,15)\n",
    "plt.ylim(-15,15)\n",
    "plt.show()"
   ]
  },
  {
   "cell_type": "code",
   "execution_count": 40,
   "metadata": {},
   "outputs": [
    {
     "data": {
      "text/plain": [
       "<matplotlib.legend.Legend at 0x7f72dc843b38>"
      ]
     },
     "execution_count": 40,
     "metadata": {},
     "output_type": "execute_result"
    },
    {
     "data": {
      "image/png": "[encoded data removed]",
      "text/plain": [
       "<Figure size 432x288 with 1 Axes>"
      ]
     },
     "metadata": {
      "needs_background": "light"
     },
     "output_type": "display_data"
    }
   ],
   "source": [
    "plt.plot(history.history['loss'], color = 'blue', label = 'loss')\n",
    "plt.plot(history.history['val_loss'], color = 'red', label = 'val loss')\n",
    "plt.legend()"
   ]
  },
  {
   "cell_type": "markdown",
   "metadata": {},
   "source": [
    "# k-folding"
   ]
  },
  {
   "cell_type": "code",
   "execution_count": 63,
   "metadata": {},
   "outputs": [],
   "source": [
    "#next steps: k folding, start with k = 2 (sk learn maybe has a function to split data into k pieces)\n",
    "#for k > 2:\n",
    "#1/k should be test, 1/k should be validation (k-1 choices), average amongst the k-1 choices, k-2/k for training, \n",
    "#loop within this structure \n",
    "\n",
    "#validation set -> use to pick the best model, lowest validation loss"
   ]
  },
  {
   "cell_type": "code",
   "execution_count": 191,
   "metadata": {},
   "outputs": [],
   "source": [
    "frac_background = make_fractional_background(gaiadata2, 0.01)\n",
    "\n",
    "\n",
    "SR = frac_background[(frac_background[:,0] > -10)*(frac_background[:,0] < -8)]\n",
    "SB = frac_background[(frac_background[:,0] > -11)*(frac_background[:,0] < -10)+(frac_background[:,0] > -8)*(frac_background[:,0] < -7)]\n",
    "pointer1 = -10\n",
    "pointer2 = -8\n",
    "stream = gaiadata3\n",
    "\n",
    "X = np.concatenate([SR,SB])\n",
    "Y = np.concatenate([np.ones(len(SR)),np.zeros(len(SB))])\n",
    "\n",
    "myscalar = preprocessing.StandardScaler()\n",
    "myscalar.fit(X)\n",
    "X_scaled = myscalar.transform(X)\n",
    "\n",
    "X_scaled = X_scaled[Y<2]\n",
    "Y = Y[Y<2]"
   ]
  },
  {
   "cell_type": "code",
   "execution_count": 192,
   "metadata": {},
   "outputs": [],
   "source": [
    "#split data into 5 sets\n",
    "num_splits = 3\n",
    "split_X = split(X_scaled, num_splits)\n",
    "split_Y = split(Y, num_splits)"
   ]
  },
  {
   "cell_type": "code",
   "execution_count": 183,
   "metadata": {},
   "outputs": [
    {
     "name": "stdout",
     "output_type": "stream",
     "text": [
      "outer loop\n",
      "middle loop\n",
      "middle loop\n",
      "inner loop\n",
      "inner loop\n",
      "middle loop\n",
      "inner loop\n",
      "inner loop\n",
      "inner loop\n",
      "outer loop\n",
      "middle loop\n",
      "inner loop\n",
      "inner loop\n",
      "inner loop\n",
      "middle loop\n",
      "middle loop\n",
      "inner loop\n",
      "inner loop\n",
      "inner loop\n",
      "outer loop\n",
      "middle loop\n",
      "inner loop\n",
      "inner loop\n",
      "inner loop\n",
      "middle loop\n",
      "inner loop\n",
      "inner loop\n",
      "inner loop\n",
      "middle loop\n"
     ]
    }
   ],
   "source": [
    "epochs = 20 # 200\n",
    "preds_overall = []\n",
    "X_test_unscaled_all = []\n",
    "\n",
    "for test_counter in range(num_splits):\n",
    "    print('outer loop')\n",
    "    X_test, Y_test = split_X[test_counter], split_Y[test_counter]\n",
    "    \n",
    "    best_val_index = -1\n",
    "    min_loss = 1\n",
    "    preds_best_val = []\n",
    "    \n",
    "    for val_counter in range(num_splits):\n",
    "        print('middle loop')\n",
    "        if val_counter != test_counter:\n",
    "            X_val, Y_val = split_X[val_counter], split_Y[val_counter]\n",
    "            \n",
    "            preds = []\n",
    "            preds_all = []\n",
    "            \n",
    "            num_loops = 3\n",
    "            \n",
    "            X_train = []\n",
    "            Y_train = []\n",
    "            for train_counter in range(num_splits):\n",
    "                if train_counter != test_counter and train_counter != val_counter:\n",
    "                    if len(X_train) == 0:\n",
    "                        X_train = split_X[train_counter]\n",
    "                        Y_train = split_Y[train_counter]\n",
    "                    else:\n",
    "                        X_train += split_X[train_counter]\n",
    "                        Y_train += split_Y[train_counter]\n",
    "                    \n",
    "\n",
    "            for curr_index in range(num_loops):\n",
    "                print('inner loop')\n",
    "    \n",
    "                model = Sequential()\n",
    "                initializer =tf.keras.initializers.glorot_normal()\n",
    "#                 model.add(Dense(256, input_dim=5, activation='relu', bias_initializer = initializer)) \n",
    "#                 model.add(Dropout(0.25))\n",
    "#                 model.add(Dense(256, activation='relu', bias_initializer = initializer))\n",
    "#                 model.add(Dropout(0.25))\n",
    "#                 model.add(Dense(256, activation='relu', bias_initializer = initializer))\n",
    "#                 model.add(Dropout(0.25))\n",
    "#                 model.add(Dense(1, activation='sigmoid', bias_initializer = initializer))\n",
    "\n",
    "                \n",
    "                model.add(Dense(64, input_dim=5, activation='relu', bias_initializer = initializer)) \n",
    "                model.add(Dense(64, activation='relu', bias_initializer = initializer))\n",
    "                model.add(Dense(64, activation='relu', bias_initializer = initializer))\n",
    "                model.add(Dense(1, activation='sigmoid', bias_initializer = initializer))\n",
    "    \n",
    "                optimizer = keras.optimizers.Adam(lr=1e-4)\n",
    "                model.compile(loss='binary_crossentropy', optimizer=optimizer, metrics=['accuracy'])\n",
    "                history = model.fit(X_train[:,1:],Y_train, epochs=epochs, batch_size=200, \n",
    "                                    validation_data=(X_val[:,1:], Y_val), verbose = 0) \n",
    "\n",
    "                preds_curr = model.predict(X_test[:,1:], batch_size=int(0.1*len(X_test)))\n",
    "\n",
    "                if history.history['val_loss'][epochs-1] < min_loss:\n",
    "                    best_val_index = val_counter\n",
    "                    min_loss = history.history['val_loss'][epochs-1]\n",
    "                    preds_best_val = preds_curr\n",
    "    \n",
    "    preds_overall.extend(preds_best_val)\n",
    "    X_test_unscaled_all.extend(myscalar.inverse_transform(X_test))\n",
    "\n",
    "        \n",
    "\n",
    "\n",
    "\n"
   ]
  },
  {
   "cell_type": "code",
   "execution_count": 184,
   "metadata": {},
   "outputs": [
    {
     "data": {
      "text/plain": [
       "'hi'"
      ]
     },
     "execution_count": 184,
     "metadata": {},
     "output_type": "execute_result"
    }
   ],
   "source": [
    "'hi'"
   ]
  },
  {
   "cell_type": "code",
   "execution_count": 185,
   "metadata": {},
   "outputs": [],
   "source": [
    "preds_overall = np.array(preds_overall)\n",
    "stars_passing_cut = []\n",
    "preds_sorted = preds_overall[np.argsort(preds_overall[:,0])]\n",
    "X_test_unscaled_all = np.array(X_test_unscaled_all)\n",
    "X_test_sorted = X_test_unscaled_all[np.argsort(preds_overall[:,0])]\n",
    "X_test_sorted = X_test_sorted[(X_test_sorted[:,0] > pointer1) * (X_test_sorted[:,0] < pointer2)]\n",
    "\n",
    "stars_passing_cut = X_test_sorted[len(X_test_sorted) - 100:]"
   ]
  },
  {
   "cell_type": "code",
   "execution_count": 186,
   "metadata": {},
   "outputs": [
    {
     "data": {
      "text/plain": [
       "array([[ -9.773452  ,  -1.8987719 ,  -7.1840653 ,   4.7012863 ,\n",
       "          0.6418381 ,  19.202312  ],\n",
       "       [ -8.768139  ,  -9.71293   , -10.771715  ,  -3.8758163 ,\n",
       "          0.8632221 ,  17.47594   ],\n",
       "       [ -9.954659  ,   2.493963  ,   3.9072936 ,   2.9509442 ,\n",
       "          0.88946533,  18.380423  ],\n",
       "       [ -9.943943  ,  -2.4880972 , -11.841191  ,   1.9970554 ,\n",
       "          0.8706188 ,  20.223438  ],\n",
       "       [ -8.848872  ,  -2.3696017 ,  -8.371723  ,   3.3277628 ,\n",
       "          0.66004944,  18.849108  ],\n",
       "       [ -8.02117   ,  -1.9622903 , -11.943249  ,   5.0091934 ,\n",
       "          0.83919144,  19.903296  ],\n",
       "       [ -9.173566  ,  -3.0429978 ,  10.265479  ,  10.865868  ,\n",
       "          0.63355064,  18.00756   ],\n",
       "       [ -8.059751  ,  -2.7188258 , -13.334815  ,  -1.0787599 ,\n",
       "          0.8339405 ,  19.397423  ],\n",
       "       [ -9.858935  ,  -1.9737256 ,  -8.820823  ,   4.2929797 ,\n",
       "          0.6592293 ,  18.08076   ],\n",
       "       [ -8.079211  ,  -1.5754238 ,  -8.709589  ,   6.41646   ,\n",
       "          0.6560745 ,  18.634512  ],\n",
       "       [ -9.070667  ,  -2.5804977 ,  -6.30652   ,   4.6531487 ,\n",
       "          0.65880585,  19.313295  ],\n",
       "       [ -8.187823  ,  -1.8484108 ,  -7.2028317 ,   4.5526614 ,\n",
       "          0.6348171 ,  20.142918  ],\n",
       "       [ -8.319719  ,  -1.4981148 ,  -7.4407606 ,   3.8540373 ,\n",
       "          0.6511612 ,  19.235874  ],\n",
       "       [ -8.382416  ,  -2.1571999 ,  -8.040955  ,  -7.432758  ,\n",
       "          0.90857506,  16.888361  ],\n",
       "       [ -9.817573  ,  -1.6584837 ,  -6.7167883 ,   4.897658  ,\n",
       "          0.64656067,  18.317766  ],\n",
       "       [ -9.31996   ,  -2.9910917 ,   5.9906545 ,   3.5451372 ,\n",
       "          0.6553726 ,  17.860338  ],\n",
       "       [ -8.664237  ,  -3.6193223 ,  -7.3165    ,   3.5298598 ,\n",
       "          0.6713867 ,  19.859295  ],\n",
       "       [ -9.836669  ,  -3.9085455 , -10.097392  ,  -2.2105    ,\n",
       "          0.7370529 ,  20.832691  ],\n",
       "       [ -8.359327  ,  -2.4304104 ,  -7.6616583 ,   3.7932422 ,\n",
       "          0.6525669 ,  19.790545  ],\n",
       "       [ -8.263339  ,  -1.778198  ,   9.277775  ,   5.8815727 ,\n",
       "          0.6722908 ,  18.116196  ],\n",
       "       [ -8.206232  ,  -2.0365722 ,   8.221878  ,   9.5601635 ,\n",
       "          0.70858   ,  18.533829  ],\n",
       "       [ -9.665649  ,  -2.581715  ,  -6.7612305 ,   4.444285  ,\n",
       "          0.66788673,  19.25948   ],\n",
       "       [ -8.265614  ,  -2.8232636 ,  -7.633593  ,   4.000991  ,\n",
       "          0.6616821 ,  19.661932  ],\n",
       "       [ -9.907308  ,  -0.8514619 ,  -1.675225  ,  -6.4453564 ,\n",
       "          0.8041935 ,  15.800978  ],\n",
       "       [ -9.136924  ,  -1.7180132 , -11.85081   ,   4.4765005 ,\n",
       "          0.82533646,  19.181742  ],\n",
       "       [ -8.82077   ,  -0.2633619 , -11.429792  ,  -2.2106526 ,\n",
       "          0.9017601 ,  19.575798  ],\n",
       "       [ -8.441325  ,  -2.5213814 ,  -6.0721965 ,   3.47547   ,\n",
       "          0.69379234,  18.401007  ],\n",
       "       [ -9.16505   ,  -3.0049565 , -12.048171  ,   3.8479402 ,\n",
       "          0.7260971 ,  19.482649  ],\n",
       "       [ -8.193115  ,  -0.58767843,   9.625125  ,  11.216728  ,\n",
       "          0.68349457,  17.811749  ],\n",
       "       [ -9.954661  ,   0.15263344,  -7.9769597 ,   3.490624  ,\n",
       "          0.95147324,  16.451265  ],\n",
       "       [ -9.1186075 ,  -2.4472244 , -13.687319  ,   3.0272489 ,\n",
       "          0.7384777 ,  19.591663  ],\n",
       "       [ -9.043093  ,  -2.6774075 , -11.506294  ,   4.7784486 ,\n",
       "          0.8040409 ,  19.43382   ],\n",
       "       [ -9.501042  ,  -1.6653742 ,   8.204476  ,   7.084276  ,\n",
       "          0.75131226,  18.66563   ],\n",
       "       [ -8.068461  ,  -2.3275127 ,  -8.249011  ,   3.7324784 ,\n",
       "          0.6593094 ,  19.95107   ],\n",
       "       [ -8.577036  ,  -4.7121634 ,   3.5208185 ,   3.315557  ,\n",
       "          0.78014946,  17.761486  ],\n",
       "       [ -8.992408  ,   2.4577525 ,  -8.476534  ,   7.5833488 ,\n",
       "          0.85766315,  15.651002  ],\n",
       "       [ -8.125144  ,  -2.4128115 ,  -5.4598384 ,   2.8626094 ,\n",
       "          0.8307991 ,  19.602882  ],\n",
       "       [ -9.742032  ,  -2.3647726 ,  -7.317696  ,   3.64217   ,\n",
       "          0.8523083 ,  20.38037   ],\n",
       "       [ -8.118052  ,   0.64382005,  -6.8471346 ,   3.980532  ,\n",
       "          0.64003754,  18.69191   ],\n",
       "       [ -8.497098  ,  -3.094713  ,  -7.438967  ,   3.3623762 ,\n",
       "          0.6783562 ,  19.875538  ],\n",
       "       [ -9.672535  ,  -1.172164  , -12.329028  ,   3.791024  ,\n",
       "          0.700346  ,  18.439219  ],\n",
       "       [ -9.117894  ,   3.5316536 ,  -7.5794754 ,   1.7412434 ,\n",
       "          0.99200916,  16.485403  ],\n",
       "       [ -9.410801  ,  -2.8114808 ,  -8.36057   ,   3.5667088 ,\n",
       "          0.69782066,  19.40196   ],\n",
       "       [ -9.9683275 ,  -2.8800242 , -11.445237  ,   4.6551557 ,\n",
       "          0.73192215,  20.222704  ],\n",
       "       [ -8.356664  ,  -1.7816902 , -11.66088   ,   2.2933424 ,\n",
       "          0.8057709 ,  19.284172  ],\n",
       "       [ -8.112182  ,  -1.2711571 ,  -8.7535305 ,   5.334681  ,\n",
       "          0.6949444 ,  17.87765   ],\n",
       "       [ -8.035036  ,  -2.7054288 ,  -6.645207  ,   3.7394319 ,\n",
       "          0.73521614,  19.42174   ],\n",
       "       [ -8.726984  ,  -1.8549259 ,  -8.947556  ,   3.6415105 ,\n",
       "          0.8078022 ,  19.56954   ],\n",
       "       [ -8.994266  ,  -5.035429  ,  -8.594362  ,   3.2459395 ,\n",
       "          0.79764366,  17.566202  ],\n",
       "       [ -8.720894  ,  -2.9887593 ,  -9.108548  ,   3.9136124 ,\n",
       "          0.78022957,  20.074171  ],\n",
       "       [ -8.553494  ,  -2.048963  ,  -7.1758494 ,   3.2490168 ,\n",
       "          0.672596  ,  19.848347  ],\n",
       "       [ -8.939001  ,  -3.5110369 ,  -6.419987  ,   3.6407917 ,\n",
       "          0.6978035 ,  20.100655  ],\n",
       "       [ -8.851202  ,  -2.378388  ,  -8.4129    ,   4.206189  ,\n",
       "          0.6757679 ,  20.306623  ],\n",
       "       [ -8.325878  ,  -1.9682946 ,  -5.9964924 ,   3.8834004 ,\n",
       "          0.70672226,  18.56257   ],\n",
       "       [ -8.576899  ,  -3.2828712 ,  -5.7908573 ,   3.7471323 ,\n",
       "          0.769537  ,  20.034864  ],\n",
       "       [ -8.954488  ,  -1.7542042 ,  -8.142026  ,   3.7191443 ,\n",
       "          0.6882248 ,  18.806627  ],\n",
       "       [ -9.103831  ,  -2.9276054 ,  -8.39795   ,   4.0647364 ,\n",
       "          0.7255745 ,  20.255852  ],\n",
       "       [ -9.897665  ,  -2.9757323 ,   3.9529855 ,   6.591315  ,\n",
       "          0.7662411 ,  18.082785  ],\n",
       "       [ -8.43259   ,  -1.7265683 ,  -5.852506  ,   3.7940333 ,\n",
       "          0.8256569 ,  20.00154   ],\n",
       "       [ -8.911541  ,  -2.442539  ,  -8.378444  ,   3.661519  ,\n",
       "          0.82440186,  20.412907  ],\n",
       "       [ -9.438562  ,  -2.296997  ,  -8.031637  ,   3.5225472 ,\n",
       "          0.69525146,  20.28099   ],\n",
       "       [ -8.662574  ,  -2.454739  ,  -7.896404  ,   3.3751447 ,\n",
       "          0.77788544,  19.412865  ],\n",
       "       [ -9.346644  ,  -1.5798286 ,  -9.186555  ,   3.9775603 ,\n",
       "          0.8269882 ,  20.273232  ],\n",
       "       [ -9.521424  ,  -3.0944326 ,  -7.5469494 ,   3.265829  ,\n",
       "          0.7602234 ,  20.012611  ],\n",
       "       [ -9.4417305 ,  -1.6969436 ,  -8.63148   ,   3.7524009 ,\n",
       "          0.6805477 ,  20.333506  ],\n",
       "       [ -8.642627  ,   0.22792412,   5.660822  ,   5.187755  ,\n",
       "          0.6519642 ,  17.522715  ],\n",
       "       [ -9.828289  ,   4.178328  ,   2.7171624 ,  -6.9627423 ,\n",
       "          0.7808361 ,  15.531784  ],\n",
       "       [ -8.740671  ,  -2.8949254 ,  -7.0265355 ,   3.6283193 ,\n",
       "          0.7967186 ,  20.63915   ],\n",
       "       [ -9.825363  ,  -2.3778007 ,  -8.496242  ,   3.57364   ,\n",
       "          0.70101166,  19.579231  ],\n",
       "       [ -8.377298  ,  -1.3845187 , -13.721918  ,   2.4596956 ,\n",
       "          0.74333763,  19.964905  ],\n",
       "       [ -8.122814  ,  -2.0086465 ,  -7.94975   ,   3.8957603 ,\n",
       "          0.8057575 ,  19.962263  ],\n",
       "       [ -9.947739  ,   2.926123  ,   7.351088  ,   6.7744336 ,\n",
       "          0.82528114,  20.854813  ],\n",
       "       [ -8.643673  ,   0.5996864 ,   6.9425435 ,   4.448418  ,\n",
       "          0.85449505,  15.151177  ],\n",
       "       [ -8.92524   ,  -3.1038647 ,  -5.722278  ,   2.0290687 ,\n",
       "          0.8189602 ,  20.32585   ],\n",
       "       [ -9.657341  ,   0.5021386 , -10.379755  ,   4.820616  ,\n",
       "          0.9216337 ,  16.02209   ],\n",
       "       [ -8.84854   ,   3.8452594 , -13.978289  ,  -5.439     ,\n",
       "          0.96078396,  16.55087   ],\n",
       "       [ -8.183441  ,  -1.9514552 ,  -6.8909564 ,   2.5628126 ,\n",
       "          0.8192253 ,  19.74405   ],\n",
       "       [ -8.886069  ,  -1.9383162 ,  -6.9821854 ,   4.593781  ,\n",
       "          0.7076378 ,  19.637926  ],\n",
       "       [ -8.946175  ,  -2.6288705 ,  -7.358326  ,   2.3885026 ,\n",
       "          0.7305374 ,  20.245707  ],\n",
       "       [ -8.578325  ,  -2.160283  ,  -7.341234  ,   3.5295024 ,\n",
       "          0.7505131 ,  19.57068   ],\n",
       "       [ -9.493016  ,  -2.0494878 ,   5.5663257 ,   6.4882736 ,\n",
       "          0.77506924,  15.571237  ],\n",
       "       [ -9.026954  ,  -1.7342688 ,  -4.9778833 ,   2.9740593 ,\n",
       "          0.7099571 ,  19.099102  ],\n",
       "       [ -8.421628  ,  -1.1093094 ,  -8.325411  ,   5.318082  ,\n",
       "          0.73854065,  19.985764  ],\n",
       "       [ -8.059599  ,  -1.1151873 , -10.181413  ,   5.1748075 ,\n",
       "          0.77145195,  17.720581  ],\n",
       "       [ -8.353299  ,  -0.5421047 , -12.9442625 ,   6.3810086 ,\n",
       "          0.90212727,  16.13797   ],\n",
       "       [ -8.32246   ,  -1.3083861 ,  -7.532318  ,   4.528171  ,\n",
       "          0.7104454 ,  19.14703   ],\n",
       "       [ -8.179747  ,  -2.1288764 ,  -6.7514133 ,   2.1322694 ,\n",
       "          0.7370434 ,  19.255306  ],\n",
       "       [ -9.077772  ,  -1.8115779 ,  -5.4656157 ,   3.4347446 ,\n",
       "          0.70524406,  19.440134  ],\n",
       "       [ -9.7332115 ,   1.4783304 , -12.764988  ,  -5.012687  ,\n",
       "          0.92753506,  16.386843  ],\n",
       "       [ -9.135457  ,  -2.5840073 ,  -4.7758546 ,   2.3596227 ,\n",
       "          0.80392647,  20.212296  ],\n",
       "       [ -9.408161  ,  -1.5145075 ,  -6.7091637 ,   4.3518767 ,\n",
       "          0.73975945,  20.516178  ],\n",
       "       [ -9.210582  ,  -1.4760106 ,  -6.443152  ,   3.3488126 ,\n",
       "          0.8018608 ,  20.289526  ],\n",
       "       [ -8.931461  ,  -1.0868708 ,  -7.7367105 ,   2.472787  ,\n",
       "          0.7869091 ,  19.59587   ],\n",
       "       [ -9.655227  ,  -6.2466564 ,  -2.5786376 ,  -7.2906194 ,\n",
       "          0.80256176,  14.172354  ],\n",
       "       [ -8.990625  ,   4.805412  , -14.025996  ,  -1.7639387 ,\n",
       "          0.72857094,  16.973883  ],\n",
       "       [ -9.428736  ,   7.989201  ,   2.9424589 ,  -7.8155227 ,\n",
       "          0.74432373,  14.649417  ],\n",
       "       [ -9.099219  ,  -2.7368538 ,   4.2948475 ,   5.7701216 ,\n",
       "          0.82218647,  14.332579  ],\n",
       "       [ -8.469846  ,  -3.2977881 ,  -9.828941  ,  -1.9065311 ,\n",
       "          0.9355755 ,  14.574436  ],\n",
       "       [ -9.28378   ,  10.487834  ,   5.006582  , -11.073934  ,\n",
       "          0.7934036 ,  15.329566  ],\n",
       "       [ -8.802178  , -14.520801  , -12.5816965 ,   5.654747  ,\n",
       "          0.8993721 ,  13.40487   ]], dtype=float32)"
      ]
     },
     "execution_count": 186,
     "metadata": {},
     "output_type": "execute_result"
    }
   ],
   "source": [
    "stars_passing_cut"
   ]
  },
  {
   "cell_type": "code",
   "execution_count": 188,
   "metadata": {},
   "outputs": [
    {
     "data": {
      "image/png": "[encoded data removed]",
      "text/plain": [
       "<Figure size 432x288 with 1 Axes>"
      ]
     },
     "metadata": {
      "needs_background": "light"
     },
     "output_type": "display_data"
    }
   ],
   "source": [
    "plt.scatter(stars_passing_cut[:,3],stars_passing_cut[:,2], marker = '.')\n",
    "plt.scatter(gaiadata3[:,3], gaiadata3[:,2], marker = '.', alpha = 0.2)\n",
    "\n",
    "plt.show()"
   ]
  },
  {
   "cell_type": "code",
   "execution_count": null,
   "metadata": {},
   "outputs": [],
   "source": [
    "'hi'"
   ]
  },
  {
   "cell_type": "code",
   "execution_count": null,
   "metadata": {},
   "outputs": [],
   "source": []
  },
  {
   "cell_type": "code",
   "execution_count": null,
   "metadata": {},
   "outputs": [],
   "source": []
  },
  {
   "cell_type": "code",
   "execution_count": null,
   "metadata": {},
   "outputs": [],
   "source": []
  },
  {
   "cell_type": "code",
   "execution_count": null,
   "metadata": {},
   "outputs": [],
   "source": []
  },
  {
   "cell_type": "code",
   "execution_count": 189,
   "metadata": {},
   "outputs": [],
   "source": [
    "frac_background = make_fractional_background(gaiadata2, 0.01)\n",
    "\n",
    "\n",
    "SR = frac_background[(frac_background[:,0] > -10)*(frac_background[:,0] < -8)]\n",
    "SB = frac_background[(frac_background[:,0] > -11)*(frac_background[:,0] < -10)+(frac_background[:,0] > -8)*(frac_background[:,0] < -7)]\n",
    "pointer1 = -10\n",
    "pointer2 = -8\n",
    "stream = gaiadata3\n",
    "\n",
    "X = np.concatenate([SR,SB])\n",
    "Y = np.concatenate([np.ones(len(SR)),np.zeros(len(SB))])\n",
    "\n",
    "myscalar = preprocessing.StandardScaler()\n",
    "myscalar.fit(X)\n",
    "X_scaled = myscalar.transform(X)\n",
    "\n",
    "X_scaled = X_scaled[Y<2]\n",
    "Y = Y[Y<2]"
   ]
  },
  {
   "cell_type": "code",
   "execution_count": 190,
   "metadata": {},
   "outputs": [],
   "source": [
    "#split data into 5 sets\n",
    "num_splits = 5\n",
    "split_X = split(X_scaled, num_splits)\n",
    "split_Y = split(Y, num_splits)"
   ]
  },
  {
   "cell_type": "code",
   "execution_count": null,
   "metadata": {},
   "outputs": [],
   "source": [
    "epochs = 200 \n",
    "preds_overall = []\n",
    "X_test_unscaled_all = []\n",
    "\n",
    "for test_counter in range(num_splits):\n",
    "    print('outer loop')\n",
    "    X_test, Y_test = split_X[test_counter], split_Y[test_counter]\n",
    "    \n",
    "    best_val_index = -1\n",
    "    min_loss = 1\n",
    "    preds_best_val = []\n",
    "    \n",
    "    for val_counter in range(num_splits):\n",
    "        print('middle loop')\n",
    "        if val_counter != test_counter:\n",
    "            X_val, Y_val = split_X[val_counter], split_Y[val_counter]\n",
    "            \n",
    "            preds = []\n",
    "            preds_all = []\n",
    "            \n",
    "            num_loops = 3\n",
    "            \n",
    "            X_train = []\n",
    "            Y_train = []\n",
    "            for train_counter in range(num_splits):\n",
    "                if train_counter != test_counter and train_counter != val_counter:\n",
    "                    if len(X_train) == 0:\n",
    "                        X_train = split_X[train_counter]\n",
    "                        Y_train = split_Y[train_counter]\n",
    "                    else:\n",
    "                        X_train += split_X[train_counter]\n",
    "                        Y_train += split_Y[train_counter]\n",
    "                    \n",
    "\n",
    "            for curr_index in range(num_loops):\n",
    "                print('inner loop')\n",
    "    \n",
    "                model = Sequential()\n",
    "                initializer =tf.keras.initializers.glorot_normal()\n",
    "#                 model.add(Dense(256, input_dim=5, activation='relu', bias_initializer = initializer)) \n",
    "#                 model.add(Dropout(0.25))\n",
    "#                 model.add(Dense(256, activation='relu', bias_initializer = initializer))\n",
    "#                 model.add(Dropout(0.25))\n",
    "#                 model.add(Dense(256, activation='relu', bias_initializer = initializer))\n",
    "#                 model.add(Dropout(0.25))\n",
    "#                 model.add(Dense(1, activation='sigmoid', bias_initializer = initializer))\n",
    "\n",
    "                \n",
    "                model.add(Dense(64, input_dim=5, activation='relu', bias_initializer = initializer)) \n",
    "                model.add(Dense(64, activation='relu', bias_initializer = initializer))\n",
    "                model.add(Dense(64, activation='relu', bias_initializer = initializer))\n",
    "                model.add(Dense(1, activation='sigmoid', bias_initializer = initializer))\n",
    "    \n",
    "                optimizer = keras.optimizers.Adam(lr=1e-4)\n",
    "                model.compile(loss='binary_crossentropy', optimizer=optimizer, metrics=['accuracy'])\n",
    "                history = model.fit(X_train[:,1:],Y_train, epochs=epochs, batch_size=200, \n",
    "                                    validation_data=(X_val[:,1:], Y_val), verbose = 0) \n",
    "\n",
    "                preds_curr = model.predict(X_test[:,1:], batch_size=int(0.1*len(X_test)))\n",
    "\n",
    "                if history.history['val_loss'][epochs-1] < min_loss:\n",
    "                    best_val_index = val_counter\n",
    "                    min_loss = history.history['val_loss'][epochs-1]\n",
    "                    preds_best_val = preds_curr\n",
    "    \n",
    "    preds_overall.extend(preds_best_val)\n",
    "    X_test_unscaled_all.extend(myscalar.inverse_transform(X_test))\n",
    "\n",
    "        \n",
    "\n",
    "\n",
    "\n",
    "\n"
   ]
  }
 ],
 "metadata": {
  "kernelspec": {
   "display_name": "Python 3",
   "language": "python",
   "name": "python3"
  },
  "language_info": {
   "codemirror_mode": {
    "name": "ipython",
    "version": 3
   },
   "file_extension": ".py",
   "mimetype": "text/x-python",
   "name": "python",
   "nbconvert_exporter": "python",
   "pygments_lexer": "ipython3",
   "version": "3.6.5"
  }
 },
 "nbformat": 4,
 "nbformat_minor": 4
}
