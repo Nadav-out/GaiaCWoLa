{
 "cells": [
  {
   "cell_type": "code",
   "execution_count": 47,
   "id": "2bdf7194-e49f-41c3-b2e6-01ffb50bce0f",
   "metadata": {
    "execution": {
     "iopub.execute_input": "2023-05-23T16:25:08.710688Z",
     "iopub.status.busy": "2023-05-23T16:25:08.710397Z",
     "iopub.status.idle": "2023-05-23T16:25:09.473711Z",
     "shell.execute_reply": "2023-05-23T16:25:09.473245Z",
     "shell.execute_reply.started": "2023-05-23T16:25:08.710667Z"
    },
    "tags": []
   },
   "outputs": [
    {
     "name": "stdout",
     "output_type": "stream",
     "text": [
      "The autoreload extension is already loaded. To reload it, use:\n",
      "  %reload_ext autoreload\n"
     ]
    }
   ],
   "source": [
    "%load_ext autoreload\n",
    "%autoreload 2\n",
    "import numpy as np\n",
    "import pickle\n",
    "import pandas as pd\n",
    "import matplotlib.pyplot as plt"
   ]
  },
  {
   "cell_type": "markdown",
   "id": "813aaac3-0eba-44d2-b609-533867dc1b33",
   "metadata": {},
   "source": [
    "I should just combine all the ROIs and protoclusters together at the protostream level. Each protostream corresponds to a single patch. Remove the duplicates, then repeat my search.\n",
    "\n",
    "Goals: \n",
    "- Repeat search on each patch \n",
    "- Optimize SR definitions\n",
    "- Get CWoLa NN scores\n",
    "- Scan in both coordinates!"
   ]
  },
  {
   "cell_type": "code",
   "execution_count": 14,
   "id": "9307ee5d-70ff-4432-9b15-711bd9405ee9",
   "metadata": {
    "execution": {
     "iopub.execute_input": "2023-05-23T16:11:58.031279Z",
     "iopub.status.busy": "2023-05-23T16:11:58.030553Z",
     "iopub.status.idle": "2023-05-23T16:11:58.313196Z",
     "shell.execute_reply": "2023-05-23T16:11:58.312762Z",
     "shell.execute_reply.started": "2023-05-23T16:11:58.031244Z"
    },
    "tags": []
   },
   "outputs": [],
   "source": [
    "file = np.load(\"streams_lwr5_lwtheta3_pcsig8.pkl\", allow_pickle=True)"
   ]
  },
  {
   "cell_type": "markdown",
   "id": "4d7a34c1-d535-4583-bfe6-4106fcd8572f",
   "metadata": {},
   "source": [
    "This is a file containing 263 stream candidates. "
   ]
  },
  {
   "cell_type": "code",
   "execution_count": null,
   "id": "06625d4a-491e-4ef8-a03b-fadb75db3360",
   "metadata": {},
   "outputs": [],
   "source": [
    "dir(file[0])"
   ]
  },
  {
   "cell_type": "code",
   "execution_count": 21,
   "id": "662fbcaa-01cd-45db-9225-85664d0448e9",
   "metadata": {
    "execution": {
     "iopub.execute_input": "2023-05-23T16:14:49.958113Z",
     "iopub.status.busy": "2023-05-23T16:14:49.957879Z",
     "iopub.status.idle": "2023-05-23T16:14:49.982316Z",
     "shell.execute_reply": "2023-05-23T16:14:49.981663Z",
     "shell.execute_reply.started": "2023-05-23T16:14:49.958096Z"
    }
   },
   "outputs": [
    {
     "data": {
      "text/plain": [
       "263"
      ]
     },
     "execution_count": 21,
     "metadata": {},
     "output_type": "execute_result"
    }
   ],
   "source": [
    "len(file) # number of stream candidates"
   ]
  },
  {
   "cell_type": "markdown",
   "id": "3f91b355-41d4-462d-9d34-68cb3210fb61",
   "metadata": {},
   "source": [
    "There are ~1 protostreams per patch, and significance is the significance of each protostream. Should be sorted by significance.\n",
    "\n",
    "First 6 are the known streams: GD-1 etc. They also happen to be the most significance. Out of the top 20, ~5 are Sagittarius. The rest are potentially new streams!\n",
    "\n",
    "Each protoSTREAM is made up of protoCLUSTERS. `pclist` is the list of protoclusters. They're not independent of each other. `line_sigma` is the most significant protocluster, which is what we call the protostream significance. (Wouldn't be correct to combine these in quadrature, because of their lack of independence)"
   ]
  },
  {
   "cell_type": "code",
   "execution_count": 27,
   "id": "c08e2926-1444-4b01-ae4b-2d3d065f4a34",
   "metadata": {
    "execution": {
     "iopub.execute_input": "2023-05-23T16:17:19.538444Z",
     "iopub.status.busy": "2023-05-23T16:17:19.538122Z",
     "iopub.status.idle": "2023-05-23T16:17:19.569706Z",
     "shell.execute_reply": "2023-05-23T16:17:19.569169Z",
     "shell.execute_reply.started": "2023-05-23T16:17:19.538418Z"
    },
    "tags": []
   },
   "outputs": [
    {
     "data": {
      "text/plain": [
       "array([<protoclustering.Protostream object at 0x7feed3a92af0>,\n",
       "       <protoclustering.Protostream object at 0x7feed394e4c0>,\n",
       "       <protoclustering.Protostream object at 0x7feed3722190>,\n",
       "       <protoclustering.Protostream object at 0x7feed3730af0>,\n",
       "       <protoclustering.Protostream object at 0x7feed38ed8e0>,\n",
       "       <protoclustering.Protostream object at 0x7feed38b4a60>,\n",
       "       <protoclustering.Protostream object at 0x7feed382a5e0>,\n",
       "       <protoclustering.Protostream object at 0x7feed37a97f0>,\n",
       "       <protoclustering.Protostream object at 0x7feed36ed850>,\n",
       "       <protoclustering.Protostream object at 0x7feed367cee0>,\n",
       "       <protoclustering.Protostream object at 0x7feed3604580>,\n",
       "       <protoclustering.Protostream object at 0x7feed3587a30>,\n",
       "       <protoclustering.Protostream object at 0x7feed3509460>,\n",
       "       <protoclustering.Protostream object at 0x7feed3419190>,\n",
       "       <protoclustering.Protostream object at 0x7feed33d8a90>,\n",
       "       <protoclustering.Protostream object at 0x7feed33b2310>],\n",
       "      dtype=object)"
      ]
     },
     "execution_count": 27,
     "metadata": {},
     "output_type": "execute_result"
    }
   ],
   "source": [
    "file[0].protostreams \n",
    "# patches consisting of protostreams that combine to make the overall stream candidate"
   ]
  },
  {
   "cell_type": "code",
   "execution_count": 29,
   "id": "cc7cffb6-5b91-4ea9-83bf-58151e276422",
   "metadata": {
    "execution": {
     "iopub.execute_input": "2023-05-23T16:17:53.949973Z",
     "iopub.status.busy": "2023-05-23T16:17:53.949635Z",
     "iopub.status.idle": "2023-05-23T16:17:53.975865Z",
     "shell.execute_reply": "2023-05-23T16:17:53.975408Z",
     "shell.execute_reply.started": "2023-05-23T16:17:53.949948Z"
    },
    "tags": []
   },
   "outputs": [
    {
     "data": {
      "text/plain": [
       "['__class__',\n",
       " '__delattr__',\n",
       " '__dict__',\n",
       " '__dir__',\n",
       " '__doc__',\n",
       " '__eq__',\n",
       " '__format__',\n",
       " '__ge__',\n",
       " '__getattribute__',\n",
       " '__gt__',\n",
       " '__hash__',\n",
       " '__init__',\n",
       " '__init_subclass__',\n",
       " '__le__',\n",
       " '__lt__',\n",
       " '__module__',\n",
       " '__ne__',\n",
       " '__new__',\n",
       " '__reduce__',\n",
       " '__reduce_ex__',\n",
       " '__repr__',\n",
       " '__setattr__',\n",
       " '__sizeof__',\n",
       " '__str__',\n",
       " '__subclasshook__',\n",
       " '__weakref__',\n",
       " 'dec',\n",
       " 'line_sigma',\n",
       " 'pclist',\n",
       " 'ra']"
      ]
     },
     "execution_count": 29,
     "metadata": {},
     "output_type": "execute_result"
    }
   ],
   "source": [
    "dir(file[0].protostreams[0])"
   ]
  },
  {
   "cell_type": "code",
   "execution_count": 31,
   "id": "2f57f822-0693-4096-a1fa-208b458ed1fd",
   "metadata": {
    "execution": {
     "iopub.execute_input": "2023-05-23T16:19:51.935723Z",
     "iopub.status.busy": "2023-05-23T16:19:51.934897Z",
     "iopub.status.idle": "2023-05-23T16:19:51.967788Z",
     "shell.execute_reply": "2023-05-23T16:19:51.967051Z",
     "shell.execute_reply.started": "2023-05-23T16:19:51.935696Z"
    },
    "tags": []
   },
   "outputs": [
    {
     "data": {
      "text/plain": [
       "[<protoclustering.ProtoclusterV2 at 0x7feed3a927f0>,\n",
       " <protoclustering.ProtoclusterV2 at 0x7feed3972310>,\n",
       " <protoclustering.ProtoclusterV2 at 0x7feed393a820>,\n",
       " <protoclustering.ProtoclusterV2 at 0x7feed3947a60>,\n",
       " <protoclustering.ProtoclusterV2 at 0x7feed39496a0>,\n",
       " <protoclustering.ProtoclusterV2 at 0x7feed394abe0>]"
      ]
     },
     "execution_count": 31,
     "metadata": {},
     "output_type": "execute_result"
    }
   ],
   "source": [
    "file[0].protostreams[0].pclist"
   ]
  },
  {
   "cell_type": "code",
   "execution_count": 32,
   "id": "030c40b2-56c0-4720-80ba-9c0bddba32f9",
   "metadata": {
    "execution": {
     "iopub.execute_input": "2023-05-23T16:19:58.228814Z",
     "iopub.status.busy": "2023-05-23T16:19:58.227942Z",
     "iopub.status.idle": "2023-05-23T16:19:58.262476Z",
     "shell.execute_reply": "2023-05-23T16:19:58.261728Z",
     "shell.execute_reply.started": "2023-05-23T16:19:58.228787Z"
    }
   },
   "outputs": [
    {
     "data": {
      "text/plain": [
       "['ROIlist',\n",
       " '__class__',\n",
       " '__delattr__',\n",
       " '__dict__',\n",
       " '__dir__',\n",
       " '__doc__',\n",
       " '__eq__',\n",
       " '__format__',\n",
       " '__ge__',\n",
       " '__getattribute__',\n",
       " '__gt__',\n",
       " '__hash__',\n",
       " '__init__',\n",
       " '__init_subclass__',\n",
       " '__le__',\n",
       " '__lt__',\n",
       " '__module__',\n",
       " '__ne__',\n",
       " '__new__',\n",
       " '__reduce__',\n",
       " '__reduce_ex__',\n",
       " '__repr__',\n",
       " '__setattr__',\n",
       " '__sizeof__',\n",
       " '__str__',\n",
       " '__subclasshook__',\n",
       " '__weakref__',\n",
       " 'dec',\n",
       " 'highRstars',\n",
       " 'line_ind',\n",
       " 'line_sigma',\n",
       " 'line_stars',\n",
       " 'ra']"
      ]
     },
     "execution_count": 32,
     "metadata": {},
     "output_type": "execute_result"
    }
   ],
   "source": [
    "dir(file[0].protostreams[0].pclist[0])"
   ]
  },
  {
   "cell_type": "markdown",
   "id": "93db38c1-40d5-498b-85e9-143de49bcce4",
   "metadata": {
    "execution": {
     "iopub.execute_input": "2023-05-23T16:21:03.915756Z",
     "iopub.status.busy": "2023-05-23T16:21:03.915498Z",
     "iopub.status.idle": "2023-05-23T16:21:04.093951Z",
     "shell.execute_reply": "2023-05-23T16:21:04.092839Z",
     "shell.execute_reply.started": "2023-05-23T16:21:03.915739Z"
    }
   },
   "source": [
    "Each protocluster is made up of ROIs (both coordinates in proper motion space). High-R stars is the concatenation of the top 100 stars from each ROI. Each ROI comes from an independent run of ANODE. They don't delete the duplicates! \n",
    "\n",
    "ROIs all come from the same patch."
   ]
  },
  {
   "cell_type": "code",
   "execution_count": 36,
   "id": "a4a9f795-1172-43e5-b869-234909fb27fe",
   "metadata": {
    "execution": {
     "iopub.execute_input": "2023-05-23T16:21:24.950985Z",
     "iopub.status.busy": "2023-05-23T16:21:24.949910Z",
     "iopub.status.idle": "2023-05-23T16:21:24.999233Z",
     "shell.execute_reply": "2023-05-23T16:21:24.998241Z",
     "shell.execute_reply.started": "2023-05-23T16:21:24.950933Z"
    },
    "tags": []
   },
   "outputs": [
    {
     "data": {
      "text/plain": [
       "(400, 12)"
      ]
     },
     "execution_count": 36,
     "metadata": {},
     "output_type": "execute_result"
    }
   ],
   "source": [
    "file[0].protostreams[0].pclist[0].highRstars.shape # n_ROIs*100"
   ]
  },
  {
   "cell_type": "code",
   "execution_count": 53,
   "id": "fd9f8ca8-ebc3-45be-b470-c1ca33b3c0d6",
   "metadata": {
    "execution": {
     "iopub.execute_input": "2023-05-23T16:26:05.789408Z",
     "iopub.status.busy": "2023-05-23T16:26:05.789004Z",
     "iopub.status.idle": "2023-05-23T16:26:05.839543Z",
     "shell.execute_reply": "2023-05-23T16:26:05.838530Z",
     "shell.execute_reply.started": "2023-05-23T16:26:05.789375Z"
    },
    "tags": []
   },
   "outputs": [
    {
     "data": {
      "text/plain": [
       "['Rvals',\n",
       " '__class__',\n",
       " '__delattr__',\n",
       " '__dict__',\n",
       " '__dir__',\n",
       " '__doc__',\n",
       " '__eq__',\n",
       " '__format__',\n",
       " '__ge__',\n",
       " '__getattribute__',\n",
       " '__gt__',\n",
       " '__hash__',\n",
       " '__init__',\n",
       " '__init_subclass__',\n",
       " '__le__',\n",
       " '__lt__',\n",
       " '__module__',\n",
       " '__ne__',\n",
       " '__new__',\n",
       " '__reduce__',\n",
       " '__reduce_ex__',\n",
       " '__repr__',\n",
       " '__setattr__',\n",
       " '__sizeof__',\n",
       " '__str__',\n",
       " '__subclasshook__',\n",
       " '__weakref__',\n",
       " 'b',\n",
       " 'counts',\n",
       " 'dataset',\n",
       " 'dec',\n",
       " 'fitresults',\n",
       " 'gcresults',\n",
       " 'gd1stars_mask',\n",
       " 'highRstars',\n",
       " 'knownstreams',\n",
       " 'l',\n",
       " 'line_r',\n",
       " 'line_sigma',\n",
       " 'line_theta',\n",
       " 'linestars',\n",
       " 'pmlat',\n",
       " 'pmlon',\n",
       " 'pmuse',\n",
       " 'ra',\n",
       " 'sourceids']"
      ]
     },
     "execution_count": 53,
     "metadata": {},
     "output_type": "execute_result"
    }
   ],
   "source": [
    "dir(file[0].protostreams[0].pclist[0].ROIlist[0])"
   ]
  },
  {
   "cell_type": "code",
   "execution_count": 68,
   "id": "be16bb39-93c5-4358-926f-0f124a178c3b",
   "metadata": {
    "execution": {
     "iopub.execute_input": "2023-05-23T16:35:10.844366Z",
     "iopub.status.busy": "2023-05-23T16:35:10.843848Z",
     "iopub.status.idle": "2023-05-23T16:35:10.870028Z",
     "shell.execute_reply": "2023-05-23T16:35:10.869577Z",
     "shell.execute_reply.started": "2023-05-23T16:35:10.844345Z"
    },
    "tags": []
   },
   "outputs": [
    {
     "data": {
      "text/plain": [
       "{'GD1': array([[ 98.14391791,  55.16165394, 218.72588186,  56.70245259,\n",
       "          -7.20064246,  -1.99122013],\n",
       "        [ 98.99359431,  54.37169044, 219.04668903,  57.61570571,\n",
       "         -10.4229537 ,  -1.67370941],\n",
       "        [ 99.17994527,  55.70858903, 217.26401385,  56.6862524 ,\n",
       "          -8.59647195,  -2.27812067],\n",
       "        ...,\n",
       "        [120.24743139,  59.18345883, 195.44671589,  57.89081912,\n",
       "          -7.49226582,  -4.86959355],\n",
       "        [120.36453267,  59.05505631, 195.35236735,  58.02346082,\n",
       "          -7.71972082,  -5.03910482],\n",
       "        [120.48531398,  59.81177971, 195.13497252,  57.27321342,\n",
       "          -9.58177464,  -5.4866737 ]])}"
      ]
     },
     "execution_count": 68,
     "metadata": {},
     "output_type": "execute_result"
    }
   ],
   "source": [
    "file[0].protostreams[0].pclist[0].ROIlist[0].knownstreams"
   ]
  },
  {
   "cell_type": "code",
   "execution_count": 73,
   "id": "ba17627f-f75c-4b59-8dd8-f3b267b0b461",
   "metadata": {
    "execution": {
     "iopub.execute_input": "2023-05-23T16:35:48.016507Z",
     "iopub.status.busy": "2023-05-23T16:35:48.016115Z",
     "iopub.status.idle": "2023-05-23T16:35:48.065165Z",
     "shell.execute_reply": "2023-05-23T16:35:48.064718Z",
     "shell.execute_reply.started": "2023-05-23T16:35:48.016474Z"
    },
    "tags": []
   },
   "outputs": [
    {
     "data": {
      "text/plain": [
       "{'GD1': array([[ 98.14391791,  55.16165394, 218.72588186,  56.70245259,\n",
       "          -7.20064246,  -1.99122013],\n",
       "        [ 98.99359431,  54.37169044, 219.04668903,  57.61570571,\n",
       "         -10.4229537 ,  -1.67370941],\n",
       "        [ 99.17994527,  55.70858903, 217.26401385,  56.6862524 ,\n",
       "          -8.59647195,  -2.27812067],\n",
       "        ...,\n",
       "        [120.24743139,  59.18345883, 195.44671589,  57.89081912,\n",
       "          -7.49226582,  -4.86959355],\n",
       "        [120.36453267,  59.05505631, 195.35236735,  58.02346082,\n",
       "          -7.71972082,  -5.03910482],\n",
       "        [120.48531398,  59.81177971, 195.13497252,  57.27321342,\n",
       "          -9.58177464,  -5.4866737 ]])}"
      ]
     },
     "execution_count": 73,
     "metadata": {},
     "output_type": "execute_result"
    }
   ],
   "source": [
    "file[0].protostreams[0].pclist[0].ROIlist[0].knownstreams"
   ]
  },
  {
   "cell_type": "code",
   "execution_count": 69,
   "id": "608bd13b-b674-41b5-97f9-dc486cfa7629",
   "metadata": {
    "execution": {
     "iopub.execute_input": "2023-05-23T16:35:25.347476Z",
     "iopub.status.busy": "2023-05-23T16:35:25.346816Z",
     "iopub.status.idle": "2023-05-23T16:35:25.373334Z",
     "shell.execute_reply": "2023-05-23T16:35:25.372823Z",
     "shell.execute_reply.started": "2023-05-23T16:35:25.347455Z"
    }
   },
   "outputs": [
    {
     "data": {
      "text/plain": [
       "{'Gaia1': array([[298.81092982,  52.36400092, 190.30213348, -10.42587696,\n",
       "         -13.52727273, -18.86462882],\n",
       "        [294.94718032,  47.2244159 , 187.24678906, -15.29896515,\n",
       "         -14.54545455, -20.7860262 ],\n",
       "        [302.70580751,  55.25480319, 192.72946015,  -7.61671606,\n",
       "         -13.81818182, -17.6419214 ],\n",
       "        ...,\n",
       "        [294.36123224,  47.04569965, 186.81245632, -15.42312832,\n",
       "         -14.83636364, -20.08733624],\n",
       "        [301.26759732,  54.16154228, 191.8737645 ,  -8.6974633 ,\n",
       "         -14.54545455, -18.16593886],\n",
       "        [302.21775129,  54.63606487, 192.44183932,  -8.23336617,\n",
       "         -12.21818182, -17.6419214 ]])}"
      ]
     },
     "execution_count": 69,
     "metadata": {},
     "output_type": "execute_result"
    }
   ],
   "source": [
    "file[1].protostreams[0].pclist[0].ROIlist[0].knownstreams"
   ]
  },
  {
   "cell_type": "code",
   "execution_count": 70,
   "id": "19f4c398-4663-4dfb-ab20-aff23e3110bf",
   "metadata": {
    "execution": {
     "iopub.execute_input": "2023-05-23T16:35:30.939428Z",
     "iopub.status.busy": "2023-05-23T16:35:30.938506Z",
     "iopub.status.idle": "2023-05-23T16:35:30.976689Z",
     "shell.execute_reply": "2023-05-23T16:35:30.976076Z",
     "shell.execute_reply.started": "2023-05-23T16:35:30.939400Z"
    }
   },
   "outputs": [
    {
     "data": {
      "text/plain": [
       "{'Leiptr': array([[-152.37647971,  -33.00794758,   70.9366298 ,  -10.33194744,\n",
       "            8.7881189 ,  -10.60569775],\n",
       "        [-153.21197609,  -33.60520581,   70.08102624,   -9.9645975 ,\n",
       "            9.37035545,  -11.31898158],\n",
       "        [-153.28300137,  -33.32822326,   70.30708934,   -9.78958583,\n",
       "            8.89506031,  -10.96272896],\n",
       "        [-153.58617998,  -32.84242044,   70.6351144 ,   -9.34697634,\n",
       "            9.34767091,   -9.94685235],\n",
       "        [-153.86774577,  -32.45583771,   70.8787967 ,   -8.96256399,\n",
       "            9.86941535,  -11.38981805],\n",
       "        [-154.77775708,  -34.0418246 ,   69.09814845,   -8.99362082,\n",
       "            8.72026427,  -10.73301141],\n",
       "        [-157.27172462,  -34.55277944,   67.68318162,   -7.39848944,\n",
       "            8.24192557,  -10.85466371],\n",
       "        [-158.49463057,  -34.2588216 ,   67.46218474,   -6.37073952,\n",
       "            8.1227057 ,   -9.98872938],\n",
       "        [-159.00429751,  -34.83465176,   66.75112786,   -6.27942375,\n",
       "            8.43600442,  -10.91383556],\n",
       "        [-159.01368998,  -34.54604498,   67.00164979,   -6.13338998,\n",
       "            7.77613633,  -10.61069072],\n",
       "        [-160.26963036,  -35.24531025,   65.88317609,   -5.57472571,\n",
       "            8.90892308,  -10.9663961 ],\n",
       "        [-160.79858155,  -34.92545235,   65.94750367,   -5.04035289,\n",
       "            9.53076756,  -10.48341111],\n",
       "        [-161.50217018,  -35.10028126,   65.50664572,   -4.62845608,\n",
       "            9.02378607,  -10.10023848],\n",
       "        [-162.35072302,  -35.63417487,   64.69375088,   -4.30127425,\n",
       "            7.91476408,  -10.91884885],\n",
       "        [-162.93485856,  -35.09952111,   64.9101464 ,   -3.61852444,\n",
       "            8.69246575,   -9.95160834],\n",
       "        [-165.03192447,  -35.25906639,   63.87703209,   -2.24055473,\n",
       "            7.61707923,   -9.40310254],\n",
       "        [-165.65155143,  -35.02343294,   63.80576403,   -1.68631289,\n",
       "            8.76732474,  -10.02148045]])}"
      ]
     },
     "execution_count": 70,
     "metadata": {},
     "output_type": "execute_result"
    }
   ],
   "source": [
    "file[2].protostreams[0].pclist[0].ROIlist[0].knownstreams"
   ]
  },
  {
   "cell_type": "code",
   "execution_count": 54,
   "id": "e0111304-2d35-4558-b647-dbb9b8f165ec",
   "metadata": {
    "execution": {
     "iopub.execute_input": "2023-05-23T16:26:41.757852Z",
     "iopub.status.busy": "2023-05-23T16:26:41.757450Z",
     "iopub.status.idle": "2023-05-23T16:26:41.991925Z",
     "shell.execute_reply": "2023-05-23T16:26:41.991188Z",
     "shell.execute_reply.started": "2023-05-23T16:26:41.757820Z"
    }
   },
   "outputs": [
    {
     "data": {
      "text/plain": [
       "['ROIlist',\n",
       " '__class__',\n",
       " '__delattr__',\n",
       " '__dict__',\n",
       " '__dir__',\n",
       " '__doc__',\n",
       " '__eq__',\n",
       " '__format__',\n",
       " '__ge__',\n",
       " '__getattribute__',\n",
       " '__gt__',\n",
       " '__hash__',\n",
       " '__init__',\n",
       " '__init_subclass__',\n",
       " '__le__',\n",
       " '__lt__',\n",
       " '__module__',\n",
       " '__ne__',\n",
       " '__new__',\n",
       " '__reduce__',\n",
       " '__reduce_ex__',\n",
       " '__repr__',\n",
       " '__setattr__',\n",
       " '__sizeof__',\n",
       " '__str__',\n",
       " '__subclasshook__',\n",
       " '__weakref__',\n",
       " 'dec',\n",
       " 'highRstars',\n",
       " 'line_ind',\n",
       " 'line_sigma',\n",
       " 'line_stars',\n",
       " 'ra']"
      ]
     },
     "execution_count": 54,
     "metadata": {},
     "output_type": "execute_result"
    }
   ],
   "source": [
    "dir(file[0].protostreams[0].pclist[0])"
   ]
  },
  {
   "cell_type": "code",
   "execution_count": 58,
   "id": "fbeb40ea-fdc2-4191-81f1-ac0ca18b6c8e",
   "metadata": {
    "execution": {
     "iopub.execute_input": "2023-05-23T16:27:12.739659Z",
     "iopub.status.busy": "2023-05-23T16:27:12.739325Z",
     "iopub.status.idle": "2023-05-23T16:27:12.785228Z",
     "shell.execute_reply": "2023-05-23T16:27:12.784479Z",
     "shell.execute_reply.started": "2023-05-23T16:27:12.739628Z"
    },
    "tags": []
   },
   "outputs": [],
   "source": [
    "column_names = [\"μ_δ\", \"μ_α\", \"δ\", \"α\", \"b-r\", \"g\", \"ϕ\", \"λ\", \"μ_ϕcosλ\", \"μ_λ\", \"parallax\", \"parallax_err\"]\n",
    "array = file[0].protostreams[0].pclist[0].highRstars\n",
    "mask = file[0].protostreams[0].pclist[0].line_stars\n",
    "df = pd.DataFrame(array, columns = column_names)\n",
    "df[\"line_stars\"] = mask"
   ]
  },
  {
   "cell_type": "code",
   "execution_count": 56,
   "id": "43dc9ef1-eaa6-48f6-a8f9-30e81574a75f",
   "metadata": {
    "execution": {
     "iopub.execute_input": "2023-05-23T16:26:59.375422Z",
     "iopub.status.busy": "2023-05-23T16:26:59.375018Z",
     "iopub.status.idle": "2023-05-23T16:26:59.423707Z",
     "shell.execute_reply": "2023-05-23T16:26:59.422728Z",
     "shell.execute_reply.started": "2023-05-23T16:26:59.375390Z"
    }
   },
   "outputs": [
    {
     "data": {
      "text/plain": [
       "400"
      ]
     },
     "execution_count": 56,
     "metadata": {},
     "output_type": "execute_result"
    }
   ],
   "source": [
    "len(mask)"
   ]
  },
  {
   "cell_type": "code",
   "execution_count": 57,
   "id": "2d504cd4-4592-4fca-8a70-28cd7ce33725",
   "metadata": {
    "execution": {
     "iopub.execute_input": "2023-05-23T16:27:00.991708Z",
     "iopub.status.busy": "2023-05-23T16:27:00.991263Z",
     "iopub.status.idle": "2023-05-23T16:27:01.040575Z",
     "shell.execute_reply": "2023-05-23T16:27:01.039634Z",
     "shell.execute_reply.started": "2023-05-23T16:27:00.991670Z"
    }
   },
   "outputs": [
    {
     "data": {
      "text/plain": [
       "(400, 12)"
      ]
     },
     "execution_count": 57,
     "metadata": {},
     "output_type": "execute_result"
    }
   ],
   "source": [
    "df.shape"
   ]
  },
  {
   "cell_type": "code",
   "execution_count": 59,
   "id": "35527558-a25f-49e7-ab03-15ad44c635eb",
   "metadata": {
    "execution": {
     "iopub.execute_input": "2023-05-23T16:27:20.280730Z",
     "iopub.status.busy": "2023-05-23T16:27:20.280410Z",
     "iopub.status.idle": "2023-05-23T16:27:20.445347Z",
     "shell.execute_reply": "2023-05-23T16:27:20.444878Z",
     "shell.execute_reply.started": "2023-05-23T16:27:20.280706Z"
    },
    "tags": []
   },
   "outputs": [
    {
     "data": {
      "image/png": "[encoded data removed]",
      "text/plain": [
       "<Figure size 800x800 with 1 Axes>"
      ]
     },
     "metadata": {
      "needs_background": "light"
     },
     "output_type": "display_data"
    }
   ],
   "source": [
    "plt.figure(figsize=(4,4), dpi=200)\n",
    "plt.scatter(df.α, df.δ, marker='.');\n",
    "plt.scatter(df[df.line_stars].α, df[df.line_stars].δ, marker='.');"
   ]
  },
  {
   "cell_type": "markdown",
   "id": "d6e72bf6-ea85-4823-aea0-76aabbd43c7a",
   "metadata": {},
   "source": [
    "Which SR did this come from?"
   ]
  },
  {
   "cell_type": "code",
   "execution_count": 60,
   "id": "32e87397-98ac-41cc-a886-037d76b7d6f9",
   "metadata": {
    "execution": {
     "iopub.execute_input": "2023-05-23T16:28:32.801382Z",
     "iopub.status.busy": "2023-05-23T16:28:32.800484Z",
     "iopub.status.idle": "2023-05-23T16:28:33.056442Z",
     "shell.execute_reply": "2023-05-23T16:28:33.055970Z",
     "shell.execute_reply.started": "2023-05-23T16:28:32.801355Z"
    }
   },
   "outputs": [
    {
     "data": {
      "text/plain": [
       "[<via_machinae.ROI at 0x7feed3aaf5e0>,\n",
       " <via_machinae.ROI at 0x7feed3aaff10>,\n",
       " <via_machinae.ROI at 0x7feed399beb0>,\n",
       " <via_machinae.ROI at 0x7feed399bc10>]"
      ]
     },
     "execution_count": 60,
     "metadata": {},
     "output_type": "execute_result"
    }
   ],
   "source": [
    "file[0].protostreams[0].pclist[0].ROIlist"
   ]
  },
  {
   "cell_type": "code",
   "execution_count": 61,
   "id": "e5ffac9a-0049-421a-b072-9fd820794f70",
   "metadata": {
    "execution": {
     "iopub.execute_input": "2023-05-23T16:28:41.644476Z",
     "iopub.status.busy": "2023-05-23T16:28:41.643694Z",
     "iopub.status.idle": "2023-05-23T16:28:41.680995Z",
     "shell.execute_reply": "2023-05-23T16:28:41.680524Z",
     "shell.execute_reply.started": "2023-05-23T16:28:41.644435Z"
    }
   },
   "outputs": [
    {
     "data": {
      "text/plain": [
       "['Rvals',\n",
       " '__class__',\n",
       " '__delattr__',\n",
       " '__dict__',\n",
       " '__dir__',\n",
       " '__doc__',\n",
       " '__eq__',\n",
       " '__format__',\n",
       " '__ge__',\n",
       " '__getattribute__',\n",
       " '__gt__',\n",
       " '__hash__',\n",
       " '__init__',\n",
       " '__init_subclass__',\n",
       " '__le__',\n",
       " '__lt__',\n",
       " '__module__',\n",
       " '__ne__',\n",
       " '__new__',\n",
       " '__reduce__',\n",
       " '__reduce_ex__',\n",
       " '__repr__',\n",
       " '__setattr__',\n",
       " '__sizeof__',\n",
       " '__str__',\n",
       " '__subclasshook__',\n",
       " '__weakref__',\n",
       " 'b',\n",
       " 'counts',\n",
       " 'dataset',\n",
       " 'dec',\n",
       " 'fitresults',\n",
       " 'gcresults',\n",
       " 'gd1stars_mask',\n",
       " 'highRstars',\n",
       " 'knownstreams',\n",
       " 'l',\n",
       " 'line_r',\n",
       " 'line_sigma',\n",
       " 'line_theta',\n",
       " 'linestars',\n",
       " 'pmlat',\n",
       " 'pmlon',\n",
       " 'pmuse',\n",
       " 'ra',\n",
       " 'sourceids']"
      ]
     },
     "execution_count": 61,
     "metadata": {},
     "output_type": "execute_result"
    }
   ],
   "source": [
    "dir(file[0].protostreams[0].pclist[0].ROIlist[0])"
   ]
  },
  {
   "cell_type": "code",
   "execution_count": 62,
   "id": "458323e9-002f-4883-8664-4fa35768a6ba",
   "metadata": {
    "execution": {
     "iopub.execute_input": "2023-05-23T16:28:49.824761Z",
     "iopub.status.busy": "2023-05-23T16:28:49.824431Z",
     "iopub.status.idle": "2023-05-23T16:28:49.861841Z",
     "shell.execute_reply": "2023-05-23T16:28:49.861137Z",
     "shell.execute_reply.started": "2023-05-23T16:28:49.824736Z"
    }
   },
   "outputs": [
    {
     "data": {
      "text/plain": [
       "-8"
      ]
     },
     "execution_count": 62,
     "metadata": {},
     "output_type": "execute_result"
    }
   ],
   "source": [
    "file[0].protostreams[0].pclist[0].ROIlist[0].pmlat # lower edge of SR\n",
    "# so SR = this + 6"
   ]
  },
  {
   "cell_type": "code",
   "execution_count": 63,
   "id": "ca7b9c95-9e03-45bf-a4ab-413eeee57440",
   "metadata": {
    "execution": {
     "iopub.execute_input": "2023-05-23T16:29:13.552007Z",
     "iopub.status.busy": "2023-05-23T16:29:13.551676Z",
     "iopub.status.idle": "2023-05-23T16:29:13.587810Z",
     "shell.execute_reply": "2023-05-23T16:29:13.586859Z",
     "shell.execute_reply.started": "2023-05-23T16:29:13.551981Z"
    }
   },
   "outputs": [
    {
     "data": {
      "text/plain": [
       "-12.0"
      ]
     },
     "execution_count": 63,
     "metadata": {},
     "output_type": "execute_result"
    }
   ],
   "source": [
    "file[0].protostreams[0].pclist[0].ROIlist[0].pmlon # lower edge of SR\n",
    "# so SR = this + 6"
   ]
  },
  {
   "cell_type": "code",
   "execution_count": 64,
   "id": "6a49ec42-feea-475c-bcf4-785e23d31612",
   "metadata": {
    "execution": {
     "iopub.execute_input": "2023-05-23T16:29:35.517700Z",
     "iopub.status.busy": "2023-05-23T16:29:35.517464Z",
     "iopub.status.idle": "2023-05-23T16:29:35.734771Z",
     "shell.execute_reply": "2023-05-23T16:29:35.734090Z",
     "shell.execute_reply.started": "2023-05-23T16:29:35.517684Z"
    }
   },
   "outputs": [
    {
     "data": {
      "text/plain": [
       "'lon'"
      ]
     },
     "execution_count": 64,
     "metadata": {},
     "output_type": "execute_result"
    }
   ],
   "source": [
    "file[0].protostreams[0].pclist[0].ROIlist[0].pmuse # which one was used for ANODE"
   ]
  },
  {
   "cell_type": "code",
   "execution_count": 37,
   "id": "2792e1bf-b115-4a43-9f7e-cc13b5e33e6b",
   "metadata": {
    "execution": {
     "iopub.execute_input": "2023-05-23T16:21:46.310254Z",
     "iopub.status.busy": "2023-05-23T16:21:46.309606Z",
     "iopub.status.idle": "2023-05-23T16:21:46.343903Z",
     "shell.execute_reply": "2023-05-23T16:21:46.343418Z",
     "shell.execute_reply.started": "2023-05-23T16:21:46.310229Z"
    }
   },
   "outputs": [
    {
     "data": {
      "text/plain": [
       "4"
      ]
     },
     "execution_count": 37,
     "metadata": {},
     "output_type": "execute_result"
    }
   ],
   "source": [
    "len(file[0].protostreams[0].pclist[0].ROIlist) # n_ROIs"
   ]
  },
  {
   "cell_type": "code",
   "execution_count": 22,
   "id": "b0854591-044a-4d12-9a5c-f89ac252c701",
   "metadata": {
    "execution": {
     "iopub.execute_input": "2023-05-23T16:15:09.710422Z",
     "iopub.status.busy": "2023-05-23T16:15:09.709861Z",
     "iopub.status.idle": "2023-05-23T16:15:09.899638Z",
     "shell.execute_reply": "2023-05-23T16:15:09.898606Z",
     "shell.execute_reply.started": "2023-05-23T16:15:09.710389Z"
    }
   },
   "outputs": [
    {
     "data": {
      "text/plain": [
       "83.0399509445921"
      ]
     },
     "execution_count": 22,
     "metadata": {},
     "output_type": "execute_result"
    }
   ],
   "source": [
    "file[0].significance"
   ]
  },
  {
   "cell_type": "code",
   "execution_count": 24,
   "id": "72ca1e87-051c-4eb3-aa76-8eb251c6df78",
   "metadata": {
    "execution": {
     "iopub.execute_input": "2023-05-23T16:15:28.505511Z",
     "iopub.status.busy": "2023-05-23T16:15:28.504869Z",
     "iopub.status.idle": "2023-05-23T16:15:28.554291Z",
     "shell.execute_reply": "2023-05-23T16:15:28.553120Z",
     "shell.execute_reply.started": "2023-05-23T16:15:28.505476Z"
    },
    "tags": []
   },
   "outputs": [
    {
     "data": {
      "text/plain": [
       "[83.0399509445921,\n",
       " 46.92090963721899,\n",
       " 29.181897257000408,\n",
       " 29.07226013879935,\n",
       " 22.62939369336437,\n",
       " 22.485027814435725,\n",
       " 19.854865921306626,\n",
       " 17.344789618612396,\n",
       " 16.82911791365057,\n",
       " 16.564889504563066,\n",
       " 14.687178322069055,\n",
       " 14.67926289345861,\n",
       " 13.856950180434712,\n",
       " 13.72188132697383,\n",
       " 13.522154801806222,\n",
       " 13.097719867861972,\n",
       " 12.990222013156759,\n",
       " 12.435425248993992,\n",
       " 12.413316419770466,\n",
       " 12.197071362280235,\n",
       " 11.886290595455327,\n",
       " 11.60135391318026,\n",
       " 11.193807346297298,\n",
       " 11.061017608432262,\n",
       " 10.610383940632268,\n",
       " 10.499752071334017,\n",
       " 10.46058093463384,\n",
       " 10.437590566203081,\n",
       " 10.340019255189008,\n",
       " 10.338634334106699,\n",
       " 10.214437868307808,\n",
       " 10.178201004353278,\n",
       " 10.149439838466561,\n",
       " 10.116771025196455,\n",
       " 10.06610363596783,\n",
       " 10.010780810339861,\n",
       " 9.824318666675653,\n",
       " 9.804702111587398,\n",
       " 9.796566417650599,\n",
       " 9.784355707782622,\n",
       " 9.762552341845444,\n",
       " 9.762142511012144,\n",
       " 9.758470375037977,\n",
       " 9.741427976371659,\n",
       " 9.68043825277145,\n",
       " 9.675427226289914,\n",
       " 9.634469923642994,\n",
       " 9.565860445581663,\n",
       " 9.548808284215948,\n",
       " 9.546461364594867,\n",
       " 9.540366247681227,\n",
       " 9.5136226213345,\n",
       " 9.494186796810466,\n",
       " 9.491974081281718,\n",
       " 9.479010910597994,\n",
       " 9.472051546675756,\n",
       " 9.46706549397802,\n",
       " 9.465466621377857,\n",
       " 9.434745387425036,\n",
       " 9.420556832696645,\n",
       " 9.411751596035105,\n",
       " 9.375707154001987,\n",
       " 9.322453953251193,\n",
       " 9.312187068330338,\n",
       " 9.303731725923173,\n",
       " 9.302744501513692,\n",
       " 9.248263136750358,\n",
       " 9.234790792802318,\n",
       " 9.225888794562358,\n",
       " 9.216014493996356,\n",
       " 9.20290352793192,\n",
       " 9.192277801596425,\n",
       " 9.174364350735713,\n",
       " 9.164625262609107,\n",
       " 9.152946145054775,\n",
       " 9.150778146856444,\n",
       " 9.12117722766512,\n",
       " 9.102673635061103,\n",
       " 9.091164262562605,\n",
       " 9.089748918835395,\n",
       " 9.078067885275969,\n",
       " 9.074822001965837,\n",
       " 9.066643186579862,\n",
       " 9.063711542388422,\n",
       " 9.063015148183338,\n",
       " 9.046225091621533,\n",
       " 9.044849908115317,\n",
       " 9.036806406316908,\n",
       " 9.02310973280293,\n",
       " 9.000867837141826,\n",
       " 8.991929241685702,\n",
       " 8.985420144151911,\n",
       " 8.97814413032195,\n",
       " 8.972304216805398,\n",
       " 8.964709928092429,\n",
       " 8.943682564674097,\n",
       " 8.943322759112695,\n",
       " 8.931712770696182,\n",
       " 8.92159883561323,\n",
       " 8.89006232949621,\n",
       " 8.87914767877905,\n",
       " 8.86501750998363,\n",
       " 8.84594802074185,\n",
       " 8.838810183235797,\n",
       " 8.832542610714404,\n",
       " 8.820733045089945,\n",
       " 8.807363443148027,\n",
       " 8.802791653927654,\n",
       " 8.798321931817968,\n",
       " 8.789344765849634,\n",
       " 8.782897035076964,\n",
       " 8.782247487080683,\n",
       " 8.77603233978488,\n",
       " 8.767786157465997,\n",
       " 8.75794086130802,\n",
       " 8.748290946257297,\n",
       " 8.74701659828651,\n",
       " 8.743854229598545,\n",
       " 8.737820259826533,\n",
       " 8.72410355034172,\n",
       " 8.722416130346504,\n",
       " 8.721454575731672,\n",
       " 8.719028206577628,\n",
       " 8.718838286983482,\n",
       " 8.7165956474974,\n",
       " 8.707996789203722,\n",
       " 8.702964296019918,\n",
       " 8.677187650522303,\n",
       " 8.671601306128125,\n",
       " 8.669902376911024,\n",
       " 8.664478282776813,\n",
       " 8.663640722003693,\n",
       " 8.650857520521193,\n",
       " 8.638816448760096,\n",
       " 8.635019577782097,\n",
       " 8.629039319802873,\n",
       " 8.620811657662742,\n",
       " 8.597525094322346,\n",
       " 8.594782830349834,\n",
       " 8.594216965551219,\n",
       " 8.575861033805332,\n",
       " 8.57545119426887,\n",
       " 8.575026108131262,\n",
       " 8.574959465069984,\n",
       " 8.563950476484724,\n",
       " 8.554023651159328,\n",
       " 8.547185951540431,\n",
       " 8.545132126191834,\n",
       " 8.544319562408868,\n",
       " 8.540523887132208,\n",
       " 8.538674406916236,\n",
       " 8.529091252138022,\n",
       " 8.514873108284531,\n",
       " 8.500446588342792,\n",
       " 8.492849674321768,\n",
       " 8.47754430249669,\n",
       " 8.476177197399098,\n",
       " 8.474361232983066,\n",
       " 8.469049233746588,\n",
       " 8.464753116149234,\n",
       " 8.464751909452264,\n",
       " 8.46009242218588,\n",
       " 8.456613633567752,\n",
       " 8.4420798385726,\n",
       " 8.440457949527273,\n",
       " 8.435101220638185,\n",
       " 8.434049113461421,\n",
       " 8.413537466137846,\n",
       " 8.405770852050864,\n",
       " 8.393715901931056,\n",
       " 8.390105082242615,\n",
       " 8.389945373753779,\n",
       " 8.381850374990915,\n",
       " 8.374087514570833,\n",
       " 8.360571201989389,\n",
       " 8.344732113077107,\n",
       " 8.335594949078006,\n",
       " 8.331629394302412,\n",
       " 8.32379250146294,\n",
       " 8.3214670272617,\n",
       " 8.317132335942425,\n",
       " 8.316342385855807,\n",
       " 8.308797157247028,\n",
       " 8.302824215254283,\n",
       " 8.295750609428639,\n",
       " 8.291781315259772,\n",
       " 8.287207943802178,\n",
       " 8.278563206226206,\n",
       " 8.276222306183982,\n",
       " 8.27553102126934,\n",
       " 8.274793226232486,\n",
       " 8.273403571360296,\n",
       " 8.273392193613587,\n",
       " 8.270889439753743,\n",
       " 8.270750349124798,\n",
       " 8.268042266985304,\n",
       " 8.25160592552175,\n",
       " 8.247560042572411,\n",
       " 8.239972668271026,\n",
       " 8.2257921767179,\n",
       " 8.22527988643149,\n",
       " 8.225221936508403,\n",
       " 8.220365503273497,\n",
       " 8.213304520884606,\n",
       " 8.205563935917986,\n",
       " 8.204350279128372,\n",
       " 8.196525570734007,\n",
       " 8.196125049076837,\n",
       " 8.195954210501565,\n",
       " 8.194554980234436,\n",
       " 8.191507857485494,\n",
       " 8.1902098309019,\n",
       " 8.187764450299062,\n",
       " 8.18368905001332,\n",
       " 8.178869069873214,\n",
       " 8.178333153140693,\n",
       " 8.176765334111673,\n",
       " 8.170452296807765,\n",
       " 8.162840995545231,\n",
       " 8.15458020019459,\n",
       " 8.147219757810666,\n",
       " 8.146378119755541,\n",
       " 8.142217228221803,\n",
       " 8.136974832754225,\n",
       " 8.129969887134093,\n",
       " 8.121143288749636,\n",
       " 8.118197501854437,\n",
       " 8.117949762925194,\n",
       " 8.117881841732613,\n",
       " 8.114782390056499,\n",
       " 8.102083675621344,\n",
       " 8.089394746297927,\n",
       " 8.086514617629925,\n",
       " 8.080649424135338,\n",
       " 8.078964125822404,\n",
       " 8.074853885775944,\n",
       " 8.07109680508039,\n",
       " 8.069432508691381,\n",
       " 8.066906102650416,\n",
       " 8.063629491766772,\n",
       " 8.054961475644163,\n",
       " 8.053862193710206,\n",
       " 8.052339726597184,\n",
       " 8.049691602415498,\n",
       " 8.04908094158469,\n",
       " 8.048094134613306,\n",
       " 8.044851344875452,\n",
       " 8.044461117025724,\n",
       " 8.033239062509262,\n",
       " 8.03303809733945,\n",
       " 8.031601357191612,\n",
       " 8.02632692648759,\n",
       " 8.026103247393536,\n",
       " 8.025077166249583,\n",
       " 8.024813386214156,\n",
       " 8.021798244952926,\n",
       " 8.014235543263403,\n",
       " 8.013770108993652,\n",
       " 8.013275580103647,\n",
       " 8.00958164293923,\n",
       " 8.008164042616198,\n",
       " 8.008155880304324,\n",
       " 8.007514777113304]"
      ]
     },
     "execution_count": 24,
     "metadata": {},
     "output_type": "execute_result"
    }
   ],
   "source": [
    "[f.significance for f in file]"
   ]
  },
  {
   "cell_type": "code",
   "execution_count": null,
   "id": "2b9390a4-d93c-49fa-a894-32c4fa09a133",
   "metadata": {},
   "outputs": [],
   "source": []
  }
 ],
 "metadata": {
  "kernelspec": {
   "display_name": "gaia_gpu",
   "language": "python",
   "name": "gaia_gpu"
  },
  "language_info": {
   "codemirror_mode": {
    "name": "ipython",
    "version": 3
   },
   "file_extension": ".py",
   "mimetype": "text/x-python",
   "name": "python",
   "nbconvert_exporter": "python",
   "pygments_lexer": "ipython3",
   "version": "3.8.13"
  }
 },
 "nbformat": 4,
 "nbformat_minor": 5
}
